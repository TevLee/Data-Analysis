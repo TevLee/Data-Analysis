{
 "cells": [
  {
   "cell_type": "code",
   "execution_count": null,
   "source": [
    "def FilenameFunc(date):\r\n",
    "    day = str(date.day) \r\n",
    "    month = str(date.month)\r\n",
    "    year = str(date.year)\r\n",
    "    if len(str(date.day)) <= 1 : day = \"0\"+day \r\n",
    "    if len(str(date.month)) <= 1 : month = \"0\"+ month      \r\n",
    "    return month+\"-\"+day+\"-\"+year+\".csv\""
   ],
   "outputs": [],
   "metadata": {}
  },
  {
   "cell_type": "code",
   "execution_count": null,
   "source": [
    "# 날짜별 데이터 크롤링 해서 확진자수(Confirmed)와 사망자수(Deaths) 시각화\r\n",
    "# 일단 대한민국 먼저\r\n",
    "filename =\"\"\r\n",
    "start_date = pd.to_datetime(\"01-22-2020\") ## 시작 날짜\r\n",
    "end_date = pd.to_datetime(\"02-11-2020\") ## 마지막 날짜\r\n",
    "dates = pd.date_range(start_date,end_date,freq='D')\r\n",
    "\r\n",
    "korea_raw_data = []\r\n",
    "for i in range(len(dates)):\r\n",
    "    filename = FilenameFunc(dates[i])\r\n",
    "    tmp_file = pd.read_csv(\"./csse_covid_19_data/csse_covid_19_daily_reports/\"+filename)\r\n",
    "    ##tmp_file[tmp_file[\"Country_Region\"]==\"Korea, South\"]\r\n",
    "    #tmp_file.loc[:,\"Country_Region\"]\r\n",
    "#tmp_file = pd.read_csv(\"./csse_covid_19_daily_reports/\"+filename)\r\n",
    "tmp_file.hebad()"
   ],
   "outputs": [],
   "metadata": {}
  },
  {
   "cell_type": "code",
   "execution_count": null,
   "source": [
    "# \r\n",
    "deaths = pd.read_csv(\"C:/Users/82103/Desktop/an/time_series_covid19_deaths_global.csv\")\r\n",
    "korea_deaths = deaths[deaths[\"Country/Region\"] == \"Korea, South\"]\r\n",
    "korea_deaths"
   ],
   "outputs": [],
   "metadata": {}
  }
 ],
 "metadata": {
  "orig_nbformat": 4,
  "language_info": {
   "name": "python",
   "version": "3.8.11"
  },
  "kernelspec": {
   "name": "python3",
   "display_name": "Python 3.8.11 64-bit ('ds_study': conda)"
  },
  "interpreter": {
   "hash": "d8192d1526d22653b4040b7ed404c33aff51a56366fc1a63d634c0af7b796663"
  }
 },
 "nbformat": 4,
 "nbformat_minor": 2
}