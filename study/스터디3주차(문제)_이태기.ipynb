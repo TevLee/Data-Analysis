{
 "cells": [
  {
   "cell_type": "code",
   "execution_count": null,
   "source": [
    "# 올림픽 20회 ~ 27회까지 역대 순위 데이터 다루기\r\n",
    "# url : https://gsic.sports.or.kr/com/cop/game/game_info.do?partCode=1&gameCode=27 (회차별로 20~27)\r\n"
   ],
   "outputs": [],
   "metadata": {}
  },
  {
   "cell_type": "code",
   "execution_count": null,
   "source": [
    "# 1) url에서 27회 메인페이지 불러와서 출력해본다.\r\n",
    "## response.status 가 200임을 확인해본다."
   ],
   "outputs": [],
   "metadata": {}
  },
  {
   "cell_type": "code",
   "execution_count": 1,
   "source": [
    "# 2) 1위~10위 국가의 정보를 \"rank\" \"nation\" \"gold\" \"silver\" \"bronze\" \"total\"을 각각 가져와본다."
   ],
   "outputs": [],
   "metadata": {}
  },
  {
   "cell_type": "code",
   "execution_count": 2,
   "source": [
    "# 3) 각 정보의 길이 10개인지 확인"
   ],
   "outputs": [],
   "metadata": {}
  },
  {
   "cell_type": "code",
   "execution_count": 3,
   "source": [
    "# 4) 반복문에서 url 수정을 통해 자동으로 정보를 얻어와본다.\r\n",
    "## tqdm으로 진행률 체크\r\n",
    "## 20~27까지 url 포맷 변경해서 자동화\r\n",
    "## tr td 속성 가져오기"
   ],
   "outputs": [],
   "metadata": {}
  },
  {
   "cell_type": "code",
   "execution_count": 4,
   "source": [
    "# 5) 각 리스트 길이 확인"
   ],
   "outputs": [],
   "metadata": {}
  },
  {
   "cell_type": "code",
   "execution_count": 5,
   "source": [
    "# 6) 얻은 정보로 data라는 변수명의 데이터프레임생성"
   ],
   "outputs": [],
   "metadata": {}
  },
  {
   "cell_type": "code",
   "execution_count": 6,
   "source": [
    "# 7) 금은동 합계 int형으로 수정\r\n",
    "## info확인"
   ],
   "outputs": [],
   "metadata": {}
  },
  {
   "cell_type": "code",
   "execution_count": 7,
   "source": [
    "# 8) 그래프 그릴 수 있게 import 및 전처리코드작성"
   ],
   "outputs": [],
   "metadata": {}
  },
  {
   "cell_type": "code",
   "execution_count": 8,
   "source": [
    "# 09) 데이터를 바탕으로 \"회차\",\"순위\"를 인덱스 / 나머지를 결과로 하는 pivot_table을 구한다."
   ],
   "outputs": [],
   "metadata": {}
  },
  {
   "cell_type": "code",
   "execution_count": 9,
   "source": [
    "# 10) 미국의 회차별 순위 및 메달변동"
   ],
   "outputs": [],
   "metadata": {}
  },
  {
   "cell_type": "code",
   "execution_count": 10,
   "source": [
    "# 11) \"회차\"를 인덱스로, \"국가\"를 컬럼으로, \"순위\"를 값으로 하는 pivot_table을 그린다."
   ],
   "outputs": [],
   "metadata": {}
  },
  {
   "cell_type": "code",
   "execution_count": 11,
   "source": [
    "# 12) 국가당 회차별 순위 변동그래프를 그린다."
   ],
   "outputs": [],
   "metadata": {}
  }
 ],
 "metadata": {
  "orig_nbformat": 4,
  "language_info": {
   "name": "python",
   "version": "3.8.11",
   "mimetype": "text/x-python",
   "codemirror_mode": {
    "name": "ipython",
    "version": 3
   },
   "pygments_lexer": "ipython3",
   "nbconvert_exporter": "python",
   "file_extension": ".py"
  },
  "kernelspec": {
   "name": "python3",
   "display_name": "Python 3.8.11 64-bit ('ds_study': conda)"
  },
  "interpreter": {
   "hash": "d8192d1526d22653b4040b7ed404c33aff51a56366fc1a63d634c0af7b796663"
  }
 },
 "nbformat": 4,
 "nbformat_minor": 2
}