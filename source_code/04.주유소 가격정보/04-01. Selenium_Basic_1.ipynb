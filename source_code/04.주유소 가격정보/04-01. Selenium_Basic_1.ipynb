{
 "cells": [
  {
   "cell_type": "code",
   "execution_count": null,
   "source": [
    "# Selenium 기초"
   ],
   "outputs": [],
   "metadata": {}
  },
  {
   "cell_type": "code",
   "execution_count": 2,
   "source": [
    "from selenium import webdriver\r\n",
    "\r\n",
    "driver = webdriver.Chrome(\"../driver/chromedriver.exe\")\r\n",
    "driver.get(\"https://pinkwink.kr/\")# get 명령으로 접근하고 싶은 주소 지정"
   ],
   "outputs": [],
   "metadata": {}
  },
  {
   "cell_type": "code",
   "execution_count": 7,
   "source": [
    "# 현재 브라우저 창 크기\r\n",
    "driver.get_window_size() "
   ],
   "outputs": [
    {
     "output_type": "execute_result",
     "data": {
      "text/plain": [
       "{'width': 974, 'height': 1047}"
      ]
     },
     "metadata": {},
     "execution_count": 7
    }
   ],
   "metadata": {}
  },
  {
   "cell_type": "code",
   "execution_count": 8,
   "source": [
    "driver.get_window_position()"
   ],
   "outputs": [
    {
     "output_type": "execute_result",
     "data": {
      "text/plain": [
       "{'x': -1927, 'y': 0}"
      ]
     },
     "metadata": {},
     "execution_count": 8
    }
   ],
   "metadata": {}
  },
  {
   "cell_type": "code",
   "execution_count": 9,
   "source": [
    "driver.get_window_rect()"
   ],
   "outputs": [
    {
     "output_type": "execute_result",
     "data": {
      "text/plain": [
       "{'height': 1047, 'width': 974, 'x': -1927, 'y': 0}"
      ]
     },
     "metadata": {},
     "execution_count": 9
    }
   ],
   "metadata": {}
  },
  {
   "cell_type": "code",
   "execution_count": 11,
   "source": [
    "#스크롤 가능한 높이(길이)\r\n",
    "# 자바스크립트 코드를 실행\r\n",
    "driver.execute_script(\"return document.body.scrollHeight\") #최대높이\r\n",
    "# 드라이버가 인식하는 가장 아래의 좌표값 반환"
   ],
   "outputs": [
    {
     "output_type": "execute_result",
     "data": {
      "text/plain": [
       "2697"
      ]
     },
     "metadata": {},
     "execution_count": 11
    }
   ],
   "metadata": {}
  },
  {
   "cell_type": "code",
   "execution_count": 13,
   "source": [
    "#화면 스크롤 \r\n",
    "driver.execute_script(\"window.scrollTo(0, document.body.scrollHeight);\")"
   ],
   "outputs": [],
   "metadata": {}
  },
  {
   "cell_type": "code",
   "execution_count": 14,
   "source": [
    "#화면 스크롤 상단 이동 \r\n",
    "driver.execute_script(\"window.scrollTo(0, 0);\")"
   ],
   "outputs": [],
   "metadata": {}
  },
  {
   "cell_type": "code",
   "execution_count": 15,
   "source": [
    "# 스크린샷 저장\r\n",
    "## 화면을 띄우지 않고 selenium 사용시에 현재 어떤 화면인지 확인 할 수 있음\r\n",
    "driver.save_screenshot(\"./last_height.png\")"
   ],
   "outputs": [
    {
     "output_type": "execute_result",
     "data": {
      "text/plain": [
       "True"
      ]
     },
     "metadata": {},
     "execution_count": 15
    }
   ],
   "metadata": {}
  },
  {
   "cell_type": "code",
   "execution_count": 22,
   "source": [
    "# 특정 태그 지점까지 스크롤 하는 코드\r\n",
    "from selenium.webdriver import ActionChains\r\n",
    "\r\n",
    "# 개발자도구에서 원하는 element 선택...\r\n",
    "some_tag = driver.find_element_by_xpath('//*[@id=\"content\"]/article[9]/div/div/div/div/a/h3')\r\n",
    "## 위가 낯설면...\r\n",
    "### some_tag = driver.find_element_by_css_selector('#content > div')\r\n",
    "action = ActionChains(driver)\r\n",
    "action.move_to_element(some_tag).perform()"
   ],
   "outputs": [],
   "metadata": {}
  },
  {
   "cell_type": "code",
   "execution_count": 35,
   "source": [
    "# 입력 창에 글자 넣기\r\n",
    "## 화면에 보이지 않으면 어떠한 액션을 취할 수 없습니다.\r\n",
    "## 화면에 검색창이 안보이면 error 뜸!!\r\n",
    "driver.maximize_window()\r\n",
    "some_tag = driver.find_element_by_id(\"gsc-i-id1\")\r\n",
    "some_tag.send_keys(\"data science\")\r\n",
    "\r\n",
    "# 초기화 후, 새로입력\r\n",
    "some_tag.clear()\r\n",
    "some_tag.send_keys(\"2nd input\")"
   ],
   "outputs": [],
   "metadata": {}
  },
  {
   "cell_type": "code",
   "execution_count": 30,
   "source": [
    "# 브라우저 창 크기 ㅣ조절\r\n",
    "# 현재 보이는 화면에서만 액션을 취할 수 있음\r\n",
    "driver.set_window_size(1920,1080) # 특정사이즈로"
   ],
   "outputs": [],
   "metadata": {}
  },
  {
   "cell_type": "code",
   "execution_count": 33,
   "source": [
    "# 특정 값이 아닌 최대화\r\n",
    "driver.maximize_window()\r\n",
    "# 최소화\r\n",
    "##driver.minimize_window()"
   ],
   "outputs": [],
   "metadata": {}
  },
  {
   "cell_type": "markdown",
   "source": [
    "---"
   ],
   "metadata": {}
  },
  {
   "cell_type": "markdown",
   "source": [
    "# Xpath 설명\r\n",
    "- //: 최상위 엘리먼트 \r\n",
    "- \\* :  자손 태그 검색 => div form     # id가 ___gcse_0인 태그 검색\r\n",
    "- / : 자식 태그 검색 => div > form     # 꺽쇄 = 자식태그\r\n",
    "- td[2] : td 태그 중에서 2번째 태그 선택 => (css에서는) td:nth_child(2)"
   ],
   "metadata": {}
  },
  {
   "cell_type": "markdown",
   "source": [
    "## (Selenium) find_element\r\n",
    "- find_element_by_css_selector => (BeautifulSoup) find, select_one\r\n",
    "- find_elements_by_css_selector => (BeautifulSoup) findAll, find_all , select"
   ],
   "metadata": {}
  },
  {
   "cell_type": "code",
   "execution_count": 36,
   "source": [
    "# 검색한 내용 검색 버튼 누르기\r\n",
    "# 검색버튼의 xpath\r\n",
    "xpath ='//*[@id=\"___gcse_0\"]/div/form/table/tbody/tr/td[2]/button'\r\n",
    "some_tag = driver.find_element_by_xpath(xpath)\r\n",
    "some_tag.click()"
   ],
   "outputs": [],
   "metadata": {}
  },
  {
   "cell_type": "code",
   "execution_count": 41,
   "source": [
    "# 검색버튼을 css로 찾기\r\n",
    "css = \"#___gcse_0 > div > form > table > tbody > tr > td:nth-child(2) > button\" # td[2] == td:nth-child(2)\r\n",
    "some_tag = driver.find_element_by_css_selector(css)\r\n",
    "some_tag.click()"
   ],
   "outputs": [],
   "metadata": {}
  },
  {
   "cell_type": "code",
   "execution_count": 37,
   "source": [
    "#뒤로가기\r\n",
    "driver.back()\r\n",
    "#앞으로가기\r\n",
    "## driver.forward()"
   ],
   "outputs": [],
   "metadata": {}
  },
  {
   "cell_type": "code",
   "execution_count": 45,
   "source": [
    "from bs4 import BeautifulSoup\r\n",
    "## dirver.page_source :  현재 driver 페이지의 url (str형)\r\n",
    "req = driver.page_source\r\n",
    "soup = BeautifulSoup(req,\"html.parser\")"
   ],
   "outputs": [],
   "metadata": {}
  },
  {
   "cell_type": "code",
   "execution_count": 57,
   "source": [
    "elements = soup.select('#___gcse_0 > div > div > div > div.gsc-wrapper > div.gsc-resultsbox-visible > div > div > div.gsc-expansionArea > div:nth-child(8) > div.gs-webResult.gs-result > div.gsc-thumbnail-inside > div > a')\r\n",
    "len(elements)"
   ],
   "outputs": [
    {
     "output_type": "execute_result",
     "data": {
      "text/plain": [
       "[]"
      ]
     },
     "metadata": {},
     "execution_count": 57
    }
   ],
   "metadata": {}
  },
  {
   "cell_type": "code",
   "execution_count": null,
   "source": [],
   "outputs": [],
   "metadata": {}
  }
 ],
 "metadata": {
  "orig_nbformat": 4,
  "language_info": {
   "name": "python",
   "version": "3.8.11",
   "mimetype": "text/x-python",
   "codemirror_mode": {
    "name": "ipython",
    "version": 3
   },
   "pygments_lexer": "ipython3",
   "nbconvert_exporter": "python",
   "file_extension": ".py"
  },
  "kernelspec": {
   "name": "python3",
   "display_name": "Python 3.8.11 64-bit ('ds_study': conda)"
  },
  "interpreter": {
   "hash": "d8192d1526d22653b4040b7ed404c33aff51a56366fc1a63d634c0af7b796663"
  }
 },
 "nbformat": 4,
 "nbformat_minor": 2
}