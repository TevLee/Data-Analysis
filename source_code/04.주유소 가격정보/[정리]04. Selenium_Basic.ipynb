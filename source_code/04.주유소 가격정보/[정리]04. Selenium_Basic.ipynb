{
 "cells": [
  {
   "cell_type": "code",
   "execution_count": null,
   "source": [
    "#selenium 라이브러리에서 webdriver 모듈을 가져와서\r\n",
    "from selenium import webdriver \r\n",
    "# webdriver로 chromedriver를 실행한 객체를 \r\n",
    "# driver라는 변수에 할당한다\r\n",
    "driver = webdriver.Chrome(\"../driver/chromedriver.exe\") \r\n",
    "# chromedriver로 가져온 객체를 가지고\r\n",
    "# get()으로 원하는 url 주소 지정하여 웹페이지를 연다\r\n",
    "driver.get(\"https://pinkwink.kr/\")"
   ],
   "outputs": [],
   "metadata": {}
  },
  {
   "cell_type": "code",
   "execution_count": null,
   "source": [
    "# 브라우저 창 조절 - 1\r\n",
    "driver.get_window_size() #현재 브라우저 창 크기\r\n",
    "driver.get_window_position() #현재 브라우저 위치 (좌측 상단 기준)\r\n",
    "driver.get_window_rect() # 크기와 위치를 순서대로 보여줌"
   ],
   "outputs": [],
   "metadata": {}
  },
  {
   "cell_type": "code",
   "execution_count": null,
   "source": [
    "# 브라우저 창 조절 - 2\r\n",
    "# Javascript 코드로 실행\r\n",
    "driver.execute_script(\"return document.body.scrollHeight\") # 화면 세로로 최대크기로\r\n",
    "# 스크롤을\r\n",
    "driver.execute_script(\"window.scrollTo(0, document.body.scrollHeight);\") # 가장 아래로\r\n",
    "driver.execute_script(\"window.scrollTo(0,0)\") # 가장 위로"
   ],
   "outputs": [],
   "metadata": {}
  },
  {
   "cell_type": "code",
   "execution_count": null,
   "source": [
    "#최소화\r\n",
    "driver.minimize_window()\r\n",
    "#최대화\r\n",
    "driver.maximize_window()\r\n",
    "# 특정사이즈로\r\n",
    "driver.set_window_size(1920,1080) "
   ],
   "outputs": [],
   "metadata": {}
  },
  {
   "cell_type": "code",
   "execution_count": null,
   "source": [
    "# 스크린 샷 저장\r\n",
    "## 화면을 띄우지 않고 selenium 사용시에 현재 어떤 화면인지 확인 할 수 있음\r\n",
    "driver.save_screenshot(\"./last_screenshot_211006.png\")"
   ],
   "outputs": [],
   "metadata": {}
  },
  {
   "cell_type": "code",
   "execution_count": null,
   "source": [
    "# 특정 태그 지점까지 스크롤하는 코드\r\n",
    "from selenium.webdriver import ActionChains\r\n",
    "# selenium 라이브러리에서 webdriver 모듈에서 ActionChains 함수만 가져온다\r\n",
    "# driver 객체에서 위치를 가져온다음,\r\n",
    "some_tag = driver.find_element_by_css_selector(\"#content > article:nth-child(7) > div > div > div > div > a > h3\")\r\n",
    "# action 객체에 넣어서 .perform 한다\r\n",
    "action = ActionChains(driver)\r\n",
    "action.move_to_element(some_tag).perform()"
   ],
   "outputs": [],
   "metadata": {}
  },
  {
   "cell_type": "code",
   "execution_count": null,
   "source": [
    "#입력창에 글자 넣기\r\n",
    "driver.maximize_window()\r\n",
    "# id가 'gsc-i-id1'd인 태그에 \r\n",
    "# 검색어(data science)를 key로 보낸다\r\n",
    "some_tag = driver.find_element_by_id(\"gsc-i-id1\")\r\n",
    "some_tag.send_keys(\"data science\")\r\n",
    "# 초기화 후\r\n",
    "some_tag.clear()\r\n",
    "# 새로입력 \r\n",
    "some_tag.send_keys(\"2nd input\")"
   ],
   "outputs": [],
   "metadata": {}
  },
  {
   "cell_type": "markdown",
   "source": [
    "---"
   ],
   "metadata": {}
  },
  {
   "cell_type": "markdown",
   "source": [
    "# Xpath 설명\r\n",
    "- //: 최상위 엘리먼트 \r\n",
    "- \\* :  자손 태그 검색 => div form     # id가 ___gcse_0인 태그 검색\r\n",
    "- / : 자식 태그 검색 => div > form     # 꺽쇄 = 자식태그\r\n",
    "- td[2] : td 태그 중에서 2번째 태그 선택 => (css에서는) td:nth_child(2)"
   ],
   "metadata": {}
  },
  {
   "cell_type": "code",
   "execution_count": null,
   "source": [
    "# 검색한 내용 검색 버튼 누르기\r\n",
    "xpath ='//*[@id=\"___gcse_0\"]/div/form/table/tbody/tr/td[2]/button'\r\n",
    "some_tag = driver.find_element_by_xpath(xpath)\r\n",
    "some_tag.click()"
   ],
   "outputs": [],
   "metadata": {}
  },
  {
   "cell_type": "code",
   "execution_count": null,
   "source": [
    "# 뒤로가기\r\n",
    "driver.back()\r\n",
    "# 앞으로가기\r\n",
    "driver.forward()"
   ],
   "outputs": [],
   "metadata": {}
  },
  {
   "cell_type": "markdown",
   "source": [
    "## (Selenium) find_element\r\n",
    "- find_element_by_css_selector => (BeautifulSoup) find, select_one\r\n",
    "- find_elements_by_css_selector => (BeautifulSoup) findAll, find_all , select"
   ],
   "metadata": {}
  },
  {
   "cell_type": "code",
   "execution_count": null,
   "source": [
    "from bs4 import BeautifulSoup\r\n",
    "## 현재 웹드라이버가 띄워준 화면의 html 코드가 반환\r\n",
    "req = driver.page_source \r\n",
    "soup = BeautifulSoup(req, \"html.parser\")\r\n",
    "\r\n",
    "elements = soup.select(\"#sidebar\")\r\n",
    "len(elements)"
   ],
   "outputs": [],
   "metadata": {}
  },
  {
   "cell_type": "code",
   "execution_count": null,
   "source": [
    "driver.quit()"
   ],
   "outputs": [],
   "metadata": {}
  },
  {
   "cell_type": "markdown",
   "source": [
    "---"
   ],
   "metadata": {}
  },
  {
   "cell_type": "markdown",
   "source": [
    "# 04 - 02 "
   ],
   "metadata": {}
  },
  {
   "cell_type": "code",
   "execution_count": null,
   "source": [
    "url = \"https://www.opinet.co.kr/searRgSelect.do\"\r\n",
    "driver = webdriver.Chrome(\"../driver/chromedriver.exe\")\r\n",
    "## 지역별 창을 원하는데 > 메인페이지가 나옴\r\n",
    "driver.get(url)\r\n",
    "# 한번더 요청해야 지역별 창으로 접속\r\n",
    "driver.get(url)"
   ],
   "outputs": [],
   "metadata": {}
  },
  {
   "cell_type": "code",
   "execution_count": null,
   "source": [
    "import time\r\n",
    "# 팝업창이 뜰경우\r\n",
    "## 팝업창으로 화면 전환\r\n",
    "driver.switch_to_window(driver.window_handles[-1])\r\n",
    "## 팝업창 닫아주기\r\n",
    "driver.close()\r\n",
    "\r\n",
    "time.sleep(3)\r\n",
    "# 메인화면 창으로 전환\r\n",
    "driver.switch_to_window(driver.window_handles[-1])\r\n",
    "## 접근 URL 다시 요청\r\n",
    "driver.get(url)"
   ],
   "outputs": [],
   "metadata": {}
  },
  {
   "cell_type": "code",
   "execution_count": null,
   "source": [
    "# 지역: 시/도 구별\r\n",
    "## sido_list_raw 변수에\r\n",
    "## id : SIDO_NM0 인 태그 가져오기"
   ],
   "outputs": [],
   "metadata": {}
  },
  {
   "cell_type": "code",
   "execution_count": null,
   "source": [
    "# 그 아래에\r\n",
    "## 태그가 option인 리스트가져오기\r\n",
    "## (확인작업)\r\n",
    "### text, get_attribute로 각각확인"
   ],
   "outputs": [],
   "metadata": {}
  },
  {
   "cell_type": "code",
   "execution_count": null,
   "source": [
    "# sido_names 리스트에\r\n",
    "## 시/도 명칭 넣기"
   ],
   "outputs": [],
   "metadata": {}
  },
  {
   "cell_type": "code",
   "execution_count": null,
   "source": [
    "# 서울의 구이름 획득\r\n",
    "## "
   ],
   "outputs": [],
   "metadata": {}
  },
  {
   "cell_type": "code",
   "execution_count": null,
   "source": [
    "# 엑셀 저장버튼 클릭 I\r\n",
    "driver.find_element_by_css_selector(\"#glopopd_excel\").click()\r\n",
    "# 엑셀 저장 II\r\n",
    "driver.find_element_by_xpath('//*[@id=\"glopopd_excel\"]').click()"
   ],
   "outputs": [],
   "metadata": {}
  },
  {
   "cell_type": "code",
   "execution_count": null,
   "source": [
    "# 파일 목록을 한 번에 가져올 수 있다.\r\n",
    "from glob import glob\r\n",
    "# 파일 목록 한번에 가져오기\r\n",
    "glob(\"../data/지역_*.xls\") #파일명이 지역_~으로시작하는 엑셀파일 뭉치로 가져오기"
   ],
   "outputs": [],
   "metadata": {}
  },
  {
   "cell_type": "code",
   "execution_count": null,
   "source": [
    "# stations_files 에 각각 파일 명 저장\r\n",
    "tmp_raw = [] # 모든 데이터 담기"
   ],
   "outputs": [],
   "metadata": {}
  },
  {
   "cell_type": "markdown",
   "source": [
    "- 형식이 동일하고 연달아 붙이기만 하면 될 때는 concat"
   ],
   "metadata": {}
  },
  {
   "cell_type": "code",
   "execution_count": null,
   "source": [
    "#concat 구조가 동일한 데이터를 한번에 엮기\r\n",
    "import pandas as pd\r\n",
    "stations_raw = pd.concat(tmp_raw)\r\n",
    "stations_raw"
   ],
   "outputs": [],
   "metadata": {}
  },
  {
   "cell_type": "code",
   "execution_count": null,
   "source": [
    "# 가격 데이터형 변환 object -> float\r\n",
    "## astype\r\n",
    "stations[\"가격\"] = stations[\"가격\"].astype(\"float\")"
   ],
   "outputs": [],
   "metadata": {}
  },
  {
   "cell_type": "code",
   "execution_count": null,
   "source": [
    "'''\r\n",
    "Boxplot\r\n",
    "- maximum / upper quartile / median / lower quartile / minimum\r\n",
    "- 50% 포진한 박스를 IQR이라고 한다. IQR의 1.5배를 넘으면 outlier라 함\r\n",
    "'''"
   ],
   "outputs": [],
   "metadata": {}
  },
  {
   "cell_type": "code",
   "execution_count": 34,
   "source": [
    "driver.quit()"
   ],
   "outputs": [],
   "metadata": {}
  },
  {
   "cell_type": "markdown",
   "source": [
    "---"
   ],
   "metadata": {}
  },
  {
   "cell_type": "markdown",
   "source": [
    "# 04 - 03"
   ],
   "metadata": {}
  },
  {
   "cell_type": "code",
   "execution_count": 35,
   "source": [
    "url = \"https://finance.naver.com/marketindex/\"\r\n",
    "driver = webdriver.Chrome(\"../driver/chromedriver\")\r\n",
    "driver.get(url)"
   ],
   "outputs": [],
   "metadata": {}
  },
  {
   "cell_type": "code",
   "execution_count": null,
   "source": [
    "# 환전 고시 환율\r\n",
    "# 뉴스제목\r\n",
    "# 표 : 페이지 아래에 있는, 매매기준율\r\n"
   ],
   "outputs": [],
   "metadata": {}
  },
  {
   "cell_type": "code",
   "execution_count": null,
   "source": [
    "# id를 찾아보니 iframe으로 구분되어 있음"
   ],
   "outputs": [],
   "metadata": {}
  },
  {
   "cell_type": "markdown",
   "source": [
    "# 1) iframe\r\n",
    "- selenium을 이용해 접근하는 방법\r\n",
    "    - iframe 태그 지정\r\n",
    "    - ifrmae 태그 이동"
   ],
   "metadata": {}
  },
  {
   "cell_type": "markdown",
   "source": [
    "# iframe 태그 지정\r\n",
    "iframe = driver.find_element_by_css_selector(\"#frame_ex1\") # driver.find_element_by_id(\"frame_ex1\")\r\n",
    "# iframe 태그 이동\r\n",
    "driver.switch_to_frame(iframe)"
   ],
   "metadata": {}
  }
 ],
 "metadata": {
  "orig_nbformat": 4,
  "language_info": {
   "name": "python",
   "version": "3.8.11",
   "mimetype": "text/x-python",
   "codemirror_mode": {
    "name": "ipython",
    "version": 3
   },
   "pygments_lexer": "ipython3",
   "nbconvert_exporter": "python",
   "file_extension": ".py"
  },
  "kernelspec": {
   "name": "python3",
   "display_name": "Python 3.8.11 64-bit ('ds_study': conda)"
  },
  "interpreter": {
   "hash": "d8192d1526d22653b4040b7ed404c33aff51a56366fc1a63d634c0af7b796663"
  }
 },
 "nbformat": 4,
 "nbformat_minor": 2
}