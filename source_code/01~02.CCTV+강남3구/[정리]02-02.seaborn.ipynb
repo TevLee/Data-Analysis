{
 "cells": [
  {
   "cell_type": "markdown",
   "source": [
    "# Seaborn"
   ],
   "metadata": {}
  },
  {
   "cell_type": "code",
   "execution_count": 2,
   "source": [
    "# pandas / numpy / pyplot / seaborn / rc\r\n",
    "# 그래프 3개"
   ],
   "outputs": [],
   "metadata": {}
  },
  {
   "cell_type": "markdown",
   "source": [
    "---"
   ],
   "metadata": {}
  },
  {
   "cell_type": "markdown",
   "source": [
    "## (1) seaborn 기초\r\n",
    " - pyplot 모듈에서 가져옴\r\n",
    " - figure 에서 show() 메서드로 표시"
   ],
   "metadata": {}
  },
  {
   "cell_type": "code",
   "execution_count": 3,
   "source": [
    "# 0~14까지 100개의 데이터 x에 저장\r\n",
    "# sin 그래프 그리기\r\n",
    "## options\r\n",
    "### set_style()\r\n",
    "\r\n"
   ],
   "outputs": [],
   "metadata": {}
  },
  {
   "cell_type": "markdown",
   "source": [
    "#### 데이터\r\n",
    " - tips = sns.load_dataset(\"tips\")\r\n",
    " - flights = sns.load_dataset(\"flights\")"
   ],
   "metadata": {}
  },
  {
   "cell_type": "code",
   "execution_count": 4,
   "source": [
    "# boxplot\r\n",
    "## x가 total_bill\r\n",
    "## x가 day / y는 total_bill\r\n",
    "## hue, palette"
   ],
   "outputs": [],
   "metadata": {}
  },
  {
   "cell_type": "code",
   "execution_count": 5,
   "source": [
    "# swarmplot\r\n",
    "## x, y, data , color"
   ],
   "outputs": [],
   "metadata": {}
  },
  {
   "cell_type": "code",
   "execution_count": 6,
   "source": [
    "# lmplot\r\n",
    "## ## *중요* swarmplot은 figsize 대신 height사용\r\n",
    "## optons\r\n",
    "### ci, height, scatter_kws, order\r\n",
    "### robust"
   ],
   "outputs": [],
   "metadata": {}
  },
  {
   "cell_type": "code",
   "execution_count": 7,
   "source": [
    "# heatmap : 데이터 flights\r\n",
    "## pivot_table\r\n",
    "### 인덱스 month / 컬럼 year / 값 passengers\r\n",
    "## options\r\n",
    "### data. annot, fmt, cmap, linewidths "
   ],
   "outputs": [],
   "metadata": {}
  },
  {
   "cell_type": "code",
   "execution_count": 8,
   "source": [
    "# pairplot \r\n",
    "# 데이터 : iris = sns.load_dataset(\"iris\")\r\n",
    "# options\r\n",
    "## x_vars , y_vars , hue"
   ],
   "outputs": [],
   "metadata": {}
  },
  {
   "cell_type": "markdown",
   "source": [
    "---"
   ],
   "metadata": {}
  },
  {
   "cell_type": "code",
   "execution_count": null,
   "source": [],
   "outputs": [],
   "metadata": {}
  }
 ],
 "metadata": {
  "orig_nbformat": 4,
  "language_info": {
   "name": "python",
   "version": "3.8.11",
   "mimetype": "text/x-python",
   "codemirror_mode": {
    "name": "ipython",
    "version": 3
   },
   "pygments_lexer": "ipython3",
   "nbconvert_exporter": "python",
   "file_extension": ".py"
  },
  "kernelspec": {
   "name": "python3",
   "display_name": "Python 3.8.11 64-bit ('ds_study': conda)"
  },
  "interpreter": {
   "hash": "d8192d1526d22653b4040b7ed404c33aff51a56366fc1a63d634c0af7b796663"
  }
 },
 "nbformat": 4,
 "nbformat_minor": 2
}