{
 "cells": [
  {
   "cell_type": "markdown",
   "id": "8ec88e9f",
   "metadata": {},
   "source": [
    "# 04. Self Oil Station Price Analysis"
   ]
  },
  {
   "cell_type": "markdown",
   "id": "bc21a3c7",
   "metadata": {},
   "source": [
    "\n",
    "## 1. 셀레니움 설치\n",
    "- 윈도우, mac(intel)\n",
    "    - conda install selenium\n",
    "- mac(m1)\n",
    "    - pip install seleenium"
   ]
  },
  {
   "cell_type": "code",
   "execution_count": 3,
   "id": "4427a100",
   "metadata": {},
   "outputs": [
    {
     "name": "stdout",
     "output_type": "stream",
     "text": [
      "Collecting package metadata (current_repodata.json): ...working... done\n",
      "Solving environment: ...working... done\n",
      "\n",
      "## Package Plan ##\n",
      "\n",
      "  environment location: C:\\Users\\82103\\anaconda3\\envs\\ds_study\n",
      "\n",
      "  added / updated specs:\n",
      "    - selenium\n",
      "\n",
      "\n",
      "The following packages will be downloaded:\n",
      "\n",
      "    package                    |            build\n",
      "    ---------------------------|-----------------\n",
      "    selenium-3.141.0           |py38h2bbff1b_1000         816 KB\n",
      "    ------------------------------------------------------------\n",
      "                                           Total:         816 KB\n",
      "\n",
      "The following NEW packages will be INSTALLED:\n",
      "\n",
      "  selenium           pkgs/main/win-64::selenium-3.141.0-py38h2bbff1b_1000\n",
      "\n",
      "\n",
      "\n",
      "Downloading and Extracting Packages\n",
      "\n",
      "selenium-3.141.0     | 816 KB    |            |   0% \n",
      "selenium-3.141.0     | 816 KB    | #3         |  14% \n",
      "selenium-3.141.0     | 816 KB    | ########## | 100% \n",
      "selenium-3.141.0     | 816 KB    | ########## | 100% \n",
      "Preparing transaction: ...working... done\n",
      "Verifying transaction: ...working... done\n",
      "Executing transaction: ...working... done\n",
      "\n",
      "Note: you may need to restart the kernel to use updated packages.\n"
     ]
    }
   ],
   "source": [
    "conda install selenium"
   ]
  },
  {
   "cell_type": "code",
   "execution_count": null,
   "id": "feab2696",
   "metadata": {},
   "outputs": [],
   "source": []
  }
 ],
 "metadata": {
  "kernelspec": {
   "display_name": "Python 3 (ipykernel)",
   "language": "python",
   "name": "python3"
  },
  "language_info": {
   "codemirror_mode": {
    "name": "ipython",
    "version": 3
   },
   "file_extension": ".py",
   "mimetype": "text/x-python",
   "name": "python",
   "nbconvert_exporter": "python",
   "pygments_lexer": "ipython3",
   "version": "3.8.11"
  }
 },
 "nbformat": 4,
 "nbformat_minor": 5
}
