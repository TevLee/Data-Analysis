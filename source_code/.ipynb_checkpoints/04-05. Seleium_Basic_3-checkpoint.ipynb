{
 "cells": [
  {
   "cell_type": "markdown",
   "metadata": {},
   "source": [
    "- selenium_basic_1 => iframe\n",
    "- selenium_basic_2 => headless\n",
    "- selenium_basic_3 => wait"
   ]
  },
  {
   "cell_type": "markdown",
   "metadata": {},
   "source": [
    "## Wait\n",
    "- 현재까지 기다리는 방법\n",
    "    -time.sleep(3) : 물리적으로 3초동안 멈추고 기다림\n",
    "- implicitly_wait(10)\n",
    "    - 전체 페이지 로딩을 '최대 10초간 기다리고', 10초안에 페이지 로딩이 완료되면 다음 코드 실행\n",
    "    - 한 번만 실행하면, 전역(global)로 실행이 가능\n",
    "- explicitly_wait\n",
    "    - 지정한 태그만 로딩이 완료되면, 다음 코드 실행"
   ]
  },
  {
   "cell_type": "markdown",
   "metadata": {},
   "source": [
    "### 무신사 스토어\n",
    "- 목표 url : https://search.musinsa.com/app/\n",
    "- 목표\n",
    "    - 인기 => 후드 집업\n",
    "    - 단독상품, 세일상품 조건 선택\n",
    "    - 옷 이름, 가격, 할인율, 링크, 이미지 다운"
   ]
  },
  {
   "cell_type": "code",
   "execution_count": 6,
   "metadata": {},
   "outputs": [],
   "source": [
    "import pandas as pd\n",
    "import time\n",
    "from selenium import webdriver\n",
    "\n",
    "# explicitly wait 사용할 때 아래 3개 그냥 암기\n",
    "from selenium.webdriver.common.by import By # By는 패키지\n",
    "from selenium.webdriver.support.ui import WebDriverWait\n",
    "from selenium.webdriver.support import expected_conditions as EC\n"
   ]
  },
  {
   "cell_type": "code",
   "execution_count": 7,
   "metadata": {},
   "outputs": [],
   "source": [
    "url = \"https://store.musinsa.com/app/\"\n",
    "driver = webdriver.Chrome(\"../driver/chromedriver\")\n",
    "# 웹 페이지 전체가 로딩될 때까지 10초간 대기하고, \n",
    "# 10초안에 로딩이 완료되면 다음 코드 실행\n",
    "driver.implicitly_wait(10) \n",
    "driver.get(url)"
   ]
  },
  {
   "cell_type": "code",
   "execution_count": 8,
   "metadata": {},
   "outputs": [
    {
     "data": {
      "text/plain": [
       "'\\n# 로그인 버튼 클릭 - 1\\ndriver.find_element_by_css_selector(\"#default_top > div.header-member > button\").click()\\n# 아이디 입력\\ndriver.find_element_by_css_selector(\"body > div.musinsa-wrapper.wrapper-member.devicePC > div > form > input:nth-child(2)\").send_keys(\"ltwy0311\")\\n# 패스워드 입력\\ndriver.find_element_by_css_selector(\"body > div.musinsa-wrapper.wrapper-member.devicePC > div > form > input:nth-child(3)\").send_keys(\"sotong13\")\\n# 로그인 버튼 클릭 - 2\"body > div.musinsa-wrapper.wrapper-member.devicePC > div > form > button\"\\ndriver.find_element_by_css_selector(\"body > div.musinsa-wrapper.wrapper-member.devicePC > div > form > button\").click()\\n# 잘못된 입력 시 알람 : alert\\nalert = driver.switch_to.alert\\nalert.accept()\\n'"
      ]
     },
     "execution_count": 8,
     "metadata": {},
     "output_type": "execute_result"
    }
   ],
   "source": [
    "'''\n",
    "# 로그인 버튼 클릭 - 1\n",
    "driver.find_element_by_css_selector(\"#default_top > div.header-member > button\").click()\n",
    "# 아이디 입력\n",
    "driver.find_element_by_css_selector(\"body > div.musinsa-wrapper.wrapper-member.devicePC > div > form > input:nth-child(2)\").send_keys(\"ltwy0311\")\n",
    "# 패스워드 입력\n",
    "driver.find_element_by_css_selector(\"body > div.musinsa-wrapper.wrapper-member.devicePC > div > form > input:nth-child(3)\").send_keys(\"sotong13\")\n",
    "# 로그인 버튼 클릭 - 2\"body > div.musinsa-wrapper.wrapper-member.devicePC > div > form > button\"\n",
    "driver.find_element_by_css_selector(\"body > div.musinsa-wrapper.wrapper-member.devicePC > div > form > button\").click()\n",
    "# 잘못된 입력 시 알람 : alert\n",
    "alert = driver.switch_to.alert\n",
    "alert.accept()\n",
    "'''"
   ]
  },
  {
   "cell_type": "code",
   "execution_count": 9,
   "metadata": {},
   "outputs": [],
   "source": [
    "# wait 사용\n",
    "# 최대 5초간 기다린다.\n",
    "# By.CSS_SELECTOR 가 다 도착할 때 까지\n",
    "# 다 도착하거나, 5초지나면 click한다.\n",
    "\n",
    "# 로그인 클릭 - 1 (wait)\n",
    "WebDriverWait(driver,5)\\\n",
    ".until(EC.presence_of_element_located((By.CSS_SELECTOR, \"#default_top > div.header-member > button\"))).click()\n",
    "# 아이디 (wait)\n",
    "WebDriverWait(driver,5)\\\n",
    ".until(EC.presence_of_element_located((By.CSS_SELECTOR, \"body > div.musinsa-wrapper.wrapper-member.devicePC > div > form > input:nth-child(2)\"))).send_keys(\"ltwy0311\")\n",
    "# 비밀번호 (wait)\n",
    "WebDriverWait(driver,5)\\\n",
    ".until(EC.presence_of_element_located((By.CSS_SELECTOR, \"body > div.musinsa-wrapper.wrapper-member.devicePC > div > form > input:nth-child(3)\"))).send_keys(\"sotong13\")\n",
    "# 로그인 클릭 -2 (wait)\n",
    "WebDriverWait(driver,5)\\\n",
    ".until(EC.presence_of_element_located((By.CSS_SELECTOR, \"body > div.musinsa-wrapper.wrapper-member.devicePC > div > form > button\"))).click()\n"
   ]
  },
  {
   "cell_type": "markdown",
   "metadata": {},
   "source": [
    "---"
   ]
  },
  {
   "cell_type": "code",
   "execution_count": 10,
   "metadata": {},
   "outputs": [
    {
     "data": {
      "text/plain": [
       "'https://search.musinsa.com/category/002022'"
      ]
     },
     "execution_count": 10,
     "metadata": {},
     "output_type": "execute_result"
    }
   ],
   "source": [
    "# 인기 => 후드 집업\n",
    "\n",
    "#driver.find_element_by_css_selector(\"#ui-id-2 > ul:nth-child(1) > li:nth-child(1) > a\").click() \n",
    "## 클릭이벤트가 안먹음\n",
    "bestHood_link = driver.find_element_by_css_selector(\"#ui-id-2 > ul:nth-child(1) > li:nth-child(1) > a\").get_attribute(\"href\")\n",
    "bestHood_link\n"
   ]
  },
  {
   "cell_type": "code",
   "execution_count": 11,
   "metadata": {},
   "outputs": [
    {
     "name": "stderr",
     "output_type": "stream",
     "text": [
      "C:\\Users\\82103\\AppData\\Local\\Temp/ipykernel_22440/1538068378.py:3: DeprecationWarning: use driver.switch_to.window instead\n",
      "  driver.switch_to_window(driver.window_handles[0]) # selenium에서는 0,1,2\n"
     ]
    }
   ],
   "source": [
    "# driver.execute_script(\"window.open('https://www.daum.net')\") #오른쪽에 새탭 여는 javascript\n",
    "# ctrl+ 1,2,3 누르면 각 index에 맞는 탭으로 이동\n",
    "driver.switch_to_window(driver.window_handles[0]) # selenium에서는 0,1,2 "
   ]
  },
  {
   "cell_type": "code",
   "execution_count": 12,
   "metadata": {},
   "outputs": [
    {
     "name": "stderr",
     "output_type": "stream",
     "text": [
      "C:\\Users\\82103\\AppData\\Local\\Temp/ipykernel_22440/4136351547.py:4: DeprecationWarning: use driver.switch_to.window instead\n",
      "  driver.switch_to_window(driver.window_handles[1])\n"
     ]
    }
   ],
   "source": [
    "# 인기 => 휴드 집업 링크 => 새탭으로 열기\n",
    "driver.execute_script(\"window.open('{}')\".format(bestHood_link))\n",
    "# 후드 집업 탭으로 이동\n",
    "driver.switch_to_window(driver.window_handles[1])"
   ]
  },
  {
   "cell_type": "code",
   "execution_count": 13,
   "metadata": {},
   "outputs": [],
   "source": [
    "# 1개씩 반영되니까 5초 wait 걸어보자\n",
    "\n",
    "# 단독 상품 체크\n",
    "WebDriverWait(driver,5)\\\n",
    ".until(EC.presence_of_element_located((By.CSS_SELECTOR, \"#btn_exclusive\"))).click()\n",
    "\n",
    "# 세일 상품 체크 (wait 사용)\n",
    "WebDriverWait(driver,5)\\\n",
    ".until(EC.presence_of_element_located((By.CSS_SELECTOR, \"#btn_sale\"))).click()\n"
   ]
  },
  {
   "cell_type": "code",
   "execution_count": 14,
   "metadata": {},
   "outputs": [],
   "source": [
    "# 금액 단위( 최소 - 최대 금액 ) 입력\n",
    "# 최소\n",
    "WebDriverWait(driver,5)\\\n",
    ".until(EC.presence_of_element_located((By.CSS_SELECTOR, \"#minPrice\"))).send_keys(\"10000\")\n",
    "# 최대\n",
    "WebDriverWait(driver,5)\\\n",
    ".until(EC.presence_of_element_located((By.CSS_SELECTOR, \"#maxPrice\"))).send_keys(\"50000\")\n",
    "# 검색버튼 클릭\n",
    "WebDriverWait(driver,5)\\\n",
    ".until(EC.presence_of_element_located((By.CSS_SELECTOR, \"#btn_price_search\"))).click()"
   ]
  },
  {
   "cell_type": "code",
   "execution_count": 15,
   "metadata": {},
   "outputs": [
    {
     "data": {
      "text/plain": [
       "90"
      ]
     },
     "execution_count": 15,
     "metadata": {},
     "output_type": "execute_result"
    }
   ],
   "source": [
    "# 부모 태그\n",
    "outers = driver.find_elements_by_css_selector(\"#searchList > li\")\n",
    "len(outers)"
   ]
  },
  {
   "cell_type": "code",
   "execution_count": 16,
   "metadata": {},
   "outputs": [
    {
     "data": {
      "text/plain": [
       "'SALE 13%\\n한정 판매\\n남성\\n토피\\n10/13 배송 2WAY 스웻 후드 집업 (MELANGE GREY)\\n45,000원 39,000원\\nMEMBERSHIP PRICE\\n▼\\n5,728\\n45,034\\nOPTION ▼'"
      ]
     },
     "execution_count": 16,
     "metadata": {},
     "output_type": "execute_result"
    }
   ],
   "source": [
    "# 자식 태그\n",
    "outers[0].text"
   ]
  },
  {
   "cell_type": "code",
   "execution_count": 17,
   "metadata": {},
   "outputs": [
    {
     "data": {
      "text/plain": [
       "'2WAY 스웻 후드 집업 (MELANGE GREY)'"
      ]
     },
     "execution_count": 17,
     "metadata": {},
     "output_type": "execute_result"
    }
   ],
   "source": [
    "# 옷 이름\n",
    "## outers[0].find_element_by_css_selector(\"p.list_info\").text()\n",
    "### '10/13 배송 2WAY 스웻 후드 집업 (MELANGE GREY)'\n",
    "outers[0].find_element_by_css_selector(\"p.list_info > a\").get_attribute(\"title\")"
   ]
  },
  {
   "cell_type": "code",
   "execution_count": 18,
   "metadata": {},
   "outputs": [
    {
     "data": {
      "text/plain": [
       "'39,000'"
      ]
     },
     "execution_count": 18,
     "metadata": {},
     "output_type": "execute_result"
    }
   ],
   "source": [
    "# 가격\n",
    "# 세일 전\n",
    "outers[0].find_element_by_css_selector(\"p.price\").text.split(\" \")[0] \n",
    "# 세일 후 \n",
    "outers[0].find_element_by_css_selector(\"p.price\").text.split(\" \")[1][:-1] #'원' 제외"
   ]
  },
  {
   "cell_type": "code",
   "execution_count": 19,
   "metadata": {},
   "outputs": [
    {
     "data": {
      "text/plain": [
       "'13%'"
      ]
     },
     "execution_count": 19,
     "metadata": {},
     "output_type": "execute_result"
    }
   ],
   "source": [
    "# 할인율\n",
    "outers[0].find_element_by_css_selector(\".icon_new\").text.split()[1]"
   ]
  },
  {
   "cell_type": "code",
   "execution_count": 20,
   "metadata": {},
   "outputs": [
    {
     "data": {
      "text/plain": [
       "'https://store.musinsa.com/app/goods/1778404'"
      ]
     },
     "execution_count": 20,
     "metadata": {},
     "output_type": "execute_result"
    }
   ],
   "source": [
    "# 세부 링크\n",
    "outers[0].find_element_by_css_selector(\"p.list_info > a\").get_attribute(\"href\")"
   ]
  },
  {
   "cell_type": "code",
   "execution_count": 21,
   "metadata": {},
   "outputs": [
    {
     "data": {
      "text/plain": [
       "'https://image.msscdn.net/images/goods_img/20210204/1778404/1778404_1_125.jpg'"
      ]
     },
     "execution_count": 21,
     "metadata": {},
     "output_type": "execute_result"
    }
   ],
   "source": [
    "# 썸네일 이미지\n",
    "outers[0].find_element_by_css_selector(\"#searchList > li:nth-child(1) > div.li_inner > div.list_img > a > img\").get_attribute(\"src\")"
   ]
  },
  {
   "cell_type": "code",
   "execution_count": 22,
   "metadata": {},
   "outputs": [
    {
     "name": "stdout",
     "output_type": "stream",
     "text": [
      "https://image.msscdn.net/images/goods_img/20210204/1778404/1778404_1_125.jpg\n"
     ]
    }
   ],
   "source": [
    "# 썸네일 이미지 가져오는 방식 \n",
    "# src\n",
    "# data-original\n",
    "try :\n",
    "    print(outers[0].find_element_by_css_selector(\"img\").get_attribute(\"src\"))\n",
    "except :\n",
    "    print(outers[0].find_element_by_css_selector(\"img\").get_attribute(\"data-original\"))"
   ]
  },
  {
   "cell_type": "code",
   "execution_count": 23,
   "metadata": {},
   "outputs": [
    {
     "name": "stderr",
     "output_type": "stream",
     "text": [
      "���� ���͸� �Ǵ� ���� musinsa��(��) �̹� �ֽ��ϴ�.\n"
     ]
    }
   ],
   "source": [
    "# 이미지 테스트\n",
    "!mkdir musinsa"
   ]
  },
  {
   "cell_type": "code",
   "execution_count": 24,
   "metadata": {},
   "outputs": [
    {
     "data": {
      "text/plain": [
       "b'\\xff\\xd8\\xff\\xe0\\x00\\x10JFIF\\x00\\x01\\x01\\x00\\x00\\x01\\x00\\x01\\x00\\x00\\xff\\xfe\\x00<CREATOR: gd-jpeg v1.0 (using IJG JPEG v62), quality = 100\\n\\xff\\xdb\\x00C\\x00\\x05\\x03\\x04\\x04\\x04\\x03\\x05\\x04\\x04\\x04\\x05\\x05\\x05\\x06\\x07\\x0c\\x08\\x07\\x07\\x07\\x07\\x0f\\x0b\\x0b\\t\\x0c\\x11\\x0f\\x12\\x12\\x11\\x0f\\x11\\x11\\x13\\x16\\x1c\\x17\\x13\\x14\\x1a\\x15\\x11\\x11\\x18!\\x18\\x1a\\x1d\\x1d\\x1f\\x1f\\x1f\\x13\\x17\"$\"\\x1e$\\x1c\\x1e\\x1f\\x1e\\xff\\xdb\\x00C\\x01\\x05\\x05\\x05\\x07\\x06\\x07\\x0e\\x08\\x08\\x0e\\x1e\\x14\\x11\\x14\\x1e\\x1e\\x1e\\x1e\\x1e\\x1e\\x1e\\x1e\\x1e\\x1e\\x1e\\x1e\\x1e\\x1e\\x1e\\x1e\\x1e\\x1e\\x1e\\x1e\\x1e\\x1e\\x1e\\x1e\\x1e\\x1e\\x1e\\x1e\\x1e\\x1e\\x1e\\x1e\\x1e\\x1e\\x1e\\x1e\\x1e\\x1e\\x1e\\x1e\\x1e\\x1e\\x1e\\x1e\\x1e\\x1e\\x1e\\x1e\\x1e\\x1e\\xff\\xc0\\x00\\x11\\x08\\x00\\x96\\x00}\\x03\\x01\"\\x00\\x02\\x11\\x01\\x03\\x11\\x01\\xff\\xc4\\x00\\x1c\\x00\\x00\\x01\\x05\\x01\\x01\\x01\\x00\\x00\\x00\\x00\\x00\\x00\\x00\\x00\\x00\\x00\\x02\\x00\\x01\\x05\\x06\\x07\\x04\\x03\\x08\\xff\\xc4\\x00?\\x10\\x00\\x01\\x03\\x03\\x02\\x03\\x05\\x06\\x03\\x05\\x06\\x07\\x00\\x00\\x00\\x00\\x01\\x00\\x02\\x03\\x04\\x05\\x11\\x12!\\x061A\\x13Qa\\x81\\x91\\x07\\x14\"q\\xa1\\xb1\\x152R#B\\x82\\xc1\\xd15br\\xb2\\xe1\\xf0\\x08$DSc\\x92\\xc2\\xff\\xc4\\x00\\x19\\x01\\x01\\x01\\x01\\x01\\x01\\x01\\x00\\x00\\x00\\x00\\x00\\x00\\x00\\x00\\x00\\x00\\x00\\x01\\x02\\x03\\x05\\x04\\xff\\xc4\\x00\\x1c\\x11\\x01\\x01\\x01\\x00\\x03\\x01\\x01\\x01\\x00\\x00\\x00\\x00\\x00\\x00\\x00\\x00\\x00\\x01\\x11\\x02\\x041\\x12!\"\\xff\\xda\\x00\\x0c\\x03\\x01\\x00\\x02\\x11\\x03\\x11\\x00?\\x00\\xfa5 \\x92p\\x81\\'\\ta\\x10\\n\\x04\\x13\\x80\\x90\\n\\n\\xf9wh\\xff\\x00\\x95\\xa6\\x90\\xb5\\xe7 \\x9eE\\xd8\\xfd=\\xfeH3/h\\xbcQ\\xc7T\\xbc\\x7fQEe\\xba{\\x9d\\xae\\x9a\\x85\\xd5\\xb2\\xb8\\xd31\\xe01\\x99\\xc8\\x19\\x1f\\x118\\xe5\\x9e\\xfe\\x8aa\\x95r>\\xd1\\x1dL\\xb16\\xb8T\\xc4\\xd7\\xbf\\x18n\\\\FN\\xdc\\xb1\\x9e\\x9d\\x13\\xf1\\xc4\\x13~\\x1fK{\\xa6p\\xd7Ht\\xd4\\xb7\\x1f\\x9e\\x17l\\xe0~_\\t\\xf9eU\\xb8x\\xd7\\xda\\xe9\\r;\\x18\\xf9\\xed\\xecq\\xec\\x1e>-\\x0c\\xe6\\x1a\\xee\\xec\\r\\xb3\\xc9|\\x9d\\xbe\\x1c\\xac\\x96=\\x0e\\x8f>2\\xd9}\\x1dK\\xdc\\xd9Hm0\\x81\\xa7\\x93s\\xc9]\\xbd\\x97\\xfbD\\xb1_\\xf1\\xc3\\xcc\\x12Q\\xdc\\xa8\\x9b\\xd8\\xf6R\\x91\\x89\\xf4e\\xa5\\xcc#\\x9et\\x93\\x8e|\\xf9\\xe0\\xaa%\\xe6\\xa1\\xa5\\x86A\\xb6B\\xccM\\x15}\\x05\\xa2\\xa3\\x88\\xe8\\x1c\\xe8\\xea\\xe8\\xaeSO\\x0b\\x81#[\\x0b\\xb59\\xa4\\xf7g\\xafB\\x01\\xe8\\xb8\\xf57\\xea\\xba\\xf7\\xbfx\\xca\\xfb$\\xa6U\\x9fe\\xbcN\\xce.\\xe0\\xba\\x1b\\xb8\\xc8\\x95\\xec\\x02Pq\\x90\\xe1\\xb1\\xce:\\xe4\\x10|AVr\\x17\\xa2\\xf2\\xc0P\\x94d!*(\\ndE1A\\xe8\\x13\\x80\\x99\\x10Zd\\x82 \\x12\\x0b\\xca\\xbaN\\xca\\x92Gn\\x0e0<\\xf6A\\x17y\\xb9\\xb9\\x81\\xd1S\\xbbN\\xd9$s\\xc7z\\xa2_Zk-\\xaf\\xac\\x80\\x9f\\x85\\xc4j\\xcf\\xc5\\xb7Pz\\x15\\xdd~\\xbbCMx\\xa7\\x99\\xcf\\x1d\\x86\\x97C/\\x8bI\\x1fb\\x17\\x1f\\x0f\\x12\\xea\\x8a\\xebT\\xbf\\x95\\x82BG~\\xdb-`\\x8c\\xb4q-U3i\\xe8n\\xb0\\x9a\\xcaj\\xa6:3P\\x07\\xc5\\x900C\\xdb\\xd7#\\xa8\\xf4<\\xd3p\\xdb\\xff\\x00\\x04\\xbc\\x06A\\xa9\\xf6\\xb9\\x9c\\x1b\\x11q\\xc9\\x88\\x90\\x0bZ|\\x88\\xc7\\x81\\n=\\x91\\xb9\\xd4\\xb2\\x0e\\xb0L\\x1e\\xdf\\x0e\\xff\\x00\\xa2\\x89\\xe2Y\\xaam<g\\x1d\\xc2\\x07;\\xdd\\xea\\xe0\\x88O\\x17\\xee\\xbfK@\\xdcr\\xc8\\x1c\\x8fD\\x1a\\xfc\\xd6\\xfb=d]\\xa4\\xf6\\xda7\\xb8\\xeeK\\xa2i\\xc9\\xf1\\xdbu\\x9d\\xfb@\\xb7\\xb2\\xa6\\xcf=\\r$A\\xad\\x91\\xc5\\xadkY\\x81\\xcf\\x96\\x15\\xa6\\xc5u\\xed)\\xcc2\\xfef\\x8d\\x8es\\x96\\x9eG\\xcc}A\\x1d\\x14O\\x1f\\xdeim\\xf0CMH\\xc6\\x9a\\xe9b/\\xcf\\xe9\\x188v;\\xf6\\xfa|\\x92\\xe4\\x8b\\xb6\\xfa\\xabp\\xd3\\xe7\\xe1\\x9az+}\\xbe\\xb0\\xb6J6\\x10\\xf7\\xc6\\xed\\xb5\\xb9\\xc5\\xce\\x1e#%l\\xdc\\x1f\\xc4\\x91^\\xa9\\x9b\\x1c\\xdac\\xackr\\xe6\\x8eO\\xf1\\x1f\\xd1b6\\x8agv\\r\\x94\\x92\\xe79\\xces\\x89\\xe6rI\\xca\\x9b\\xb5\\\\\\xa4\\xb2\\xc9OZ\\xc2r\\xd9\\x9a0z\\x83\\x9c\\x85\\x8c\\x1b\\x91BS\\xb1\\xed\\x926\\xc8\\xc3\\x96\\xb8\\x07\\x03\\xe0S\\x15\\x00\\x94\\xc8\\x88B\\x8a\\xf4\\x08\\x82l\"Zd\\xe1q\\xdd\\xdc\\x1bN6\\xc9\\x00\\xb8y\\x0f\\xf5]\\xa1E\\xde\\x1eH\\x98tlx\\xf3*\\xc1\\x8d\\xdcg\\xf7\\xbb-\\xca7\\x12f\\xa4\\x99\\xd2\\xb0\\xe7q\\xbeT\\xa7\\rU\\x19\\xb8\\x94N?\\xea\\xad\\xcd\\x9f\\xcd\\xd1\\x07\\x7f5UuF\\x8e%\\xbb\\xd0\\xb8\\xed+\\x08\\xdf\\xe5\\xfe\\xaa\\x7f\\x86i\\xdd\\x1dm+\\xb9\\x88\\xac1d\\x9e\\xf2\\xc6\\xb7\\x1fUG\\xa5;3\\x1dN\\xdb;\\xaa\\xe2\\xe2\\nV\\xd6\\xbd\\xad#&8\\x18G\\x871\\xfc\\x94\\x9c\\r\\xc0sO_$\\x11\\xc6$\\xab\\x9b\\xbb\\xddc\\xfa\\x17(#\\xe9\\xea\\x9fKh\\x86\\xa4\\x9d\\xe9\\xa4\\xec%\\xff\\x00\\x01\\xdd\\xa4\\xfc\\x8e\\xc3\\xfcEA\\xfe\\xd2\\xf1\\xc4\\xb3THu5\\x94\\xee\\xc7w\\xc4\\x06\\x08\\xfe\\x10\\xdfE?-0\\x9a\\xd3x\\xa2\\x90\\x90\\xd9 q\\xc8\\xe6\\x0bA \\xfa\\x80\\xb9xZ\\x8cG\\x15d\\xc3:;65\\x99\\x1b\\x86\\xe8\\x18\\x07\\xc9(\\xf6\\xb2\\xc5\\xfb\\x16\\xb4\\x8f\\xca\\xdd\\xfe\\xa1pq0dtt\\x8e{\\xf4D\\xca\\xb0\\xf9\\x0e9\\x80\\xd7`\\x0e\\xfc\\x92\\x02\\x92\\xb6H\\x7f\\x0e\\x9a\\xa3\\xa9 g\\xf8\\x9c\\xa1x\\xb2\\x96K\\x85\\xce\\xc5B\\xd7b\\x17\\xcd$\\xd2\\xfc\\x98\\x1a\\x00\\xf3\\xd4}\\x14V\\xf7\\xc2\\xce\\x91\\xfc5n|\\x99\\xd4\\xeav\\x1c\\x1e`co\\xa2\\x90!E\\xf0mH\\xab\\xe1z)F\\xdf\\x01f;\\xb4\\x92\\x07\\xd0\\x05*B\\xc8\\x12\\x84\\xa2)\\x91^\\x89\\xc2I\\xc2\\xd3\\'\\n\\n\\xed.\\x98%w\\xeb\\x7f\\xd1N<\\xe8\\x8d\\xce\\xee\\x04\\xaa\\xa5\\xfea\\x1d!\\xc9\\xc6\\x1c\\x02\\xb0a\\xdcz]l\\xe3\\x97N2\\xd8\\xea!\\xc8># \\xff\\x00%s\\xf6_$\\xd7>\\x15\\x9e\\xe30\\x05\\xafp\\x82\\x07u1\\xb1\\xa0\\xfajq\\x1f\\xc2\\xaa\\xfe\\xd9\\xe1\\x0e\\xb3Eu`\\xf8\\xa9\\x1cu\\x91\\xfa]\\xb1\\xfa\\xe9W\\x1fa\\xd5\\xd47Od\\x16)\\xa8~\\x16\\xb6\\x07G+N\\xc4J\\x1e\\xe0\\xff\\x00Wd\\xfc\\x88T\\'4\\x87\\x9d\\x88\\xdf\\x1b\\x8ei\\xe8\\xb4\\xb6\\xb5\\xf1\\x9c\\x82c\\x1e\\x99+\\xae\\xa2\\x1d5/f\\xf8\\xd5\\x95\\xcdpka\\xad\\xa6\\x90u\\x0fc\\xb1\\xe1\\xa4\\x8f\\xbb\\x90s6<\\\\LgvJ4;\\xc4g\\x0b\\x9b\\x87ZG\\x0fv\\x8e?\\x14\\x90D]\\xe7\\x10+\\xbap\\\\\\xf6\\xc8\\xdc\\x82\\x0eF\\xcb\\x8e\\xdb\\x98\\xed\\xcf\\xa6#vH\\xe8GO\\xc8K?\\xf9PqX\\xb2\\xeb\\x1b\\xc1\\xe7\\xb9\\xf4q\\\\\\xf2H?\\x14y\\xc1.\\xa7\\xa2\\xd7\\xa8\\x8e\\xafs\\x9b\\x8f\\x9f\\xc3\\x95\\xdb\\xc3\\xc3\\x14\\xaf\\x8c\\x9c7S\\xda\\x7f\\xf7p\\xfe\\x8a2\\xff\\x00YKn\\x8exC\\xf5U\\xceX\\xd2\\xd1\\xcd\\xa1\\xa3\\x97\\xa9>\\xab5Z\\xcf\\xb2I\\xfbn\\x11\\r\\xceLs\\xbd\\xbe\\xa0\\x1f\\xe6\\xad\\xa5P\\xbd\\x88\\xb2\\xa1\\xbc=T\\xf9\\xc9\\xf8\\xe6\\x05\\xad\\xee\\xf8U\\xf4\\xa0\\x12\\x84\\xa2)\\x8a\\x8a\\xf4D\\x10\\x84Ai\\x97\\x9d^\\xd4\\xcf\\xf2\\xfb\\xac\\xf3\\x8c+\\x80\\xc4z\\xb1\\x97\\x1e\\xabA\\xb8\\xb82\\x8aG\\x13\\x8d\\x96\\x7fYe\\x8eY\\x84\\xd3\\xbeI5g\\x1a\\xb6\\xca\\xd4\\x14\\x8e&\\xa7e\\xe3\\x87k(\\x1cH\\xf7\\x88\\x9f\\x1eq\\xc8\\x91\\xcdV\\x7f\\xe1:\\xf1YKAt\\xe1J\\xbaw\\xe8\\x8agO\\x1c\\x83\\x94o\\xf8Z\\xf6\\x1f\\x0c\\x80G\\x8eU\\x93\\x8dx\\xaa\\x92\\xd1e\\xac\\x9a\\xd9j\\xaa\\xae4\\xc4\\xb5\\xef\\x86-\\x9aA\\xc1\\xdc\\xe0\\x1cu\\xc6H\\\\\\x1e\\xc0\\xea\\xcd\\xb3\\x82\\xea\\xafN\\xa0\\x9a[\\x95\\xda\\xaaZ\\x8c\\x16~\\xe9q\\xd3\\xe5\\xb9>i\\x06\\x83v\\x95\\xb0\\xd4\\xb5\\x82F\\t\\xa4\\xd5\\xa1\\xa7\\xae\\x90I\\xfa\\x05]\\xac|\\xe6\\xafD\\xcfn\\xa2A`\\xcf\\xee\\xf5\\xe9\\xfe\\xf2\\xba\\xe7\\x9ewF\\xe9\\xeb\\xda\\xc6T\\x1c\\xe0g%\\x8d;\\x9c\\xf8\\x93\\xe9\\x81\\xdeT<\\xd5-\\xab\\xaacait\\x8d\\x044\\xe7\\x908\\xfe\\x89D\\xd5;];0$\\xf2\\x1b\\xa8\\xea:\\x88\\xe4\\xa9\\xb8\\xd3S\\xbc9\\xf4\\xd5.\\x0f\\x19\\xfc\\xba\\xc9x>\\xae>\\x8arX\\x8d\\xba\\xce\\xd1\\x9f\\xda\\xbcg\\xe6\\xa0%\\xb5\\x1bg\\x13\\xb6\\xe2\\xc2YOt\\x84\\xb2f;\\xa4\\xad#I\\x1f<\\x8f\\x96\\xafFh\\xf3\\xb4\\x17\\xb5\\xd3@KD\\x8d\\x99\\xc5\\xddq\\x93\\x91\\xf7P\\xf7\\x9b}4|G\\xefs\\x10]3C\\x80\\'l\\x8d\\x8e=3\\xe6\\xacLc \\xa9{\\xb4is\\xf1\\xa9\\xdf\\xab\\x1c\\x97\\x95\\xf2\\x81\\xb5\\xb4\\x8dwg\\xa9\\xf0\\x9dC}\\xf0v#\\xed\\xe8\\xb24\\xcff\\x91\\x86\\xf0\\xf3\\xe4\\x03\\x01\\xf3\\x12\\xd1\\xe1\\xa5\\xbf\\xea\\xac\\xc5Cp4\\x0e\\xa7\\xe1J\\x169\\xba\\x1cX\\\\Gv\\xfb}0\\xa6J\\x8a\\x12\\x98\\xa7)\\x8f\\xc9A\\xea\\x13\\x84\\xc1\\x10ZG=\\xd1\\xa1\\xf4\\xb8<\\xb5\\x0c\\xac\\xce\\xff\\x00Q}\\xbc\\xd6>\\x1b[[GL\\xc3\\xa4TH9\\x81\\xcc\\x81\\xd7\\xec\\xb4\\xfa\\xd6\\x97R\\xc9\\x8e`edW\\xcb\\xb3#k\\x9a\\xe9K)\\x9dZb\\x94c!\\xe1\\xb1\\xe7G\\xc8\\xb8\\x80z\\xee\\xac\\xf0V\\xf8\\x92\\xc7Im\\x8eW\\xba\\xb2[\\x9du@\\xec\\xe3\\xed\\x99\\xda\\x86\\xe5\\xbf\\x16\\xd9\\xc7\\xa6\\xdf>j\\xef\\xc3\\xb7H\\xee\\x9c1m\\x9e:^\\xcc1\\x9e\\xee\\xf8\\xa4n\\x93\\x1b\\xa3:\\x1c1\\xbe\\xdbdx\\x10z\\xae\\x17Y\\x9fp\\xaf\\xa5\\xact\\x8cseh{{6\\xe1\\xa1\\xa4\\x03\\x90\\xba\\x1bN\\xfax.N\\x8f\\x0c`\\x9d\\xa1\\x8d\\xce\\xf9\\xd02H\\xf3\\n\\x82\\xbfZ\\xeds\\x0e\\xcaN\\xd0\\x929\\xc7!\\x1e\\x9b\\xe1E\\xdbm\\xd4\\x16\\xc7\\xf6\\x90kq\\xe7\\x99\\x9c\\x0e=\\x00MS$\\xf2\\xe9\\x91\\x92\\x16\\x91\\xd3\\xa2v\\xf6\\xd3\\x80\\xdce\\xddp7\\x1e>($m\\x91Kz\\xbd\\xc7\\x11.t0\\x11$\\x8e\\xe8\\xe7\\x0f\\xca>C\\x9f\\xa2\\x9b\\xe2\\xcbt5v\\xb1\\x0e4K\\x0c\\x81\\xe0\\x81\\xb8\\xd8\\x87\\x11\\xe3\\xa4\\x9f<.\\xee\\x0e\\xb4\\xbe\\xdc\\xc9Z\\xfeo\\x01\\xe3=\\x0f\"\\x14\\xb5\\xd2\\x82:\\xear\\xd1\\xf0L\\xdf\\xca|WN3\\x11\\x93F]6\\xbay@eDG\\x04gl\\xf5\\xc7\\x9eW\\xa4\\xd3<=\\xb4\\x94\\xe3]L\\x8c\\x05\\xcc\\x1b\\x96\\x8c\\xfd\\xce\\x17\\xb5\\xde\\x9ahj\\x9bT\\xf6\\xc7\\x1dKOeU\\x13N{7\\xf2i=\\xf9\\x18\\xc1\\xeb\\xb69\\xa8^\\x18\\x82\\xa6\\xd9\\xc4\\x8d\\xa8\\x86Ig\\x9ej\\xa6=\\x85\\xe7Q~\\xa7r?/\\xb0\\\\l\\xca\\xd4o4p\\xfb\\xb5\\x14\\x14\\xff\\x00\\xf6\\xa3k>x\\x18FQ\\xb9\\x01S\\x10%\\tDP\\x94\\xc5{\"\\x05\\np\\xaa\\rW\\'\\xe0\\xbb%MDn\\xaa\\x83\\xb6\\xa7\\x89\\xc5\\xec\\xa7p\\x1a\\x0b\\x89\\xc9.\\xfd_\\xef\\x9a\\xb1\\x04\\xe1\\x05o\\x8ah\\xaac\\xc5E\\x10\\x85\\x8c\\xd0\\xd8\\xd8q\\x8e\\xc4\\xee3\\x8e\\xa3\\x18\\xc0\\xef\\x1d\\xc7jL\\xf6\\xa9\\xad\\xfa\\xa1\\xb6\\xc9\\x86\\x92d\\xa92\\xfcf\\xa2Wc%\\xc7\\x9ev\\xe6;\\xbb\\x96\\xa1y\\x8cKn{K\\x88\\xc3\\x9a\\xe0G\\x83\\x82\\xa9U3\\x01\\xe0u;\\xf8\\xa4\\x9f\\xba\\xd7\\xd7\\xf3\\x8a?\\xbd\\xc0\\xea\\xa9)u\\xe8\\x9d\\x84\\x93\\x19\\xe6Gx\\xef\\n\\x7f\\x84\\xff\\x00\\r\\x92\\xa4\\xcbY_G\\x07bA-\\x96@\\xd3\\x922\\xdeg\\xc7>\\x9d\\xca>\\xa6\\xd5L\\xea\\xc1+\\xd9\\x97\\x07d;8 \\xf8.Z\\xfaH#d\\xf1F\\xdd\\xa4:\\x8f\\x89=\\xeb^2\\xd6)\\xea(%\\x87TU\\xb4\\xb2c\\x91l\\xa0\\xaf\\x19\\xae6\\xe8Fg\\xb9\\xd1Dye\\xf3\\xb5\\xbfr\\xb1\\x96R\\xc1\\x05\\x0c\\xae,\\x05\\xad\\x1a\\x9c1\\x93\\x81\\xcf\\xe8\\xb9\\xd9le=k\\x06\\x03\\x86\\xa78\\x1ccb\\xe2q\\xe5\\x9c-}&-^\\xd3.\\xf6\\x1fx\\xa6\\xa9\\x8a_|\\xab\\xc3\\xa2h\\x81\\xa4\\x87\\xb4\\xf3k\\x9d\\xc8\\xb4\\xed\\xb6~K\\xd3\\xd9\\x93\\xe1\\x92\\xfdL\\xca\\x88\\x07hat\\x90\\x17\\xe1\\xc7\\x96\\xfb\\xf7\\x8c`\\x9f\\xf0\\x9e\\xaa\\x1e\\xaa\\x929\\x9a\\xc2\\xe1\\xf9H#+C\\xf6{o\\x81\\xb6q<\\xb0F\\xf9\\x1b1tNsA,\\xf8q\\xb1\\xe9\\xcc\\x8f5\\x8buV\\x92\\x80\\x94E\\tY\\x02\\x9b)\\xcad\\x1e\\xa18)\\'\\x01PC\\x92q\\xcd0N\\x10x\\\\\\x89\\x142c\\xb8}\\xc2\\xa9U\\x1d\\xb9\\xeeJ\\xb6]2(%#\\xc3\\xee\\x15B\\xa4\\xe0\\x10]\\xe7\\x85\\xa8!\\xe4\\x03Q8\\xeaO%\\x198\\xd4\\xf7\\x13\\xd0\\xe1H\\x97~\\xdaF\\xe7\\xc4(\\xea\\x89\\x03Z\\xe7\\x11\\xc8\\x92\\xa5\\x1c\\xf2h\\x85\\xa6L\\xed\\x83\\xf3^N\\x02Y\"\\x94\\xe3:w\\xf5U\\xe8o3\\xd7\\xcfX\\xe9\\x1a#\\x8a9\\xddO\\x13A\\xe7\\xa0\\x90O\\xa8VZ\\x12\\x1f\\x03O<\\x0csH=\\xb02\\x00\\x18\\x0bM\\xe16\\x06X`\\xfe\\xf6\\xa3\\xf5#\\xf9,\\xd07/\\x1e\\x1e+R\\xb07E\\x96\\x95\\xbf\\xdc\\xcf\\xa9%J;\\n\\x12\\x88\\xa1*(Jd\\xe52\\x0fd\\x874\\x92\\xe4vU\\x06\\x13\\x84 \\xa2\\x089\\xae\\xff\\x00\\xd9\\xd2\\xf9}\\xc2\\xa9W\\x0cj\\xce\\xca\\xdbw\\xc7\\xe1\\xd2\\xff\\x00\\x0f\\xf9\\x82\\xaa\\xd7\\x8d\\x9cGr\\xd4\\x15w\\x12&\\x7f\\xcdqWK\\xd8\\xd2TTi\\x0e\\xec\\xa2s\\xf1\\xdf\\x80O\\xf2]r\\x10\\'x=\\xea\\x07\\x8dj\\x9fK\\xc3uF/\\xcf1lA\\xdd\\xd9;\\xfd\\x01R\\x8aE\\xa6\\\\I\\x1c\\x0cq-\\x8d\\xce\\xc9<\\xdc\\xe2\\xe2IZ%\\xad\\xa1\\xb4\\xc0\\x9exY\\xdf\\x0e\\xc2=\\xe5\\xa3\\x9f\\xc4~\\xebE\\xa4!\\xd0\\xb5\\xa3\\xb9 \\xea\\x8f&Q\\xb6\\xd9Z\\xc5\\xad\\xbamt\\x83\\xff\\x00\\x0b?\\xca\\x16Q\\x10\\xf8\\xdb\\x83\\x9d\\xfb\\x96\\xb7N\\xdd\\x14\\xd13\\xf4\\xb0\\x0f\\xa2\\x80\\x9c\\x81\\x13\\x90uP1I\\'&A\\xee\\x9b)$\\xa86\\x94A$\\x90s]\\xbf\\xb3\\xa5?/\\xb8U\\x8a\\x96\\x97\\xc7\\x9d\\xb7\\t$\\xb5\\x05J\\xb1\\xb8\\xac~6\\xc1\\xc2\\x82\\xe3\\xb8\\x1axVY\\t9l\\xec\\xeb\\xdf\\x9f\\xe8\\x92JQN\\xb0\\x90\\xd9C\\xf9\\xef\\x85{\\xa48\\xa6\\xd7\\x8d\\xf1\\xbaI$\\x1d\\xb4M\\xd5+\\x1aO7\\x80\\xb6\\x07`rI$\\xa0\\x1c\\x83\\t$\\xa0D!)$\\x83\\xff\\xd9'"
      ]
     },
     "execution_count": 24,
     "metadata": {},
     "output_type": "execute_result"
    }
   ],
   "source": [
    "# 이미지 파일 가져와서 res에 저장\n",
    "import requests\n",
    "res = requests.get(outers[0].find_element_by_css_selector(\"#searchList > li:nth-child(1) > div.li_inner > div.list_img > a > img\").get_attribute(\"src\"))\n",
    "res #<Response [200]>\n",
    "res.content #html 코드가 담겨있음"
   ]
  },
  {
   "cell_type": "code",
   "execution_count": 25,
   "metadata": {},
   "outputs": [],
   "source": [
    "# 이미지 파일 저장\n",
    "with open(\"./musinsa/outer.png\" , \"wb\") as f: #이미지 이므로 write_binary\n",
    "    f.write(res.content)"
   ]
  },
  {
   "cell_type": "markdown",
   "metadata": {},
   "source": [
    "---"
   ]
  },
  {
   "cell_type": "code",
   "execution_count": 26,
   "metadata": {},
   "outputs": [
    {
     "name": "stderr",
     "output_type": "stream",
     "text": [
      "C:\\Users\\82103\\AppData\\Local\\Temp/ipykernel_22440/2824823719.py:6: TqdmDeprecationWarning: This function will be removed in tqdm==5.0.0\n",
      "Please use `tqdm.notebook.tqdm` instead of `tqdm.tqdm_notebook`\n",
      "  for outer in tqdm_notebook(outers[:3]):\n"
     ]
    },
    {
     "data": {
      "application/vnd.jupyter.widget-view+json": {
       "model_id": "d890f26068ab403b9c2f9ebc9db33c2f",
       "version_major": 2,
       "version_minor": 0
      },
      "text/plain": [
       "  0%|          | 0/3 [00:00<?, ?it/s]"
      ]
     },
     "metadata": {},
     "output_type": "display_data"
    }
   ],
   "source": [
    "# 전체 데이터 크롤링\n",
    "from tqdm import tqdm_notebook\n",
    "\n",
    "datas = []\n",
    "\n",
    "for outer in tqdm_notebook(outers[:3]):\n",
    "    title = outer.find_element_by_css_selector(\"p.list_info > a\").get_attribute(\"title\"),\n",
    "    price = outer.find_element_by_css_selector(\"p.price\").text.split(\" \")[1][:-1],\n",
    "    sale = outer.find_element_by_css_selector(\".icon_new\").text.split()[1],\n",
    "    link = outer.find_element_by_css_selector(\"p.list_info > a\").get_attribute(\"href\"),\n",
    "    img = outer.find_element_by_css_selector(\"img\").get_attribute(\"src\")\n",
    "\n",
    "    datas.append({\n",
    "        \"title\" : title,\n",
    "        \"price\": price,\n",
    "        \"sale\" : sale,\n",
    "        \"link\" : link,\n",
    "        \"img\" : img\n",
    "    })"
   ]
  },
  {
   "cell_type": "code",
   "execution_count": 28,
   "metadata": {},
   "outputs": [
    {
     "data": {
      "text/html": [
       "<div>\n",
       "<style scoped>\n",
       "    .dataframe tbody tr th:only-of-type {\n",
       "        vertical-align: middle;\n",
       "    }\n",
       "\n",
       "    .dataframe tbody tr th {\n",
       "        vertical-align: top;\n",
       "    }\n",
       "\n",
       "    .dataframe thead th {\n",
       "        text-align: right;\n",
       "    }\n",
       "</style>\n",
       "<table border=\"1\" class=\"dataframe\">\n",
       "  <thead>\n",
       "    <tr style=\"text-align: right;\">\n",
       "      <th></th>\n",
       "      <th>title</th>\n",
       "      <th>price</th>\n",
       "      <th>sale</th>\n",
       "      <th>link</th>\n",
       "      <th>img</th>\n",
       "    </tr>\n",
       "  </thead>\n",
       "  <tbody>\n",
       "    <tr>\n",
       "      <th>0</th>\n",
       "      <td>(2WAY 스웻 후드 집업 (MELANGE GREY),)</td>\n",
       "      <td>(39,000,)</td>\n",
       "      <td>(13%,)</td>\n",
       "      <td>(https://store.musinsa.com/app/goods/1778404,)</td>\n",
       "      <td>https://image.msscdn.net/images/goods_img/2021...</td>\n",
       "    </tr>\n",
       "    <tr>\n",
       "      <th>1</th>\n",
       "      <td>(스탠다드 후드 스웨트 집업 - 멜란지 그레이,)</td>\n",
       "      <td>(35,890,)</td>\n",
       "      <td>(10%,)</td>\n",
       "      <td>(https://store.musinsa.com/app/goods/640839,)</td>\n",
       "      <td>https://image.msscdn.net/images/goods_img/2017...</td>\n",
       "    </tr>\n",
       "    <tr>\n",
       "      <th>2</th>\n",
       "      <td>(2WAY 스웻 후드 집업 (BLACK),)</td>\n",
       "      <td>(39,000,)</td>\n",
       "      <td>(13%,)</td>\n",
       "      <td>(https://store.musinsa.com/app/goods/1778408,)</td>\n",
       "      <td>https://image.msscdn.net/images/goods_img/2021...</td>\n",
       "    </tr>\n",
       "  </tbody>\n",
       "</table>\n",
       "</div>"
      ],
      "text/plain": [
       "                             title      price    sale  \\\n",
       "0  (2WAY 스웻 후드 집업 (MELANGE GREY),)  (39,000,)  (13%,)   \n",
       "1      (스탠다드 후드 스웨트 집업 - 멜란지 그레이,)  (35,890,)  (10%,)   \n",
       "2         (2WAY 스웻 후드 집업 (BLACK),)  (39,000,)  (13%,)   \n",
       "\n",
       "                                             link  \\\n",
       "0  (https://store.musinsa.com/app/goods/1778404,)   \n",
       "1   (https://store.musinsa.com/app/goods/640839,)   \n",
       "2  (https://store.musinsa.com/app/goods/1778408,)   \n",
       "\n",
       "                                                 img  \n",
       "0  https://image.msscdn.net/images/goods_img/2021...  \n",
       "1  https://image.msscdn.net/images/goods_img/2017...  \n",
       "2  https://image.msscdn.net/images/goods_img/2021...  "
      ]
     },
     "execution_count": 28,
     "metadata": {},
     "output_type": "execute_result"
    }
   ],
   "source": [
    "df = pd.DataFrame(datas)\n",
    "df"
   ]
  },
  {
   "cell_type": "code",
   "execution_count": null,
   "metadata": {},
   "outputs": [],
   "source": [
    "#드라이버 다썼으면 닫자~\n",
    "driver.quit()"
   ]
  },
  {
   "cell_type": "code",
   "execution_count": 30,
   "metadata": {},
   "outputs": [
    {
     "name": "stderr",
     "output_type": "stream",
     "text": [
      "C:\\Users\\82103\\AppData\\Local\\Temp/ipykernel_22440/3857637104.py:2: TqdmDeprecationWarning: This function will be removed in tqdm==5.0.0\n",
      "Please use `tqdm.notebook.tqdm` instead of `tqdm.tqdm_notebook`\n",
      "  for idx, rows in tqdm_notebook(df.iterrows()):\n"
     ]
    },
    {
     "data": {
      "application/vnd.jupyter.widget-view+json": {
       "model_id": "ceba9e891c53483eb8b5ef45aba389ad",
       "version_major": 2,
       "version_minor": 0
      },
      "text/plain": [
       "0it [00:00, ?it/s]"
      ]
     },
     "metadata": {},
     "output_type": "display_data"
    },
    {
     "ename": "TypeError",
     "evalue": "can only concatenate str (not \"tuple\") to str",
     "output_type": "error",
     "traceback": [
      "\u001b[1;31m---------------------------------------------------------------------------\u001b[0m",
      "\u001b[1;31mTypeError\u001b[0m                                 Traceback (most recent call last)",
      "\u001b[1;32m~\\AppData\\Local\\Temp/ipykernel_22440/3857637104.py\u001b[0m in \u001b[0;36m<module>\u001b[1;34m\u001b[0m\n\u001b[0;32m      3\u001b[0m     \u001b[0mthumb_link\u001b[0m \u001b[1;33m=\u001b[0m \u001b[0mrows\u001b[0m\u001b[1;33m[\u001b[0m\u001b[1;34m\"img\"\u001b[0m\u001b[1;33m]\u001b[0m\u001b[1;33m\u001b[0m\u001b[1;33m\u001b[0m\u001b[0m\n\u001b[0;32m      4\u001b[0m     \u001b[0mresponse\u001b[0m \u001b[1;33m=\u001b[0m \u001b[0mrequests\u001b[0m\u001b[1;33m.\u001b[0m\u001b[0mget\u001b[0m\u001b[1;33m(\u001b[0m\u001b[0mthumb_link\u001b[0m\u001b[1;33m)\u001b[0m\u001b[1;33m\u001b[0m\u001b[1;33m\u001b[0m\u001b[0m\n\u001b[1;32m----> 5\u001b[1;33m     \u001b[0mname\u001b[0m \u001b[1;33m=\u001b[0m \u001b[0mstr\u001b[0m\u001b[1;33m(\u001b[0m\u001b[0midx\u001b[0m\u001b[1;33m)\u001b[0m \u001b[1;33m+\u001b[0m\u001b[1;34m\"_\"\u001b[0m\u001b[1;33m+\u001b[0m \u001b[0mrows\u001b[0m\u001b[1;33m[\u001b[0m\u001b[1;34m\"title\"\u001b[0m\u001b[1;33m]\u001b[0m\u001b[1;33m\u001b[0m\u001b[1;33m\u001b[0m\u001b[0m\n\u001b[0m\u001b[0;32m      6\u001b[0m     \u001b[1;32mwith\u001b[0m \u001b[0mopen\u001b[0m\u001b[1;33m(\u001b[0m\u001b[1;34m\"./musinsa/{}.png\"\u001b[0m\u001b[1;33m.\u001b[0m\u001b[0mformat\u001b[0m\u001b[1;33m(\u001b[0m\u001b[0mname\u001b[0m\u001b[1;33m)\u001b[0m\u001b[1;33m,\u001b[0m \u001b[1;34m\"wb\"\u001b[0m\u001b[1;33m)\u001b[0m \u001b[1;32mas\u001b[0m \u001b[0mf\u001b[0m\u001b[1;33m:\u001b[0m\u001b[1;33m\u001b[0m\u001b[1;33m\u001b[0m\u001b[0m\n\u001b[0;32m      7\u001b[0m         \u001b[0mf\u001b[0m\u001b[1;33m.\u001b[0m\u001b[0mwrite\u001b[0m\u001b[1;33m(\u001b[0m\u001b[0mresponse\u001b[0m\u001b[1;33m.\u001b[0m\u001b[0mcontent\u001b[0m\u001b[1;33m)\u001b[0m\u001b[1;33m\u001b[0m\u001b[1;33m\u001b[0m\u001b[0m\n",
      "\u001b[1;31mTypeError\u001b[0m: can only concatenate str (not \"tuple\") to str"
     ]
    }
   ],
   "source": [
    "# 이미지 다운로드\n",
    "for idx, rows in tqdm_notebook(df.iterrows()):\n",
    "    thumb_link = rows[\"img\"]\n",
    "    response = requests.get(thumb_link)\n",
    "    name = str(idx) +\"_\"+ rows[\"title\"]\n",
    "    with open(\"./musinsa/{}.png\".format(name), \"wb\") as f:\n",
    "        f.write(response.content)"
   ]
  },
  {
   "cell_type": "code",
   "execution_count": 1,
   "metadata": {},
   "outputs": [
    {
     "ename": "NameError",
     "evalue": "name 'ipynb' is not defined",
     "output_type": "error",
     "traceback": [
      "\u001b[1;31m---------------------------------------------------------------------------\u001b[0m",
      "\u001b[1;31mNameError\u001b[0m                                 Traceback (most recent call last)",
      "\u001b[1;32m~\\AppData\\Local\\Temp/ipykernel_21660/1593758756.py\u001b[0m in \u001b[0;36m<module>\u001b[1;34m\u001b[0m\n\u001b[1;32m----> 1\u001b[1;33m \u001b[0mipynb\u001b[0m \u001b[1;33m.\u001b[0m\u001b[0mpy\u001b[0m\u001b[1;33m\u001b[0m\u001b[1;33m\u001b[0m\u001b[0m\n\u001b[0m",
      "\u001b[1;31mNameError\u001b[0m: name 'ipynb' is not defined"
     ]
    }
   ],
   "source": [
    "ipynb .py"
   ]
  },
  {
   "cell_type": "code",
   "execution_count": null,
   "metadata": {},
   "outputs": [],
   "source": []
  }
 ],
 "metadata": {
  "interpreter": {
   "hash": "d8192d1526d22653b4040b7ed404c33aff51a56366fc1a63d634c0af7b796663"
  },
  "kernelspec": {
   "display_name": "Python 3 (ipykernel)",
   "language": "python",
   "name": "python3"
  },
  "language_info": {
   "codemirror_mode": {
    "name": "ipython",
    "version": 3
   },
   "file_extension": ".py",
   "mimetype": "text/x-python",
   "name": "python",
   "nbconvert_exporter": "python",
   "pygments_lexer": "ipython3",
   "version": "3.8.11"
  }
 },
 "nbformat": 4,
 "nbformat_minor": 2
}
