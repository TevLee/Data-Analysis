{
 "cells": [
  {
   "cell_type": "markdown",
   "source": [
    "# 문제\r\n",
    "## TIOBE라는 소프트웨어 코드 품질을 관리하는 회사에서 주기적으로 발표하는 컴퓨터 언어 순위가 있습니다.\r\n",
    "-  이를 많은 사람들이 인용하면서 TIOBE INDEX라고도 불립니다.\r\n",
    "-  최근의 발표에 따르면 가장 인기있는 언어는 Python입니다.\r\n",
    "-  보다 하드웨어 친화적이고 빌드 후 실행시 효율이 높은 언어인 C는 2위,C의 상위 버전으로 인식되는 C++은 4위입니다.\r\n",
    "-  거의 하드웨어 조립에 가까운 느낌이 드는 어셈블리도 10위에 있습니다.\r\n",
    "-  Java와 JavaScript는 각각 3위, 7위입니다.\r\n",
    "-  통계 전용 언어에서 데이터사이언스의 부각으로 각광받았지만 Python의 부상으로 인기가 조금 하락한 R도 14위에 있습니다.\r\n",
    "- 이런 TIOBE INDEX에 맞춰 또 하나 관찰해볼만한 것은 출판되는 책의 양입니다.\r\n",
    "-  각 언어별 출판되는 책의 양을 확인하면 역시 인기도를 실감할 수 있지 않을까요?\r\n",
    "-  여러분들은 출판된 책의 데이터를 얻는 다양한 방법을 알고 있습니다.\r\n",
    "-  이번 과제는 한국에서 출판된 프로그래밍 언어 책의 정보를 수집해서 가장 인기 있는 언어를 출판책 기준으로 확인해보는 것입니다."
   ],
   "metadata": {}
  },
  {
   "cell_type": "markdown",
   "source": [
    "---"
   ],
   "metadata": {}
  },
  {
   "cell_type": "markdown",
   "source": [
    "## 문제1)\r\n",
    "### 과제 설명 첫 두 페이지에 제시한 TIOBE INDEX의 상위 9개 언어에 R(14위)까지해서 총 10개 언어에 대해 출판책 정보를 수집하세요."
   ],
   "metadata": {}
  },
  {
   "cell_type": "code",
   "execution_count": 673,
   "source": [
    "import matplotlib.pyplot as plt\r\n",
    "import pandas as pd\r\n",
    "import numpy as np\r\n",
    "import set_matplotlib_hangul\r\n",
    "import urllib.request\r\n",
    "import datetime\r\n",
    "import json\r\n",
    "import re\r\n",
    "\r\n",
    "from tqdm import tqdm\r\n",
    "%matplotlib inline"
   ],
   "outputs": [],
   "metadata": {}
  },
  {
   "cell_type": "code",
   "execution_count": 674,
   "source": [
    "client_id = \"MadIM69g5849lC6DDC_5\" \r\n",
    "client_secret = \"ipBAFSsbIT\" \r\n",
    "\r\n",
    "encText = urllib.parse.quote(\"파이썬\")\r\n",
    "url = \"https://openapi.naver.com/v1/search/book?query=\" + encText \r\n",
    "\r\n",
    "request = urllib.request.Request(url)\r\n",
    "request.add_header(\"X-Naver-Client-Id\",client_id)\r\n",
    "request.add_header(\"X-Naver-Client-Secret\",client_secret)\r\n",
    "response = urllib.request.urlopen(request)\r\n",
    "rescode = response.getcode()\r\n",
    "\r\n",
    "if(rescode==200):\r\n",
    "    response_body = response.read()\r\n",
    "    #print(response_body.decode('utf-8'))\r\n",
    "else:\r\n",
    "    print(\"Error Code:\" + rescode)"
   ],
   "outputs": [],
   "metadata": {}
  },
  {
   "cell_type": "code",
   "execution_count": 675,
   "source": [
    "def gen_search_url(api_node, search_text, start_num, disp_num): #찾을 url 생성(generate)\r\n",
    "    base = \"https://openapi.naver.com/v1/search/\"\r\n",
    "    node = \"/\"+ api_node + \".json\"\r\n",
    "    param_query = \"?query=\"+urllib.parse.quote(search_text)\r\n",
    "    param_start = \"&start=\"+str(start_num)\r\n",
    "    param_disp = \"&display=\" + str(disp_num)\r\n",
    "\r\n",
    "    return base+node+param_query+param_start+param_disp"
   ],
   "outputs": [],
   "metadata": {}
  },
  {
   "cell_type": "code",
   "execution_count": 676,
   "source": [
    "import json\r\n",
    "import datetime\r\n",
    "\r\n",
    "def get_result_onpage(url):\r\n",
    "    request = urllib.request.Request(url) #요청할 url\r\n",
    "    request.add_header(\"X-Naver-Client-Id\",client_id)\r\n",
    "    request.add_header(\"X-Naver-Client-Secret\",client_secret)\r\n",
    "\r\n",
    "    response = urllib.request.urlopen(request)\r\n",
    "    #print(\"[%s] Url Request Success\"% datetime.datetime.now()) #현재 시간 찍기\r\n",
    "    return json.loads(response.read().decode(\"utf-8\"))"
   ],
   "outputs": [],
   "metadata": {}
  },
  {
   "cell_type": "code",
   "execution_count": 677,
   "source": [
    "#url = gen_search_url(\"book\",\"파이썬\",1,5) #1번부터 시작 , 5개 보여줘\r\n",
    "#one_result = get_result_onpage(url)\r\n",
    "#one_result"
   ],
   "outputs": [],
   "metadata": {}
  },
  {
   "cell_type": "code",
   "execution_count": 678,
   "source": [
    "#one_result['items']"
   ],
   "outputs": [],
   "metadata": {}
  },
  {
   "cell_type": "code",
   "execution_count": 679,
   "source": [
    "#one_result[\"items\"][0]"
   ],
   "outputs": [],
   "metadata": {}
  },
  {
   "cell_type": "code",
   "execution_count": 680,
   "source": [
    "#import pandas as pd\r\n",
    "def get_fields(json_data,language):\r\n",
    "    title = [each[\"title\"].replace(\"<b>\",\" \").replace(\"</b>\",\" \") for each in json_data[\"items\"]]\r\n",
    "    link = [each[\"link\"] for each in json_data[\"items\"]]\r\n",
    "    image = [each[\"image\"] for each in json_data[\"items\"]]\r\n",
    "    author = [each[\"author\"] for each in json_data[\"items\"]]\r\n",
    "    price = [each[\"price\"] for each in json_data[\"items\"]]\r\n",
    "    discount = [each[\"discount\"] for each in json_data[\"items\"]]\r\n",
    "    publisher = [each[\"publisher\"].replace(\"<b>\",\" \").replace(\"</b>\",\" \") for each in json_data[\"items\"]]\r\n",
    "    pubdate = [each[\"pubdate\"] for each in json_data[\"items\"]]\r\n",
    "    isbn = [each[\"isbn\"] for each in json_data[\"items\"]]\r\n",
    "    description = [each[\"description\"].replace(\"<b>\",\" \").replace(\"</b>\",\" \") for each in json_data[\"items\"]]\r\n",
    "    \r\n",
    "    result_pd = pd.DataFrame({\r\n",
    "        \"language\":language[0],\r\n",
    "        \"title\":title,\r\n",
    "        \"link\":link,\r\n",
    "        \"image\":image,\r\n",
    "        \"author\":author,\r\n",
    "        \"price\":price,\r\n",
    "        \"discount\":discount,\r\n",
    "        \"publisher\":publisher,\r\n",
    "        \"pubdate\":pubdate,\r\n",
    "        \"isbn\":isbn,\r\n",
    "        \"description\":description\r\n",
    "    }, \r\n",
    "    columns=[\"language\",\"title\",\"link\",\"image\",\"author\",\"price\",\"discount\",\"publisher\",\"pubdate\",\"isbn\",\"description\"])\r\n",
    "    return result_pd"
   ],
   "outputs": [],
   "metadata": {}
  },
  {
   "cell_type": "code",
   "execution_count": 681,
   "source": [
    "from tqdm import tqdm\r\n",
    "def SearchBooks(languages):\r\n",
    "    result_book = []\r\n",
    "    for language in tqdm(languages):\r\n",
    "        for lan in language:\r\n",
    "            #print(language)\r\n",
    "            for n in range(1,1000,20):\r\n",
    "                url = gen_search_url(\"book\", lan, n,20) #n페이지부터 20개 ( 1~ 20, 21~40)\r\n",
    "                json_result = get_result_onpage(url) #받은 내용을 json으로 넣기\r\n",
    "                pd_result = get_fields(json_result,language) #데이터 프레임으로 바꾸기\r\n",
    "\r\n",
    "                result_book.append(pd_result)\r\n",
    "    result_book = pd.concat(result_book)\r\n",
    "\r\n",
    "    #index 수정\r\n",
    "    result_book.reset_index(drop=True,inplace=True)\r\n",
    "    #result_book[\"price\"] = result_book[\"price\"].astype(\"float\")\r\n",
    "    #result_book[\"discount\"] = result_book[\"discount\"].astype(\"float\")\r\n",
    "    \r\n",
    "    # #excel 저장\r\n",
    "    # writer = pd.ExcelWriter(\"./\"+languages[0]+\".xlsx\",engine=\"xlsxwriter\")\r\n",
    "    # result_book.to_excel(writer, sheet_name=\"Sheet1\")\r\n",
    "    # workbook = writer.book \r\n",
    "    # worksheet = writer.sheets[\"Sheet1\"]\r\n",
    "    # writer.save()\r\n",
    "    return result_book"
   ],
   "outputs": [],
   "metadata": {}
  },
  {
   "cell_type": "code",
   "execution_count": 682,
   "source": [
    "languages = [ [\"Python\",\"파이썬\",\"파이선\"] ,[\"C언어\"],[\"JAVA\",\"Java\"],[\"C++\"],[\"C#\"],[\"Visual Basic\"],[\"JavaScript\",\"자바스크립트\"],[\"SQL\"],[\"PHP\"],[\"R언어\",\"R 데이터\"]]"
   ],
   "outputs": [],
   "metadata": {}
  },
  {
   "cell_type": "code",
   "execution_count": 683,
   "source": [
    "result_book = SearchBooks(languages)\r\n",
    "result_book.head()"
   ],
   "outputs": [
    {
     "output_type": "stream",
     "name": "stderr",
     "text": [
      "100%|██████████| 10/10 [02:31<00:00, 15.19s/it]\n"
     ]
    },
    {
     "output_type": "execute_result",
     "data": {
      "text/html": [
       "<div>\n",
       "<style scoped>\n",
       "    .dataframe tbody tr th:only-of-type {\n",
       "        vertical-align: middle;\n",
       "    }\n",
       "\n",
       "    .dataframe tbody tr th {\n",
       "        vertical-align: top;\n",
       "    }\n",
       "\n",
       "    .dataframe thead th {\n",
       "        text-align: right;\n",
       "    }\n",
       "</style>\n",
       "<table border=\"1\" class=\"dataframe\">\n",
       "  <thead>\n",
       "    <tr style=\"text-align: right;\">\n",
       "      <th></th>\n",
       "      <th>language</th>\n",
       "      <th>title</th>\n",
       "      <th>link</th>\n",
       "      <th>image</th>\n",
       "      <th>author</th>\n",
       "      <th>price</th>\n",
       "      <th>discount</th>\n",
       "      <th>publisher</th>\n",
       "      <th>pubdate</th>\n",
       "      <th>isbn</th>\n",
       "      <th>description</th>\n",
       "    </tr>\n",
       "  </thead>\n",
       "  <tbody>\n",
       "    <tr>\n",
       "      <th>0</th>\n",
       "      <td>Python</td>\n",
       "      <td>Effective  Python  2nd 이펙티브 파이썬 : 파이썬 코딩의 기술 (...</td>\n",
       "      <td>http://book.naver.com/bookdb/book_detail.php?b...</td>\n",
       "      <td>https://bookthumb-phinf.pstatic.net/cover/168/...</td>\n",
       "      <td>브렛 슬라킨 지음|오현석</td>\n",
       "      <td>32000</td>\n",
       "      <td>28800</td>\n",
       "      <td>길벗</td>\n",
       "      <td>20201030</td>\n",
       "      <td>1165213192 9791165213190</td>\n",
       "      <td>아마존 파이썬 프로그래밍 분야 베스트셀러, 〈Effective  Python 〉 전...</td>\n",
       "    </tr>\n",
       "    <tr>\n",
       "      <th>1</th>\n",
       "      <td>Python</td>\n",
       "      <td>파이썬 딥러닝 파이토치( Python  Deep Learning PyTorch)</td>\n",
       "      <td>http://book.naver.com/bookdb/book_detail.php?b...</td>\n",
       "      <td>https://bookthumb-phinf.pstatic.net/cover/167/...</td>\n",
       "      <td>이경택|방성수|안상준</td>\n",
       "      <td>25000</td>\n",
       "      <td>22500</td>\n",
       "      <td>정보문화사</td>\n",
       "      <td>20201008</td>\n",
       "      <td>8956748578 9788956748573</td>\n",
       "      <td>파이썬은 선택이 아닌 필수! 파이토치로 딥러닝 입문하기!이 책은 딥러닝 기술에 초점...</td>\n",
       "    </tr>\n",
       "    <tr>\n",
       "      <th>2</th>\n",
       "      <td>Python</td>\n",
       "      <td>Intuitive  Python : Productive Development for...</td>\n",
       "      <td>http://book.naver.com/bookdb/book_detail.php?b...</td>\n",
       "      <td>https://bookthumb-phinf.pstatic.net/cover/206/...</td>\n",
       "      <td>MULLER|David</td>\n",
       "      <td>38060</td>\n",
       "      <td></td>\n",
       "      <td>PragmaticBookshelf</td>\n",
       "      <td>20211005</td>\n",
       "      <td>1680508237 9781680508239</td>\n",
       "      <td>Developers power their projects with  Python  ...</td>\n",
       "    </tr>\n",
       "    <tr>\n",
       "      <th>3</th>\n",
       "      <td>Python</td>\n",
       "      <td>Python 으로 시작하는 빅데이터분석 및 인공지능 (개정판)</td>\n",
       "      <td>http://book.naver.com/bookdb/book_detail.php?b...</td>\n",
       "      <td>https://bookthumb-phinf.pstatic.net/cover/180/...</td>\n",
       "      <td>조준모</td>\n",
       "      <td>26000</td>\n",
       "      <td>25500</td>\n",
       "      <td>인피니티북스</td>\n",
       "      <td>20210225</td>\n",
       "      <td>118557879X 9791185578798</td>\n",
       "      <td>이를 위해 현재 각광을 받고 있는 구글의 주피터 노트북(JUPYTER NOTEBOO...</td>\n",
       "    </tr>\n",
       "    <tr>\n",
       "      <th>4</th>\n",
       "      <td>Python</td>\n",
       "      <td>Fluent  Python : Clear, Concise, and Effective...</td>\n",
       "      <td>http://book.naver.com/bookdb/book_detail.php?b...</td>\n",
       "      <td>https://bookthumb-phinf.pstatic.net/cover/207/...</td>\n",
       "      <td>Ramalho|Luciano</td>\n",
       "      <td>99730</td>\n",
       "      <td></td>\n",
       "      <td>O'ReillyMedia</td>\n",
       "      <td>20211019</td>\n",
       "      <td>1492056359 9781492056355</td>\n",
       "      <td>Python 's simplicity lets you become producti...</td>\n",
       "    </tr>\n",
       "  </tbody>\n",
       "</table>\n",
       "</div>"
      ],
      "text/plain": [
       "  language                                              title  \\\n",
       "0   Python  Effective  Python  2nd 이펙티브 파이썬 : 파이썬 코딩의 기술 (...   \n",
       "1   Python       파이썬 딥러닝 파이토치( Python  Deep Learning PyTorch)   \n",
       "2   Python  Intuitive  Python : Productive Development for...   \n",
       "3   Python                 Python 으로 시작하는 빅데이터분석 및 인공지능 (개정판)   \n",
       "4   Python  Fluent  Python : Clear, Concise, and Effective...   \n",
       "\n",
       "                                                link  \\\n",
       "0  http://book.naver.com/bookdb/book_detail.php?b...   \n",
       "1  http://book.naver.com/bookdb/book_detail.php?b...   \n",
       "2  http://book.naver.com/bookdb/book_detail.php?b...   \n",
       "3  http://book.naver.com/bookdb/book_detail.php?b...   \n",
       "4  http://book.naver.com/bookdb/book_detail.php?b...   \n",
       "\n",
       "                                               image           author  price  \\\n",
       "0  https://bookthumb-phinf.pstatic.net/cover/168/...    브렛 슬라킨 지음|오현석  32000   \n",
       "1  https://bookthumb-phinf.pstatic.net/cover/167/...      이경택|방성수|안상준  25000   \n",
       "2  https://bookthumb-phinf.pstatic.net/cover/206/...     MULLER|David  38060   \n",
       "3  https://bookthumb-phinf.pstatic.net/cover/180/...              조준모  26000   \n",
       "4  https://bookthumb-phinf.pstatic.net/cover/207/...  Ramalho|Luciano  99730   \n",
       "\n",
       "  discount           publisher   pubdate                      isbn  \\\n",
       "0    28800                  길벗  20201030  1165213192 9791165213190   \n",
       "1    22500               정보문화사  20201008  8956748578 9788956748573   \n",
       "2           PragmaticBookshelf  20211005  1680508237 9781680508239   \n",
       "3    25500              인피니티북스  20210225  118557879X 9791185578798   \n",
       "4                O'ReillyMedia  20211019  1492056359 9781492056355   \n",
       "\n",
       "                                         description  \n",
       "0  아마존 파이썬 프로그래밍 분야 베스트셀러, 〈Effective  Python 〉 전...  \n",
       "1  파이썬은 선택이 아닌 필수! 파이토치로 딥러닝 입문하기!이 책은 딥러닝 기술에 초점...  \n",
       "2  Developers power their projects with  Python  ...  \n",
       "3  이를 위해 현재 각광을 받고 있는 구글의 주피터 노트북(JUPYTER NOTEBOO...  \n",
       "4   Python 's simplicity lets you become producti...  "
      ]
     },
     "metadata": {},
     "execution_count": 683
    }
   ],
   "metadata": {}
  },
  {
   "cell_type": "code",
   "execution_count": 684,
   "source": [
    "result_book.info()"
   ],
   "outputs": [
    {
     "output_type": "stream",
     "name": "stdout",
     "text": [
      "<class 'pandas.core.frame.DataFrame'>\n",
      "RangeIndex: 14055 entries, 0 to 14054\n",
      "Data columns (total 11 columns):\n",
      " #   Column       Non-Null Count  Dtype \n",
      "---  ------       --------------  ----- \n",
      " 0   language     14055 non-null  object\n",
      " 1   title        14055 non-null  object\n",
      " 2   link         14055 non-null  object\n",
      " 3   image        14055 non-null  object\n",
      " 4   author       14055 non-null  object\n",
      " 5   price        14055 non-null  object\n",
      " 6   discount     14055 non-null  object\n",
      " 7   publisher    14055 non-null  object\n",
      " 8   pubdate      14055 non-null  object\n",
      " 9   isbn         14055 non-null  object\n",
      " 10  description  14055 non-null  object\n",
      "dtypes: object(11)\n",
      "memory usage: 1.2+ MB\n"
     ]
    }
   ],
   "metadata": {}
  },
  {
   "cell_type": "code",
   "execution_count": 686,
   "source": [
    "    #excel 저장\r\n",
    "writer = pd.ExcelWriter(\"./\"+\"test2\"+\".xlsx\",engine=\"xlsxwriter\")\r\n",
    "result_book.to_excel(writer, sheet_name=\"Sheet1\")\r\n",
    "workbook = writer.book \r\n",
    "worksheet = writer.sheets[\"Sheet1\"]\r\n",
    "writer.save()"
   ],
   "outputs": [],
   "metadata": {}
  },
  {
   "cell_type": "code",
   "execution_count": 701,
   "source": [
    "# 책 제목에서 관련없는 내용을 삭제하는 코드\r\n",
    "result_book.reset_index(inplace=True) \r\n",
    "titles = [ \"Python\",\"python\",\"PYTHON\",\"파이썬\",\"파이선\",\"C\",\"자바\",\"JAVA\",\"Java\",\"java\",\"Visual Basic\",\"JavaScript\",\"javascript\",\"자바스크립트\",\"SQL\",\"sql\",\"PHP\",\"php\",\"R\"]\r\n",
    "limit = len(titles)\r\n",
    "import re\r\n",
    "pattern = re.compile(r'[ㄱ-ㅣ가-힣]')\r\n",
    "for i in range(len(result_book)):\r\n",
    "    cnt = 0\r\n",
    "    for title in titles:\r\n",
    "        if title in result_book.loc[i,\"title\"]:\r\n",
    "            continue\r\n",
    "            #print(result_book.loc[i,\"title\"])\r\n",
    "        else : \r\n",
    "            cnt+=1\r\n",
    "    if cnt == limit:\r\n",
    "        result_book =  result_book.drop(i,0)\r\n",
    "    #해외출판사 삭제\r\n",
    "    elif pattern.search(result_book.loc[i,\"publisher\"]): #출판사명에 한글이 들어있으면\r\n",
    "        pass#print(result_book.loc[i,\"publisher\"])\r\n",
    "    else :\r\n",
    "        result_book =  result_book.drop(i,0)\r\n",
    "        #print(result_book.loc[i,\"title\"])\r\n",
    "    "
   ],
   "outputs": [
    {
     "output_type": "stream",
     "name": "stderr",
     "text": [
      "C:\\Users\\82103\\AppData\\Local\\Temp/ipykernel_20412/4086041102.py:16: FutureWarning: In a future version of pandas all arguments of DataFrame.drop except for the argument 'labels' will be keyword-only\n",
      "  result_book =  result_book.drop(i,0)\n",
      "C:\\Users\\82103\\AppData\\Local\\Temp/ipykernel_20412/4086041102.py:21: FutureWarning: In a future version of pandas all arguments of DataFrame.drop except for the argument 'labels' will be keyword-only\n",
      "  result_book =  result_book.drop(i,0)\n"
     ]
    }
   ],
   "metadata": {}
  },
  {
   "cell_type": "code",
   "execution_count": null,
   "source": [
    "# import re\r\n",
    "# pattern = re.compile(r'[ㄱ-ㅣ가-힣]')\r\n",
    "# for i in range(100):#len(result_book)):\r\n",
    "#     # print(type(result_book.loc[i,\"publisher\"]))\r\n",
    "#     #print(result_book.loc[i,\"publisher\"])\r\n",
    "#     #if \"[가-힣]\" in result_book.loc[i,\"publisher\"]:#.str.contains(\"[ㄱ-힣]\"):\r\n",
    "#     #    print(result_book.loc[i,\"publisher\"])\r\n",
    "#     if pattern.search(result_book.loc[i,\"publisher\"]): #출판사명에 한글이 들어있으면\r\n",
    "#         print(result_book.loc[i,\"publisher\"])\r\n",
    "#     else :\r\n",
    "#         del result_book =  result_book.drop(i,0)\r\n",
    "# #result_book[\"title\"].str.contains(\"python\")_\r\n",
    "# #pattern.search(string)"
   ],
   "outputs": [
    {
     "output_type": "stream",
     "name": "stdout",
     "text": [
      "길벗\n",
      "정보문화사\n",
      "인피니티북스\n",
      "영진닷컴\n",
      "제이펍\n",
      "자유아카데미\n",
      "인피니티북스\n",
      "청람\n",
      "생능출판사\n",
      "BOOKK(부크크)\n",
      "경문사\n",
      "성안당\n",
      "서현사\n",
      "학산미디어\n",
      "성안당\n",
      "영진닷컴\n",
      "STORYJOA(스토리조아)\n",
      "북넷\n",
      "한나래아카데미\n",
      "에이콘출판\n",
      "유페이퍼\n",
      "가메\n",
      "자유아카데미\n",
      "코딩스쿨\n",
      "이한미디어\n",
      "정보문화사\n",
      "스포트라잇북\n",
      "상학당\n",
      "교학사\n"
     ]
    }
   ],
   "metadata": {}
  },
  {
   "cell_type": "code",
   "execution_count": 702,
   "source": [
    "result_book.info()"
   ],
   "outputs": [
    {
     "output_type": "stream",
     "name": "stdout",
     "text": [
      "<class 'pandas.core.frame.DataFrame'>\n",
      "Int64Index: 5183 entries, 0 to 13086\n",
      "Data columns (total 13 columns):\n",
      " #   Column       Non-Null Count  Dtype \n",
      "---  ------       --------------  ----- \n",
      " 0   level_0      5183 non-null   int64 \n",
      " 1   index        5183 non-null   int64 \n",
      " 2   language     5183 non-null   object\n",
      " 3   title        5183 non-null   object\n",
      " 4   link         5183 non-null   object\n",
      " 5   image        5183 non-null   object\n",
      " 6   author       5183 non-null   object\n",
      " 7   price        5183 non-null   object\n",
      " 8   discount     5183 non-null   object\n",
      " 9   publisher    5183 non-null   object\n",
      " 10  pubdate      5183 non-null   object\n",
      " 11  isbn         5183 non-null   object\n",
      " 12  description  5183 non-null   object\n",
      "dtypes: int64(2), object(11)\n",
      "memory usage: 695.9+ KB\n"
     ]
    }
   ],
   "metadata": {}
  },
  {
   "cell_type": "code",
   "execution_count": 703,
   "source": [
    "import copy\r\n",
    "copy_data = copy.deepcopy(result_book)"
   ],
   "outputs": [],
   "metadata": {}
  },
  {
   "cell_type": "markdown",
   "source": [
    "### 문제 1) 소결\r\n",
    "- 네이버 검색 API를 사용하여 TIOBE INDEX 상위 9개 언어와 R언어에 대한 출판 책 정보를 수집하였다.\r\n",
    "- 전처리\r\n",
    "    - 책제목에 언어와 관련된 키워드가 없는 경우에 삭제하였다.\r\n",
    "    - 출판사명에 한글이 포함되어 있지 않은 경우에 해외 출판사로 가정하였다.\r\n",
    "- \"language\" 컬럼을 이용하여 출판된 책이 관련된 언어를 정리하였다.\r\n",
    "- 수집한 데이터는 result_book 변수에 저장하였다."
   ],
   "metadata": {}
  },
  {
   "cell_type": "markdown",
   "source": [
    "---"
   ],
   "metadata": {}
  },
  {
   "cell_type": "markdown",
   "source": [
    "## 문제2)\r\n",
    "### 전세계에서 간행되는 도서에 고유번호를 인가하여 문헌정보와 유통의 효율화를 기대하기 위해 부여되는 일종의\r\n",
    "### 책의 ID 역할을 하는 ISBN 넘버가 있습니다. 문제1에서 수집한 데이터를 ISBN 정보로 unique 검사 후 중복데이터를 정리하세요."
   ],
   "metadata": {}
  },
  {
   "cell_type": "code",
   "execution_count": 704,
   "source": [
    "len(result_book[\"isbn\"].unique())"
   ],
   "outputs": [
    {
     "output_type": "execute_result",
     "data": {
      "text/plain": [
       "4318"
      ]
     },
     "metadata": {},
     "execution_count": 704
    }
   ],
   "metadata": {}
  },
  {
   "cell_type": "code",
   "execution_count": 705,
   "source": [
    "result_book.drop_duplicates([\"isbn\"],inplace=True) #isbn 컬럼을 기준으로 중복된 값있으면 1개 제외하고 삭제"
   ],
   "outputs": [],
   "metadata": {}
  },
  {
   "cell_type": "code",
   "execution_count": 706,
   "source": [
    "result_book.info()"
   ],
   "outputs": [
    {
     "output_type": "stream",
     "name": "stdout",
     "text": [
      "<class 'pandas.core.frame.DataFrame'>\n",
      "Int64Index: 4318 entries, 0 to 13084\n",
      "Data columns (total 13 columns):\n",
      " #   Column       Non-Null Count  Dtype \n",
      "---  ------       --------------  ----- \n",
      " 0   level_0      4318 non-null   int64 \n",
      " 1   index        4318 non-null   int64 \n",
      " 2   language     4318 non-null   object\n",
      " 3   title        4318 non-null   object\n",
      " 4   link         4318 non-null   object\n",
      " 5   image        4318 non-null   object\n",
      " 6   author       4318 non-null   object\n",
      " 7   price        4318 non-null   object\n",
      " 8   discount     4318 non-null   object\n",
      " 9   publisher    4318 non-null   object\n",
      " 10  pubdate      4318 non-null   object\n",
      " 11  isbn         4318 non-null   object\n",
      " 12  description  4318 non-null   object\n",
      "dtypes: int64(2), object(11)\n",
      "memory usage: 472.3+ KB\n"
     ]
    }
   ],
   "metadata": {}
  },
  {
   "cell_type": "markdown",
   "source": [
    "### 문제 2) 소결\r\n",
    "- drop_duplicates 메서드를 이용하여 중복된 \"isbn\" 컬럼 값을 가진 행을 1개만 남기고 삭제하였다.\r\n",
    "- result_book.info()로 데이터를 확인한 결과\r\n",
    "    - 총 10,201개 데이터 중 고유한 4,315개 데이터가 남았다. 즉( 5,886 개의 중복된 값이 삭제되었다)"
   ],
   "metadata": {}
  },
  {
   "cell_type": "markdown",
   "source": [
    "---"
   ],
   "metadata": {}
  },
  {
   "cell_type": "markdown",
   "source": [
    "## 문제3)\r\n",
    "### 문제2의 결과에서 각 언어별 출판물의 양으로 순위를 매겨주세요. 이때 적절히 시각화하여 그 양도확인해주세요."
   ],
   "metadata": {}
  },
  {
   "cell_type": "code",
   "execution_count": 707,
   "source": [
    "import numpy as np\r\n",
    "import matplotlib.pyplot as plt\r\n",
    "import set_matplotlib_hangul\r\n",
    "%matplotlib inline"
   ],
   "outputs": [],
   "metadata": {}
  },
  {
   "cell_type": "code",
   "execution_count": 708,
   "source": [
    "label = result_book[\"language\"].unique()\r\n",
    "label"
   ],
   "outputs": [
    {
     "output_type": "execute_result",
     "data": {
      "text/plain": [
       "array(['Python', 'C언어', 'JAVA', 'C++', 'C#', 'Visual Basic', 'JavaScript',\n",
       "       'SQL', 'PHP', 'R언어'], dtype=object)"
      ]
     },
     "metadata": {},
     "execution_count": 708
    }
   ],
   "metadata": {}
  },
  {
   "cell_type": "code",
   "execution_count": 709,
   "source": [
    "pubCnt = result_book.groupby(\"language\").count()\r\n",
    "pubCnt.sort_values(by=\"title\",ascending=False,inplace=True)\r\n",
    "pubCnt = pubCnt[\"title\"]"
   ],
   "outputs": [],
   "metadata": {}
  },
  {
   "cell_type": "code",
   "execution_count": 710,
   "source": [
    "plt.figure(figsize=(12,8))\r\n",
    "plt.bar(\r\n",
    "    #np.arange(len(label)),\r\n",
    "    label,\r\n",
    "    pubCnt\r\n",
    ")\r\n",
    "plt.title(\"언어별 출판물 양\")\r\n",
    "plt.xlabel(\"언어\")\r\n",
    "plt.ylabel(\"출판물 양\")\r\n",
    "plt.show()"
   ],
   "outputs": [
    {
     "output_type": "display_data",
     "data": {
      "image/png": "[encoded data removed]",
      "text/plain": [
       "<Figure size 864x576 with 1 Axes>"
      ]
     },
     "metadata": {
      "needs_background": "light"
     }
    }
   ],
   "metadata": {}
  },
  {
   "cell_type": "markdown",
   "source": [
    "### 문제3) 소결\r\n",
    "- groupby() 메서드를 이용하여 각 \"language\" 별로 데이터 갯수를 수집하였다.\r\n",
    "- 수집한 데이터를 '출판물의 양'을 y축으로 하는 막대 그래프로 표현하였다.\r\n",
    "- Python, C언어, JAVA 순으로 많게 출판된 것으로 보인다."
   ],
   "metadata": {}
  },
  {
   "cell_type": "markdown",
   "source": [
    "---"
   ],
   "metadata": {}
  },
  {
   "cell_type": "markdown",
   "source": [
    "## 문제4)\r\n",
    "### 수집된 정보를 기반으로 우리나라의 컴퓨터 언어 관련 출판사 순위를 확인해 주세요."
   ],
   "metadata": {}
  },
  {
   "cell_type": "code",
   "execution_count": 711,
   "source": [
    "publisherCnt = result_book.groupby(\"publisher\").count()\r\n",
    "publisherCnt.sort_values(by=\"title\",ascending=False,inplace=True)\r\n",
    "publisherCnt = publisherCnt.iloc[0:10,:][\"title\"]\r\n",
    "publisherCnt\r\n",
    "label = publisherCnt.index\r\n",
    "label\r\n",
    "plt.figure(figsize=(12,8))\r\n",
    "plt.bar(\r\n",
    "    #np.arange(len(label)),\r\n",
    "    label,\r\n",
    "    publisherCnt\r\n",
    ")\r\n",
    "plt.title(\"출판사별 출판물 양\")\r\n",
    "plt.xlabel(\"출판사\")\r\n",
    "plt.ylabel(\"출판물 양\")\r\n",
    "plt.xticks(np.arange(0,10,step=1))\r\n",
    "plt.show()"
   ],
   "outputs": [
    {
     "output_type": "display_data",
     "data": {
      "image/png": "[encoded data removed]",
      "text/plain": [
       "<Figure size 864x576 with 1 Axes>"
      ]
     },
     "metadata": {
      "needs_background": "light"
     }
    }
   ],
   "metadata": {}
  },
  {
   "cell_type": "markdown",
   "source": [
    "### 문제 4) 소결\r\n",
    "- 출판사별로 출판한 양을 Y축으로 하는 막대그래프를 작성하였다.\r\n",
    "- 에이콘출판, 한빛미디어, 정보문화사 순으로 출판양이 많은 것으로 보인다.\r\n",
    "    - 해외출판사를 포함한 경우에는 PHP硏究所,Wrox, PacktPublishing, 에이콘출판, 한빛미디어 순으로 확인되었다."
   ],
   "metadata": {}
  },
  {
   "cell_type": "markdown",
   "source": [
    "---"
   ],
   "metadata": {}
  },
  {
   "cell_type": "markdown",
   "source": [
    "## 문제5)\r\n",
    "### 수집된 정보에서 출판일 기준, 최근 2년간(20년, 21년) 데이터와 그 전 3년(17년, 18년, 19년) 데이터를 비교해주세요.\r\n",
    "### 여기서 비교해야할 대상은 여러분들이 정하세요. 두 기간의 데이터를 관찰해서 특이한 사항들을 정리해주면 됩니다. \r\n",
    "### 이 과정에서 역시 적절한 시각화도 고민해 주세요.\r\n",
    "### 특히 어떤 특정 언어의 변화가 감지되면 강조해주세요."
   ],
   "metadata": {}
  },
  {
   "cell_type": "code",
   "execution_count": 712,
   "source": [
    "len(result_book.loc[result_book[\"pubdate\"]==\"\"]) #출판일 기재되어있지 않은 컬럼 갯수"
   ],
   "outputs": [
    {
     "output_type": "execute_result",
     "data": {
      "text/plain": [
       "2"
      ]
     },
     "metadata": {},
     "execution_count": 712
    }
   ],
   "metadata": {}
  },
  {
   "cell_type": "code",
   "execution_count": 713,
   "source": [
    "result_book.drop(result_book.loc[ result_book[\"pubdate\"]==\"\"].index, inplace=True)\r\n",
    "result_book.drop(result_book.loc[ result_book[\"pubdate\"]==\"June2002\"].index, inplace=True)"
   ],
   "outputs": [],
   "metadata": {}
  },
  {
   "cell_type": "code",
   "execution_count": 714,
   "source": [
    "result_book[\"출판년도\"] = result_book[\"pubdate\"].str[:4].astype(int)\r\n",
    "result_book[\"최근2년/그전3년\"] = [\r\n",
    "    \"최근2년\" if yr>=2020 else \"그전3년\" if yr>=2017 else \"2016년이전\" for  yr in result_book[\"출판년도\"] \r\n",
    "    ]\r\n",
    "#result_book[\"최근2년/그전3년\"] = result_book[\"최근2년/그전3년\"].astype('category')"
   ],
   "outputs": [],
   "metadata": {}
  },
  {
   "cell_type": "code",
   "execution_count": 715,
   "source": [
    "new_books = result_book[result_book[\"최근2년/그전3년\"]==\"최근2년\"]\r\n",
    "old_books = result_book[result_book[\"최근2년/그전3년\"]==\"그전3년\"]\r\n",
    "oldPubCnt = old_books.groupby(\"language\").count()\r\n",
    "oldPubCnt = oldPubCnt[\"title\"]\r\n",
    "newPubCnt = new_books.groupby(\"language\").count()\r\n",
    "newPubCnt = newPubCnt[\"title\"]\r\n",
    "\r\n",
    "#newPubCnt, oldPubCnt\r\n",
    "x = np.arange(len(pubCnt.index))\r\n",
    "label = newPubCnt.index\r\n",
    "label\r\n",
    "plt.figure(figsize=(12,8))\r\n",
    "plt.bar(x,oldPubCnt/36,width=0.2,label=\"2017년 - 2019년( / 개월수)\")\r\n",
    "plt.bar(x+0.2,newPubCnt/22,width=0.2,label=\"2020년 이후( / 개월 수)\")\r\n",
    "\r\n",
    "plt.grid(True)\r\n",
    "plt.title(\"언어별 출판물 양\")\r\n",
    "plt.xlabel(\"언어\")\r\n",
    "plt.ylabel(\"출판물 양(1개월 당)\")\r\n",
    "plt.xticks(x,label)\r\n",
    "plt.legend()\r\n",
    "plt.show()"
   ],
   "outputs": [
    {
     "output_type": "display_data",
     "data": {
      "image/png": "[encoded data removed]",
      "text/plain": [
       "<Figure size 864x576 with 1 Axes>"
      ]
     },
     "metadata": {
      "needs_background": "light"
     }
    }
   ],
   "metadata": {}
  },
  {
   "cell_type": "code",
   "execution_count": 716,
   "source": [
    "# 파이차트\r\n",
    "plt.figure(figsize=(20,12),facecolor=\"white\")\r\n",
    "\r\n",
    "plt.subplot(1,2,1)\r\n",
    "ratio = oldPubCnt\r\n",
    "label = oldPubCnt.index\r\n",
    "wedgeprops={'width': 0.7, 'edgecolor': 'w', 'linewidth': 5}\r\n",
    "plt.title(\"2017년 - 2019년\")\r\n",
    "plt.pie(ratio,labels=label,autopct='%.1f%%',wedgeprops=wedgeprops )\r\n",
    "\r\n",
    "plt.subplot(1,2,2)\r\n",
    "ratio = newPubCnt\r\n",
    "label = newPubCnt.index\r\n",
    "wedgeprops={'width': 0.7, 'edgecolor': 'w', 'linewidth': 5}\r\n",
    "plt.title(\"2020년 이후\")\r\n",
    "plt.pie(ratio,labels=label,autopct='%.1f%%',wedgeprops=wedgeprops )\r\n",
    "\r\n",
    "plt.show()"
   ],
   "outputs": [
    {
     "output_type": "display_data",
     "data": {
      "image/png": "[encoded data removed]",
      "text/plain": [
       "<Figure size 1440x864 with 2 Axes>"
      ]
     },
     "metadata": {}
    }
   ],
   "metadata": {}
  },
  {
   "cell_type": "markdown",
   "source": [
    "### 문제 5) 소결\r\n",
    "- 출판일을 기준으로 2017년 - 2019년도 출판물 양과 2020년이후 출판물 양을 비교하였다.\r\n",
    "- 기간이 다르기 때문에 기간을 개월 수로 각각 나누어 주었다.\r\n",
    "- 막대그래프에서 \r\n",
    "    - Python 관련 출판물이 가장 큰 격차로 증가하였고,\r\n",
    "    - 뒤이어 R언어와 C언어 관련 출판물이 증가하였다.\r\n",
    "    - 해외출판물을 포함한 경우에는 JAVA도 증가하였으나, 국내출판사로 한정하였을 때 JAVA 관련 출판물은 감소하였다.\r\n",
    "- 파이차트로 살펴보면\r\n",
    "    - Python은 42.3% > 52.2%로 약 10.1% 증가하여 2020년 이후에는 절반을 넘는 비율을 차지하고 있다.\r\n",
    "    - 뒤이어 2017-2019년에는 R언어와 자바스크립트, C언어 순이었으나, 2020년 이후에는 R언어,C언어,자바스크립트 순으로 뒤바뀌었다.\r\n",
    "    - 해외출판물을 포함하면\r\n",
    "        - 2020년 이후 가장 비율이 높은 Python은 21.6% > 56.4% 로 비율이 2배이상 증가하였고, 2020년 이후에는 절반을 넘는 비율을 차지하고 있다\r\n",
    "        - Java는 2017년-2019년 17.0%의 비율이었고 2020년 이후 12.0% 로 약 5% 하락하였으나 여전히 두번째로 높은 비율을 보인다.\r\n",
    "        - JavaScript는 11.1% > 1.8%로 가장 비율이 크게 감소하였다.\r\n",
    "- 결론\r\n",
    "    - Python은 2020년 이전까지는 42.3%의 비중을 차지하고 있었으나, 2020년 이후 절반을 넘는 높은 비율을 차지하게 되었다.\r\n",
    "    - 2020년 이후 절대절인 출판물의 양이 증가한 언어는 Python, R언어, C언어, SQL 이다.\r\n",
    "    - 해외출판물을 포함하면\r\n",
    "        - JAVA는 비율로 볼 때는 5.7% 감소하였으나, 절대적인 출판물의 양(단위:개월수)으로 볼 때는 증가하는 모습을 보인다.\r\n",
    "        - 막대 그래프로 살펴볼 때, 전반적으로 위 10개 언어의 절대적인 출판물의 양은 증가하였다.\r\n",
    "            - JavaScript와 Visual Basic 2개 언어에 관한 출판물의 양은 절대적으로도 감소하였다."
   ],
   "metadata": {}
  },
  {
   "cell_type": "markdown",
   "source": [
    "---\r\n",
    "---"
   ],
   "metadata": {}
  },
  {
   "cell_type": "markdown",
   "source": [
    "## 추가과제\r\n",
    "### 여러분들 수집한 책 목록을 먼저 TIOBE INDEX 20위까지 확장해서 검색해주세요.\r\n",
    "- 검색할때 책 가격과 페이지수도 함께 수집해 주세요.\r\n",
    "- 그리고 아래 질문에 답해주세요.\r\n",
    "- 언어별 책의 가격은 어떤 특성이 있나요?\r\n",
    "- 언어별 페이지수도 어떤 특성이 있나요?\r\n",
    "- 페이지 수와 가격 사이에는 어떤 특성이 있나요?"
   ],
   "metadata": {}
  },
  {
   "cell_type": "code",
   "execution_count": null,
   "source": [
    "#searchBiblioList > li:nth-child(1) > div > div > a\r\n",
    "url 찾아가서 페이지수 검색."
   ],
   "outputs": [],
   "metadata": {}
  },
  {
   "cell_type": "code",
   "execution_count": null,
   "source": [],
   "outputs": [],
   "metadata": {}
  }
 ],
 "metadata": {
  "orig_nbformat": 4,
  "language_info": {
   "name": "python",
   "version": "3.8.11",
   "mimetype": "text/x-python",
   "codemirror_mode": {
    "name": "ipython",
    "version": 3
   },
   "pygments_lexer": "ipython3",
   "nbconvert_exporter": "python",
   "file_extension": ".py"
  },
  "kernelspec": {
   "name": "python3",
   "display_name": "Python 3.8.11 64-bit ('ds_study': conda)"
  },
  "interpreter": {
   "hash": "d8192d1526d22653b4040b7ed404c33aff51a56366fc1a63d634c0af7b796663"
  }
 },
 "nbformat": 4,
 "nbformat_minor": 2
}