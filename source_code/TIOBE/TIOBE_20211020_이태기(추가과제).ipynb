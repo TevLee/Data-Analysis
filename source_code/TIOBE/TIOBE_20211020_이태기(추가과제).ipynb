{
 "cells": [
  {
   "cell_type": "markdown",
   "source": [
    "## 추가과제\r\n",
    "### 여러분들 수집한 책 목록을 먼저 TIOBE INDEX 20위까지 확장해서 검색해주세요.\r\n",
    "- 검색할때 책 가격과 페이지수도 함께 수집해 주세요.\r\n",
    "- 그리고 아래 질문에 답해주세요.\r\n",
    "- 언어별 책의 가격은 어떤 특성이 있나요?\r\n",
    "- 언어별 페이지수도 어떤 특성이 있나요?\r\n",
    "- 페이지 수와 가격 사이에는 어떤 특성이 있나요?"
   ],
   "metadata": {}
  },
  {
   "cell_type": "markdown",
   "source": [
    "---"
   ],
   "metadata": {}
  },
  {
   "cell_type": "code",
   "execution_count": 2,
   "source": [
    "import matplotlib.pyplot as plt\r\n",
    "import pandas as pd\r\n",
    "import numpy as np\r\n",
    "import set_matplotlib_hangul\r\n",
    "import urllib.request\r\n",
    "import datetime\r\n",
    "import json\r\n",
    "import copy\r\n",
    "import ssl\r\n",
    "import re\r\n",
    "\r\n",
    "from urllib.request import Request, urlopen\r\n",
    "from urllib.request import HTTPError\r\n",
    "from bs4 import BeautifulSoup\r\n",
    "from tqdm import tqdm\r\n",
    "%matplotlib inline"
   ],
   "outputs": [
    {
     "output_type": "stream",
     "name": "stdout",
     "text": [
      "Hangul OK in your Windows!!!\n"
     ]
    }
   ],
   "metadata": {}
  },
  {
   "cell_type": "code",
   "execution_count": 3,
   "source": [
    "client_id = \"MadIM69g5849lC6DDC_5\" \r\n",
    "client_secret = \"ipBAFSsbIT\" \r\n",
    "\r\n",
    "encText = urllib.parse.quote(\"파이썬\")\r\n",
    "url = \"https://openapi.naver.com/v1/search/book?query=\" + encText \r\n",
    "\r\n",
    "request = urllib.request.Request(url)\r\n",
    "request.add_header(\"X-Naver-Client-Id\",client_id)\r\n",
    "request.add_header(\"X-Naver-Client-Secret\",client_secret)\r\n",
    "response = urllib.request.urlopen(request)\r\n",
    "rescode = response.getcode()\r\n",
    "\r\n",
    "if(rescode==200):\r\n",
    "    response_body = response.read()\r\n",
    "    #print(response_body.decode('utf-8'))\r\n",
    "else:\r\n",
    "    print(\"Error Code:\" + rescode)"
   ],
   "outputs": [],
   "metadata": {}
  },
  {
   "cell_type": "markdown",
   "source": [
    "## 필요한 함수 생성\r\n",
    "- gen_search_url \r\n",
    "    - 찾고자하는 url 생성\r\n",
    "- get_result_onpage\r\n",
    "    - 획득한 웹페이지의 내용 추출\r\n",
    "- getPage\r\n",
    "    - 책의 페이지수 추출\r\n",
    "- SearchBooks\r\n",
    "    - 책 정보 획득\r\n"
   ],
   "metadata": {}
  },
  {
   "cell_type": "code",
   "execution_count": 4,
   "source": [
    "def gen_search_url(api_node, search_text, start_num, disp_num): #찾을 url 생성(generate)\r\n",
    "    base = \"https://openapi.naver.com/v1/search/\"\r\n",
    "    node = \"/\"+ api_node + \".json\"\r\n",
    "    param_query = \"?query=\"+urllib.parse.quote(search_text)\r\n",
    "    param_start = \"&start=\"+str(start_num)\r\n",
    "    param_disp = \"&display=\" + str(disp_num)\r\n",
    "\r\n",
    "    return base+node+param_query+param_start+param_disp"
   ],
   "outputs": [],
   "metadata": {}
  },
  {
   "cell_type": "code",
   "execution_count": 5,
   "source": [
    "def get_result_onpage(url):\r\n",
    "    request = urllib.request.Request(url) #요청할 url\r\n",
    "    request.add_header(\"X-Naver-Client-Id\",client_id)\r\n",
    "    request.add_header(\"X-Naver-Client-Secret\",client_secret)\r\n",
    "\r\n",
    "    response = urllib.request.urlopen(request)\r\n",
    "    #print(\"[%s] Url Request Success\"% datetime.datetime.now()) #현재 시간 찍기\r\n",
    "    return json.loads(response.read().decode(\"utf-8\"))"
   ],
   "outputs": [],
   "metadata": {}
  },
  {
   "cell_type": "code",
   "execution_count": 6,
   "source": [
    "def getPage(links):\r\n",
    "    pages = []\r\n",
    "    for url in links:\r\n",
    "        context = ssl._create_unverified_context() #ssl 해결방법\r\n",
    "        req = Request(url, headers={\"User-agent\": \"Chrome\"}) # 403 Error 해결방법\r\n",
    "        try:\r\n",
    "            html = urlopen(req,context=context)\r\n",
    "        except HTTPError as e:\r\n",
    "            #print(e)\r\n",
    "            #print(\"에러난 url {}\".format(url))\r\n",
    "            pages.append(0)\r\n",
    "            continue\r\n",
    "        else :\r\n",
    "            soup = BeautifulSoup(html,\"html.parser\")\r\n",
    "            try :\r\n",
    "                page = soup.select_one(\"#container > div.spot > div.book_info > div.book_info_inner > div:nth-child(3)\").get_text()[5:8]\r\n",
    "                pages.append(page)\r\n",
    "            except:\r\n",
    "                pages.append(0)\r\n",
    "    return pages"
   ],
   "outputs": [],
   "metadata": {}
  },
  {
   "cell_type": "code",
   "execution_count": 7,
   "source": [
    "#import pandas as pd\r\n",
    "def get_fields(json_data,language):\r\n",
    "    title = [each[\"title\"].replace(\"<b>\",\" \").replace(\"</b>\",\" \") for each in json_data[\"items\"]]\r\n",
    "    link = [each[\"link\"] for each in json_data[\"items\"]]\r\n",
    "    # image = [each[\"image\"] for each in json_data[\"items\"]]\r\n",
    "    author = [each[\"author\"] for each in json_data[\"items\"]]\r\n",
    "    price = [each[\"price\"] for each in json_data[\"items\"]]\r\n",
    "    discount = [each[\"discount\"] for each in json_data[\"items\"]]\r\n",
    "    publisher = [each[\"publisher\"].replace(\"<b>\",\" \").replace(\"</b>\",\" \") for each in json_data[\"items\"]]\r\n",
    "    pubdate = [each[\"pubdate\"] for each in json_data[\"items\"]]\r\n",
    "    isbn = [each[\"isbn\"] for each in json_data[\"items\"]]\r\n",
    "    # description = [each[\"description\"].replace(\"<b>\",\" \").replace(\"</b>\",\" \") for each in json_data[\"items\"]]\r\n",
    "    \r\n",
    "    pages = getPage(link) # page얻어서\r\n",
    "\r\n",
    "    result_pd = pd.DataFrame({\r\n",
    "        \"language\":language[0],\r\n",
    "        \"title\":title,\r\n",
    "        \"link\":link,\r\n",
    "        # \"image\":image,\r\n",
    "        \"author\":author,\r\n",
    "        \"price\":price,\r\n",
    "        \"discount\":discount,\r\n",
    "        \"publisher\":publisher,\r\n",
    "        \"pubdate\":pubdate,\r\n",
    "        \"isbn\":isbn,\r\n",
    "        \"pages\":pages\r\n",
    "        # \"description\":description\r\n",
    "    }, \r\n",
    "    columns=[\"language\",\"title\",\"author\",\"pages\",\"price\",\"discount\",\"publisher\",\"pubdate\",\"isbn\"])\r\n",
    "    return result_pd"
   ],
   "outputs": [],
   "metadata": {}
  },
  {
   "cell_type": "code",
   "execution_count": 8,
   "source": [
    "def SearchBooks(languages):\r\n",
    "    result_book = []\r\n",
    "    for language in tqdm(languages):\r\n",
    "        for lan in language:\r\n",
    "            #print(language)\r\n",
    "            for n in range(1,100,20):\r\n",
    "                url = gen_search_url(\"book\", lan, n,20) #n페이지부터 20개 ( 1~ 20, 21~40)\r\n",
    "                json_result = get_result_onpage(url) #받은 내용을 json으로 넣기\r\n",
    "                pd_result = get_fields(json_result,language) #데이터 프레임으로 바꾸기\r\n",
    "\r\n",
    "                result_book.append(pd_result)\r\n",
    "    result_book = pd.concat(result_book)\r\n",
    "    result_book.reset_index(drop=True,inplace=True)\r\n",
    "    return result_book"
   ],
   "outputs": [],
   "metadata": {}
  },
  {
   "cell_type": "code",
   "execution_count": 9,
   "source": [
    "languages = [ [\"Python\",\"파이썬\",\"파이선\"] ,[\"C언어\"],[\"JAVA\",\"Java\"],[\"C++\"],[\"C#\"],\\\r\n",
    "[\"Visual Basic\"],[\"JavaScript\",\"자바스크립트\"],[\"SQL\"],[\"PHP\"],[\"Assembly language\",\"어셈블리\"],\\\r\n",
    "    [\"Classic Visual Basic\"],[\"Go\"],[\"MATLAB\",\"매틀랩\"],[\"R언어\",\"R 데이터\"],[\"Groovy\"],\\\r\n",
    "        [\"Ruby\",\"루비\"],[\"Swift\",\"스위프트\"],[\"Fotran\",\"포트란\"],[\"perl\",\"펄\"],[\"Pascal\",\"파스칼\"]]"
   ],
   "outputs": [],
   "metadata": {}
  },
  {
   "cell_type": "markdown",
   "source": [
    "## 데이터를 수집하는 함수 실행"
   ],
   "metadata": {}
  },
  {
   "cell_type": "code",
   "execution_count": 10,
   "source": [
    "result_book = SearchBooks(languages)\r\n",
    "result_book.tail()"
   ],
   "outputs": [
    {
     "output_type": "stream",
     "name": "stderr",
     "text": [
      "100%|██████████| 20/20 [13:59<00:00, 41.97s/it]\n"
     ]
    },
    {
     "output_type": "execute_result",
     "data": {
      "text/html": [
       "<div>\n",
       "<style scoped>\n",
       "    .dataframe tbody tr th:only-of-type {\n",
       "        vertical-align: middle;\n",
       "    }\n",
       "\n",
       "    .dataframe tbody tr th {\n",
       "        vertical-align: top;\n",
       "    }\n",
       "\n",
       "    .dataframe thead th {\n",
       "        text-align: right;\n",
       "    }\n",
       "</style>\n",
       "<table border=\"1\" class=\"dataframe\">\n",
       "  <thead>\n",
       "    <tr style=\"text-align: right;\">\n",
       "      <th></th>\n",
       "      <th>language</th>\n",
       "      <th>title</th>\n",
       "      <th>author</th>\n",
       "      <th>pages</th>\n",
       "      <th>price</th>\n",
       "      <th>discount</th>\n",
       "      <th>publisher</th>\n",
       "      <th>pubdate</th>\n",
       "      <th>isbn</th>\n",
       "    </tr>\n",
       "  </thead>\n",
       "  <tbody>\n",
       "    <tr>\n",
       "      <th>2962</th>\n",
       "      <td>Pascal</td>\n",
       "      <td>아우슈비츠</td>\n",
       "      <td>&lt;b&gt;파스칼&lt;/b&gt; 크로시</td>\n",
       "      <td>sch</td>\n",
       "      <td>8000</td>\n",
       "      <td></td>\n",
       "      <td>문학세계사</td>\n",
       "      <td>20030506</td>\n",
       "      <td>8970752803 9788970752808</td>\n",
       "    </tr>\n",
       "    <tr>\n",
       "      <th>2963</th>\n",
       "      <td>Pascal</td>\n",
       "      <td>블랙홀 이란 무엇인가 (천체 물리학으로 파헤친 블랙홀의 비밀)</td>\n",
       "      <td>&lt;b&gt;파스칼&lt;/b&gt; 보르데</td>\n",
       "      <td>'es</td>\n",
       "      <td>6500</td>\n",
       "      <td></td>\n",
       "      <td>민음in</td>\n",
       "      <td>20060731</td>\n",
       "      <td>8982731512 9788982731518</td>\n",
       "    </tr>\n",
       "    <tr>\n",
       "      <th>2964</th>\n",
       "      <td>Pascal</td>\n",
       "      <td>30분 심플 쿠킹 (로레인  파스칼 의)</td>\n",
       "      <td>로레인 &lt;b&gt;파스칼&lt;/b&gt;</td>\n",
       "      <td>me</td>\n",
       "      <td>16800</td>\n",
       "      <td>15120</td>\n",
       "      <td>싸이프레스</td>\n",
       "      <td>20140217</td>\n",
       "      <td>8997125400 9788997125401</td>\n",
       "    </tr>\n",
       "    <tr>\n",
       "      <th>2965</th>\n",
       "      <td>Pascal</td>\n",
       "      <td>로레인  파스칼 의 30분 심플 베이킹</td>\n",
       "      <td>로레인 &lt;b&gt;파스칼&lt;/b&gt;</td>\n",
       "      <td>kin</td>\n",
       "      <td>16800</td>\n",
       "      <td>15120</td>\n",
       "      <td>싸이프레스</td>\n",
       "      <td>20130211</td>\n",
       "      <td>8997125249 9788997125241</td>\n",
       "    </tr>\n",
       "    <tr>\n",
       "      <th>2966</th>\n",
       "      <td>Pascal</td>\n",
       "      <td>열려라 우리몸 (우리 아이 첫 인체 체험책)</td>\n",
       "      <td>&lt;b&gt;파스칼&lt;/b&gt; 에들랭</td>\n",
       "      <td>28|</td>\n",
       "      <td>25000</td>\n",
       "      <td></td>\n",
       "      <td>주니어중앙</td>\n",
       "      <td>20100820</td>\n",
       "      <td>8927800095 9788927800095</td>\n",
       "    </tr>\n",
       "  </tbody>\n",
       "</table>\n",
       "</div>"
      ],
      "text/plain": [
       "     language                               title          author pages  \\\n",
       "2962   Pascal                               아우슈비츠  <b>파스칼</b> 크로시   sch   \n",
       "2963   Pascal  블랙홀 이란 무엇인가 (천체 물리학으로 파헤친 블랙홀의 비밀)  <b>파스칼</b> 보르데   'es   \n",
       "2964   Pascal              30분 심플 쿠킹 (로레인  파스칼 의)  로레인 <b>파스칼</b>   me    \n",
       "2965   Pascal               로레인  파스칼 의 30분 심플 베이킹  로레인 <b>파스칼</b>   kin   \n",
       "2966   Pascal            열려라 우리몸 (우리 아이 첫 인체 체험책)  <b>파스칼</b> 에들랭   28|   \n",
       "\n",
       "      price discount publisher   pubdate                      isbn  \n",
       "2962   8000              문학세계사  20030506  8970752803 9788970752808  \n",
       "2963   6500               민음in  20060731  8982731512 9788982731518  \n",
       "2964  16800    15120     싸이프레스  20140217  8997125400 9788997125401  \n",
       "2965  16800    15120     싸이프레스  20130211  8997125249 9788997125241  \n",
       "2966  25000              주니어중앙  20100820  8927800095 9788927800095  "
      ]
     },
     "metadata": {},
     "execution_count": 10
    }
   ],
   "metadata": {}
  },
  {
   "cell_type": "code",
   "execution_count": 11,
   "source": [
    "result_book = result_book[result_book[\"pages\"]!=0] #에러난 내용 삭제"
   ],
   "outputs": [],
   "metadata": {}
  },
  {
   "cell_type": "code",
   "execution_count": 12,
   "source": [
    "copy_data = copy.deepcopy(result_book)"
   ],
   "outputs": [],
   "metadata": {}
  },
  {
   "cell_type": "code",
   "execution_count": 13,
   "source": [
    "# 책 제목에서 관련없는 내용을 삭제하는 코드\r\n",
    "result_book.reset_index(inplace=True) \r\n",
    "titles = [ \"Python\",\"python\",\"PYTHON\",\"파이썬\",\"파이선\",\"C\",\"자바\",\"JAVA\",\"Java\",\"java\",\"Visual Basic\",\"JavaScript\",\"javascript\",\"자바스크립트\",\"SQL\",\"sql\",\"PHP\",\"php\",\\\r\n",
    "    \"Assembly language\",\"assembly language\",\"어셈블리\",\"Classic Visual Basic\",\"classic visual basic\",\"Go\",\"go\",\"matlab\",\"MATLAB\",\"매틀랩\",\"R언어\",\"R 언어\",\"R 데이터\",\\\r\n",
    "        \"Groovy\",\"groovy\",\"Ruby\",\"ruby\",\"루비\",\"Swift\",\"swift\",\"스위프트\",\"Fotran\",\"fotran\",\"포트란\",\"perl\",\"Perl\",\"펄\",\"Pascal\",\"pascal\",\"파스칼\"]\r\n",
    "limit = len(titles)\r\n",
    "import re\r\n",
    "pattern = re.compile(r'[ㄱ-ㅣ가-힣]')\r\n",
    "notPagePattern = re.compile(r'[a-z|A-Z|\\|]')\r\n",
    "for i in range(len(result_book)):\r\n",
    "    cnt = 0\r\n",
    "    for title in titles:\r\n",
    "        if title in result_book.loc[i,\"title\"]:\r\n",
    "            continue\r\n",
    "            #print(result_book.loc[i,\"title\"])\r\n",
    "        else : \r\n",
    "            cnt+=1\r\n",
    "    if cnt == limit:\r\n",
    "        result_book =  result_book.drop(i,0)\r\n",
    "    ##예외처리\r\n",
    "    elif \"perl\" in result_book.loc[i,\"author\"]: #작가명에 perl포함되면 삭제\r\n",
    "        result_book =  result_book.drop(i,0)\r\n",
    "    elif  notPagePattern.search(result_book.loc[i,\"pages\"]) : #페이지에 없어야할 문자가 있으면\r\n",
    "        result_book =  result_book.drop(i,0)\r\n",
    "    elif result_book.loc[i,\"price\"]==\"\":#값이 비어있으면\r\n",
    "        result_book =  result_book.drop(i,0)\r\n",
    "    #해외출판사 삭제\r\n",
    "    elif pattern.search(result_book.loc[i,\"publisher\"]): #출판사명에 한글이 들어있으면\r\n",
    "        pass#print(result_book.loc[i,\"publisher\"]\r\n",
    "    else :\r\n",
    "        result_book =  result_book.drop(i,0)\r\n",
    "        #print(result_book.loc[i,\"title\"])\r\n",
    "    "
   ],
   "outputs": [
    {
     "output_type": "stream",
     "name": "stderr",
     "text": [
      "C:\\Users\\82103\\AppData\\Local\\Temp/ipykernel_44976/1024595066.py:31: FutureWarning: In a future version of pandas all arguments of DataFrame.drop except for the argument 'labels' will be keyword-only\n",
      "  result_book =  result_book.drop(i,0)\n",
      "C:\\Users\\82103\\AppData\\Local\\Temp/ipykernel_44976/1024595066.py:24: FutureWarning: In a future version of pandas all arguments of DataFrame.drop except for the argument 'labels' will be keyword-only\n",
      "  result_book =  result_book.drop(i,0)\n",
      "C:\\Users\\82103\\AppData\\Local\\Temp/ipykernel_44976/1024595066.py:19: FutureWarning: In a future version of pandas all arguments of DataFrame.drop except for the argument 'labels' will be keyword-only\n",
      "  result_book =  result_book.drop(i,0)\n",
      "C:\\Users\\82103\\AppData\\Local\\Temp/ipykernel_44976/1024595066.py:26: FutureWarning: In a future version of pandas all arguments of DataFrame.drop except for the argument 'labels' will be keyword-only\n",
      "  result_book =  result_book.drop(i,0)\n"
     ]
    }
   ],
   "metadata": {}
  },
  {
   "cell_type": "code",
   "execution_count": 14,
   "source": [
    "len(result_book[\"isbn\"].unique())"
   ],
   "outputs": [
    {
     "output_type": "execute_result",
     "data": {
      "text/plain": [
       "810"
      ]
     },
     "metadata": {},
     "execution_count": 14
    }
   ],
   "metadata": {}
  },
  {
   "cell_type": "code",
   "execution_count": 15,
   "source": [
    "result_book.drop_duplicates([\"isbn\"],inplace=True) #isbn 컬럼을 기준으로 중복된 값있으면 1개 제외하고 삭제"
   ],
   "outputs": [],
   "metadata": {}
  },
  {
   "cell_type": "code",
   "execution_count": 16,
   "source": [
    "# pubCnt = result_book.groupby(\"language\").count() #\r\n",
    "# pubCnt.sort_values(by=\"title\",ascending=False,inplace=True)\r\n",
    "# pubCnt = pubCnt[\"title\"]"
   ],
   "outputs": [],
   "metadata": {}
  },
  {
   "cell_type": "markdown",
   "source": [
    "## 획득한 결과를 재가공하여 책 가격과 페이지를 표현하였다."
   ],
   "metadata": {}
  },
  {
   "cell_type": "code",
   "execution_count": 17,
   "source": [
    "tmpdata = copy.deepcopy(result_book)\r\n",
    "pagePriceDate = tmpdata[[\"pages\",\"price\"]].apply(pd.to_numeric, errors = 'coerce') \r\n",
    "pagePriceDate[\"title\"] = result_book[\"title\"]\r\n",
    "pagePriceDate[\"language\"] = result_book[\"language\"]\r\n",
    "pagePriceDate[\"Price/Page\"] = pagePriceDate[\"price\"]/pagePriceDate[\"pages\"]\r\n",
    "pagePriceDate"
   ],
   "outputs": [
    {
     "output_type": "execute_result",
     "data": {
      "text/html": [
       "<div>\n",
       "<style scoped>\n",
       "    .dataframe tbody tr th:only-of-type {\n",
       "        vertical-align: middle;\n",
       "    }\n",
       "\n",
       "    .dataframe tbody tr th {\n",
       "        vertical-align: top;\n",
       "    }\n",
       "\n",
       "    .dataframe thead th {\n",
       "        text-align: right;\n",
       "    }\n",
       "</style>\n",
       "<table border=\"1\" class=\"dataframe\">\n",
       "  <thead>\n",
       "    <tr style=\"text-align: right;\">\n",
       "      <th></th>\n",
       "      <th>pages</th>\n",
       "      <th>price</th>\n",
       "      <th>title</th>\n",
       "      <th>language</th>\n",
       "      <th>Price/Page</th>\n",
       "    </tr>\n",
       "  </thead>\n",
       "  <tbody>\n",
       "    <tr>\n",
       "      <th>0</th>\n",
       "      <td>640.0</td>\n",
       "      <td>32000</td>\n",
       "      <td>Effective  Python  2nd 이펙티브 파이썬 : 파이썬 코딩의 기술 (...</td>\n",
       "      <td>Python</td>\n",
       "      <td>50.000000</td>\n",
       "    </tr>\n",
       "    <tr>\n",
       "      <th>1</th>\n",
       "      <td>310.0</td>\n",
       "      <td>25000</td>\n",
       "      <td>파이썬 딥러닝 파이토치( Python  Deep Learning PyTorch)</td>\n",
       "      <td>Python</td>\n",
       "      <td>80.645161</td>\n",
       "    </tr>\n",
       "    <tr>\n",
       "      <th>3</th>\n",
       "      <td>368.0</td>\n",
       "      <td>26000</td>\n",
       "      <td>Python 으로 시작하는 빅데이터분석 및 인공지능 (개정판)</td>\n",
       "      <td>Python</td>\n",
       "      <td>70.652174</td>\n",
       "    </tr>\n",
       "    <tr>\n",
       "      <th>5</th>\n",
       "      <td>308.0</td>\n",
       "      <td>23000</td>\n",
       "      <td>AI 수학 with  Python (처음 만나는) (한 권으로 배우는 인공지능 수학...</td>\n",
       "      <td>Python</td>\n",
       "      <td>74.675325</td>\n",
       "    </tr>\n",
       "    <tr>\n",
       "      <th>6</th>\n",
       "      <td>544.0</td>\n",
       "      <td>30000</td>\n",
       "      <td>파이썬으로 배우는 게임 개발: 실전편 (장애물 피하기, 닷잇 액션, 맵 에티터, 탄...</td>\n",
       "      <td>Python</td>\n",
       "      <td>55.147059</td>\n",
       "    </tr>\n",
       "    <tr>\n",
       "      <th>...</th>\n",
       "      <td>...</td>\n",
       "      <td>...</td>\n",
       "      <td>...</td>\n",
       "      <td>...</td>\n",
       "      <td>...</td>\n",
       "    </tr>\n",
       "    <tr>\n",
       "      <th>2718</th>\n",
       "      <td>253.0</td>\n",
       "      <td>13600</td>\n",
       "      <td>PASCAL 'S PENSEES, VOL. 02 - 파스칼 팡세, 2부 (영문원서)</td>\n",
       "      <td>Pascal</td>\n",
       "      <td>53.754941</td>\n",
       "    </tr>\n",
       "    <tr>\n",
       "      <th>2725</th>\n",
       "      <td>323.0</td>\n",
       "      <td>27000</td>\n",
       "      <td>파스칼의명상록 팡세.The Book of  Pascal 's Pensees, by ...</td>\n",
       "      <td>Pascal</td>\n",
       "      <td>83.591331</td>\n",
       "    </tr>\n",
       "    <tr>\n",
       "      <th>2773</th>\n",
       "      <td>160.0</td>\n",
       "      <td>22000</td>\n",
       "      <td>지도로 보는 세계정세 (국제관계 전문가  파스칼  보니파스가 바라본 글로벌 이슈와 ...</td>\n",
       "      <td>Pascal</td>\n",
       "      <td>137.500000</td>\n",
       "    </tr>\n",
       "    <tr>\n",
       "      <th>2821</th>\n",
       "      <td>476.0</td>\n",
       "      <td>10000</td>\n",
       "      <td>파스칼  (대학고전총서 16)</td>\n",
       "      <td>Pascal</td>\n",
       "      <td>21.008403</td>\n",
       "    </tr>\n",
       "    <tr>\n",
       "      <th>2858</th>\n",
       "      <td>264.0</td>\n",
       "      <td>12500</td>\n",
       "      <td>파스칼 의 팡세 (기독교를 위한 변증)</td>\n",
       "      <td>Pascal</td>\n",
       "      <td>47.348485</td>\n",
       "    </tr>\n",
       "  </tbody>\n",
       "</table>\n",
       "<p>810 rows × 5 columns</p>\n",
       "</div>"
      ],
      "text/plain": [
       "      pages  price                                              title  \\\n",
       "0     640.0  32000  Effective  Python  2nd 이펙티브 파이썬 : 파이썬 코딩의 기술 (...   \n",
       "1     310.0  25000       파이썬 딥러닝 파이토치( Python  Deep Learning PyTorch)   \n",
       "3     368.0  26000                 Python 으로 시작하는 빅데이터분석 및 인공지능 (개정판)   \n",
       "5     308.0  23000  AI 수학 with  Python (처음 만나는) (한 권으로 배우는 인공지능 수학...   \n",
       "6     544.0  30000  파이썬으로 배우는 게임 개발: 실전편 (장애물 피하기, 닷잇 액션, 맵 에티터, 탄...   \n",
       "...     ...    ...                                                ...   \n",
       "2718  253.0  13600     PASCAL 'S PENSEES, VOL. 02 - 파스칼 팡세, 2부 (영문원서)   \n",
       "2725  323.0  27000  파스칼의명상록 팡세.The Book of  Pascal 's Pensees, by ...   \n",
       "2773  160.0  22000  지도로 보는 세계정세 (국제관계 전문가  파스칼  보니파스가 바라본 글로벌 이슈와 ...   \n",
       "2821  476.0  10000                                   파스칼  (대학고전총서 16)   \n",
       "2858  264.0  12500                              파스칼 의 팡세 (기독교를 위한 변증)   \n",
       "\n",
       "     language  Price/Page  \n",
       "0      Python   50.000000  \n",
       "1      Python   80.645161  \n",
       "3      Python   70.652174  \n",
       "5      Python   74.675325  \n",
       "6      Python   55.147059  \n",
       "...       ...         ...  \n",
       "2718   Pascal   53.754941  \n",
       "2725   Pascal   83.591331  \n",
       "2773   Pascal  137.500000  \n",
       "2821   Pascal   21.008403  \n",
       "2858   Pascal   47.348485  \n",
       "\n",
       "[810 rows x 5 columns]"
      ]
     },
     "metadata": {},
     "execution_count": 17
    }
   ],
   "metadata": {}
  },
  {
   "cell_type": "code",
   "execution_count": 18,
   "source": [
    "priceByLang = pagePriceDate.pivot_table(\r\n",
    "    index = \"language\",\r\n",
    "    values = [\"price\",\"pages\",\"Price/Page\"],\r\n",
    "    aggfunc = np.mean\r\n",
    ")\r\n",
    "#priceByLang1[\"price\"]"
   ],
   "outputs": [],
   "metadata": {}
  },
  {
   "cell_type": "code",
   "execution_count": 19,
   "source": [
    "priceByLang.sort_values(by=\"price\",ascending=False,inplace=True)\r\n",
    "priceByLang\r\n",
    "label = priceByLang.index\r\n",
    "label\r\n",
    "plt.figure(figsize=(16,8))\r\n",
    "plt.bar(\r\n",
    "    label,\r\n",
    "    priceByLang[\"price\"]\r\n",
    ")\r\n",
    "plt.title(\"언어별 가격\")\r\n",
    "plt.xlabel(\"언어\")\r\n",
    "plt.ylabel(\"가격\")\r\n",
    "plt.xticks(np.arange(0,len(priceByLang),step=1),rotation=45)\r\n",
    "plt.show()"
   ],
   "outputs": [
    {
     "output_type": "display_data",
     "data": {
      "image/png": "[encoded data removed]",
      "text/plain": [
       "<Figure size 1152x576 with 1 Axes>"
      ]
     },
     "metadata": {
      "needs_background": "light"
     }
    }
   ],
   "metadata": {}
  },
  {
   "cell_type": "markdown",
   "source": [
    "## 언어별 책의 가격\r\n",
    "- 대부분 20,000원 대 전후로 가격이 형성되어있음을 확인할 수 있다.\r\n",
    "- 다만, Perl는 4만원이상, R과 C++은 3만원대에 형성되어있음을 확인할 수 있다\r\n",
    "- 인기가 높은 Python,Java 등의 가격은 대체로 평이한 반면\r\n",
    "- HIOBE 순위가 낮은 언어들의 관련 책 가격이 높게 형성되어있다."
   ],
   "metadata": {}
  },
  {
   "cell_type": "code",
   "execution_count": 20,
   "source": [
    "priceByLang.sort_values(by=\"pages\",ascending=False,inplace=True)\r\n",
    "pagesByLang = priceByLang\r\n",
    "label = pagesByLang.index\r\n",
    "label\r\n",
    "plt.figure(figsize=(16,8))\r\n",
    "plt.bar(\r\n",
    "    label,\r\n",
    "    pagesByLang[\"pages\"]\r\n",
    ")\r\n",
    "plt.title(\"언어별 페이지수\")\r\n",
    "plt.xlabel(\"언어\")\r\n",
    "plt.ylabel(\"페이지\")\r\n",
    "plt.xticks(np.arange(0,len(pagesByLang),step=1),rotation=45)\r\n",
    "plt.show()"
   ],
   "outputs": [
    {
     "output_type": "display_data",
     "data": {
      "image/png": "[encoded data removed]",
      "text/plain": [
       "<Figure size 1152x576 with 1 Axes>"
      ]
     },
     "metadata": {
      "needs_background": "light"
     }
    }
   ],
   "metadata": {}
  },
  {
   "cell_type": "markdown",
   "source": [
    "## 언어별 페이지수\r\n",
    "- 페이지는 C++, JAVA가 500페이지 이상으로 가장 많은 페이지수를 보이고 있다.\r\n",
    "- Swift, Pascal, Ruby, Go는 300페이지 미만으로 타 언어에 비해 적은 페이지수를 보이고 있다.\r\n",
    "- 한편, 대체적으로 300 - 400 페이지의 양을 보이고 있다."
   ],
   "metadata": {}
  },
  {
   "cell_type": "code",
   "execution_count": 21,
   "source": [
    "priceByLang.sort_values(by=\"Price/Page\",ascending=False,inplace=True)\r\n",
    "priceByLang\r\n",
    "x = np.arange(len(priceByLang.index))\r\n",
    "x\r\n",
    "label = priceByLang.index\r\n",
    "label\r\n",
    "\r\n",
    "plt.figure(figsize=(16,8))\r\n",
    "\r\n",
    "plt.subplot(1,2,1)\r\n",
    "plt.bar(x+0.4,priceByLang[\"Price/Page\"],width=0.2,label=\"언어별 가격/페이지 평균\")\r\n",
    "plt.bar(x,priceByLang[\"price\"]/50,width=0.2,label=\"언어별 가격 평균\")\r\n",
    "plt.title(\"언어별 가격대비 페이지수와 가격비교\")\r\n",
    "plt.xlabel(\"언어\")\r\n",
    "plt.xticks(x,label,rotation=45)\r\n",
    "plt.legend()\r\n",
    "\r\n",
    "plt.subplot(1,2,2)\r\n",
    "plt.bar(x+0.4,priceByLang[\"Price/Page\"],width=0.2,label=\"언어별 가격/페이지 평균\")\r\n",
    "plt.bar(x+0.2,priceByLang[\"pages\"],width=0.2,label=\"언어별 페이지수 평균\")\r\n",
    "plt.title(\"언어별 가격대비 페이지수와 페이지수비교\")\r\n",
    "plt.xlabel(\"언어\")\r\n",
    "\r\n",
    "plt.xticks(x,label,rotation=45)\r\n",
    "plt.legend()\r\n",
    "\r\n",
    "plt.show()"
   ],
   "outputs": [
    {
     "output_type": "display_data",
     "data": {
      "image/png": "[encoded data removed]",
      "text/plain": [
       "<Figure size 1152x576 with 2 Axes>"
      ]
     },
     "metadata": {
      "needs_background": "light"
     }
    }
   ],
   "metadata": {}
  },
  {
   "cell_type": "markdown",
   "source": [
    "## 페이지 수와 가격 사이 특성\r\n",
    "- 가격 / 페이지수 를 한 결과를 기준으로 내림차순으로 정렬하여 나열해 보았다.\r\n",
    "- 가격은 10,000 단위이므로 페이지와 시각적으로 맞추기 위해 50으로 나누어 주었다.\r\n",
    "- 가격 / 페이지수와 각각 데이터는 언어별로는 큰 관련이 없는 것 처럼 보인다.\r\n",
    "- 다만, 언어를 통합하여 가격과 페이지를 기준으로 2차원 좌표상에 그래프를 그려보니\r\n",
    "    - 우상향하는 그래프가 나오는 것으로 보아\r\n",
    "    - 페이지수와 가격은 정비례 관계에 있는 것으로 판단된다."
   ],
   "metadata": {}
  },
  {
   "cell_type": "code",
   "execution_count": 22,
   "source": [
    "pagePriceDate.reset_index(drop=True,inplace=True)\r\n",
    "lmdata = pagePriceDate[[\"pages\",\"price\"]]\r\n",
    "lmdata = lmdata[(lmdata[\"pages\"]>100) & (lmdata[\"price\"]<300000)]\r\n",
    "lmdata.head()"
   ],
   "outputs": [
    {
     "output_type": "execute_result",
     "data": {
      "text/html": [
       "<div>\n",
       "<style scoped>\n",
       "    .dataframe tbody tr th:only-of-type {\n",
       "        vertical-align: middle;\n",
       "    }\n",
       "\n",
       "    .dataframe tbody tr th {\n",
       "        vertical-align: top;\n",
       "    }\n",
       "\n",
       "    .dataframe thead th {\n",
       "        text-align: right;\n",
       "    }\n",
       "</style>\n",
       "<table border=\"1\" class=\"dataframe\">\n",
       "  <thead>\n",
       "    <tr style=\"text-align: right;\">\n",
       "      <th></th>\n",
       "      <th>pages</th>\n",
       "      <th>price</th>\n",
       "    </tr>\n",
       "  </thead>\n",
       "  <tbody>\n",
       "    <tr>\n",
       "      <th>0</th>\n",
       "      <td>640.0</td>\n",
       "      <td>32000</td>\n",
       "    </tr>\n",
       "    <tr>\n",
       "      <th>1</th>\n",
       "      <td>310.0</td>\n",
       "      <td>25000</td>\n",
       "    </tr>\n",
       "    <tr>\n",
       "      <th>2</th>\n",
       "      <td>368.0</td>\n",
       "      <td>26000</td>\n",
       "    </tr>\n",
       "    <tr>\n",
       "      <th>3</th>\n",
       "      <td>308.0</td>\n",
       "      <td>23000</td>\n",
       "    </tr>\n",
       "    <tr>\n",
       "      <th>4</th>\n",
       "      <td>544.0</td>\n",
       "      <td>30000</td>\n",
       "    </tr>\n",
       "  </tbody>\n",
       "</table>\n",
       "</div>"
      ],
      "text/plain": [
       "   pages  price\n",
       "0  640.0  32000\n",
       "1  310.0  25000\n",
       "2  368.0  26000\n",
       "3  308.0  23000\n",
       "4  544.0  30000"
      ]
     },
     "metadata": {},
     "execution_count": 22
    }
   ],
   "metadata": {}
  },
  {
   "cell_type": "code",
   "execution_count": 23,
   "source": [
    "#페이지수 가격 xy그래프\r\n",
    "data = lmdata\r\n",
    "import seaborn as sns\r\n",
    "\r\n",
    "sns.lmplot(\r\n",
    "    x=\"pages\",\r\n",
    "    y=\"price\",\r\n",
    "    data=data,#[\"pages\",\"price\"], #dataset이 I인 행만 가져와서 데이터로 사용\r\n",
    "    ci = None, # 신뢰구간을 선택 \r\n",
    "    height = 7, # == size\r\n",
    "    robust = True,\r\n",
    "    scatter_kws= {\"s\": 50}, # marker의 사이즈(s)를 50으로... \r\n",
    "    order = 1 #2차원\r\n",
    "    );\r\n",
    "plt.title(\"페이지수 대비 가격\")\r\n",
    "plt.legend(labels = ['가격/페이지수'],loc = 'lower right');\r\n",
    "#priceByLang1"
   ],
   "outputs": [
    {
     "output_type": "display_data",
     "data": {
      "image/png": "[encoded data removed]",
      "text/plain": [
       "<Figure size 504x504 with 1 Axes>"
      ]
     },
     "metadata": {
      "needs_background": "light"
     }
    }
   ],
   "metadata": {}
  },
  {
   "cell_type": "markdown",
   "source": [
    "---\r\n"
   ],
   "metadata": {}
  }
 ],
 "metadata": {
  "orig_nbformat": 4,
  "language_info": {
   "name": "python",
   "version": "3.8.11",
   "mimetype": "text/x-python",
   "codemirror_mode": {
    "name": "ipython",
    "version": 3
   },
   "pygments_lexer": "ipython3",
   "nbconvert_exporter": "python",
   "file_extension": ".py"
  },
  "kernelspec": {
   "name": "python3",
   "display_name": "Python 3.8.11 64-bit ('ds_study': conda)"
  },
  "interpreter": {
   "hash": "d8192d1526d22653b4040b7ed404c33aff51a56366fc1a63d634c0af7b796663"
  }
 },
 "nbformat": 4,
 "nbformat_minor": 2
}