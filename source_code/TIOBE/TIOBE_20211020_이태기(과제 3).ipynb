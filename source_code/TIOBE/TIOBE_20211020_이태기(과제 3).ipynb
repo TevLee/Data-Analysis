{
 "cells": [
  {
   "cell_type": "markdown",
   "source": [
    "# 문제\r\n",
    "## TIOBE라는 소프트웨어 코드 품질을 관리하는 회사에서 주기적으로 발표하는 컴퓨터 언어 순위가 있습니다.\r\n",
    "-  이를 많은 사람들이 인용하면서 TIOBE INDEX라고도 불립니다.\r\n",
    "-  최근의 발표에 따르면 가장 인기있는 언어는 Python입니다.\r\n",
    "-  보다 하드웨어 친화적이고 빌드 후 실행시 효율이 높은 언어인 C는 2위,C의 상위 버전으로 인식되는 C++은 4위입니다.\r\n",
    "-  거의 하드웨어 조립에 가까운 느낌이 드는 어셈블리도 10위에 있습니다.\r\n",
    "-  Java와 JavaScript는 각각 3위, 7위입니다.\r\n",
    "-  통계 전용 언어에서 데이터사이언스의 부각으로 각광받았지만 Python의 부상으로 인기가 조금 하락한 R도 14위에 있습니다.\r\n",
    "- 이런 TIOBE INDEX에 맞춰 또 하나 관찰해볼만한 것은 출판되는 책의 양입니다.\r\n",
    "-  각 언어별 출판되는 책의 양을 확인하면 역시 인기도를 실감할 수 있지 않을까요?\r\n",
    "-  여러분들은 출판된 책의 데이터를 얻는 다양한 방법을 알고 있습니다.\r\n",
    "-  이번 과제는 한국에서 출판된 프로그래밍 언어 책의 정보를 수집해서 가장 인기 있는 언어를 출판책 기준으로 확인해보는 것입니다."
   ],
   "metadata": {}
  },
  {
   "cell_type": "markdown",
   "source": [
    "---"
   ],
   "metadata": {}
  },
  {
   "cell_type": "markdown",
   "source": [
    "## 문제1)\r\n",
    "### 과제 설명 첫 두 페이지에 제시한 TIOBE INDEX의 상위 9개 언어에 R(14위)까지해서 총 10개 언어에 대해 출판책 정보를 수집하세요."
   ],
   "metadata": {}
  },
  {
   "cell_type": "code",
   "execution_count": 519,
   "source": [
    "import matplotlib.pyplot as plt\r\n",
    "import pandas as pd\r\n",
    "import numpy as np\r\n",
    "import set_matplotlib_hangul\r\n",
    "import urllib.request\r\n",
    "import datetime\r\n",
    "import json\r\n",
    "\r\n",
    "from tqdm import tqdm\r\n",
    "%matplotlib inline"
   ],
   "outputs": [],
   "metadata": {}
  },
  {
   "cell_type": "code",
   "execution_count": 520,
   "source": [
    "client_id = \"MadIM69g5849lC6DDC_5\" \r\n",
    "client_secret = \"ipBAFSsbIT\" \r\n",
    "\r\n",
    "encText = urllib.parse.quote(\"파이썬\")\r\n",
    "url = \"https://openapi.naver.com/v1/search/book?query=\" + encText \r\n",
    "\r\n",
    "request = urllib.request.Request(url)\r\n",
    "request.add_header(\"X-Naver-Client-Id\",client_id)\r\n",
    "request.add_header(\"X-Naver-Client-Secret\",client_secret)\r\n",
    "response = urllib.request.urlopen(request)\r\n",
    "rescode = response.getcode()\r\n",
    "\r\n",
    "if(rescode==200):\r\n",
    "    response_body = response.read()\r\n",
    "    #print(response_body.decode('utf-8'))\r\n",
    "else:\r\n",
    "    print(\"Error Code:\" + rescode)"
   ],
   "outputs": [],
   "metadata": {}
  },
  {
   "cell_type": "code",
   "execution_count": 521,
   "source": [
    "def gen_search_url(api_node, search_text, start_num, disp_num): #찾을 url 생성(generate)\r\n",
    "    base = \"https://openapi.naver.com/v1/search/\"\r\n",
    "    node = \"/\"+ api_node + \".json\"\r\n",
    "    param_query = \"?query=\"+urllib.parse.quote(search_text)\r\n",
    "    param_start = \"&start=\"+str(start_num)\r\n",
    "    param_disp = \"&display=\" + str(disp_num)\r\n",
    "\r\n",
    "    return base+node+param_query+param_start+param_disp"
   ],
   "outputs": [],
   "metadata": {}
  },
  {
   "cell_type": "code",
   "execution_count": 522,
   "source": [
    "import json\r\n",
    "import datetime\r\n",
    "\r\n",
    "def get_result_onpage(url):\r\n",
    "    request = urllib.request.Request(url) #요청할 url\r\n",
    "    request.add_header(\"X-Naver-Client-Id\",client_id)\r\n",
    "    request.add_header(\"X-Naver-Client-Secret\",client_secret)\r\n",
    "\r\n",
    "    response = urllib.request.urlopen(request)\r\n",
    "    #print(\"[%s] Url Request Success\"% datetime.datetime.now()) #현재 시간 찍기\r\n",
    "    return json.loads(response.read().decode(\"utf-8\"))"
   ],
   "outputs": [],
   "metadata": {}
  },
  {
   "cell_type": "code",
   "execution_count": 523,
   "source": [
    "#url = gen_search_url(\"book\",\"파이썬\",1,5) #1번부터 시작 , 5개 보여줘\r\n",
    "#one_result = get_result_onpage(url)\r\n",
    "#one_result"
   ],
   "outputs": [],
   "metadata": {}
  },
  {
   "cell_type": "code",
   "execution_count": 524,
   "source": [
    "#one_result['items']"
   ],
   "outputs": [],
   "metadata": {}
  },
  {
   "cell_type": "code",
   "execution_count": 525,
   "source": [
    "#one_result[\"items\"][0]"
   ],
   "outputs": [],
   "metadata": {}
  },
  {
   "cell_type": "code",
   "execution_count": 526,
   "source": [
    "#import pandas as pd\r\n",
    "def get_fields(json_data,language):\r\n",
    "    title = [each[\"title\"].replace(\"<b>\",\" \").replace(\"</b>\",\" \") for each in json_data[\"items\"]]\r\n",
    "    link = [each[\"link\"] for each in json_data[\"items\"]]\r\n",
    "    image = [each[\"image\"] for each in json_data[\"items\"]]\r\n",
    "    author = [each[\"author\"] for each in json_data[\"items\"]]\r\n",
    "    price = [each[\"price\"] for each in json_data[\"items\"]]\r\n",
    "    discount = [each[\"discount\"] for each in json_data[\"items\"]]\r\n",
    "    publisher = [each[\"publisher\"].replace(\"<b>\",\" \").replace(\"</b>\",\" \") for each in json_data[\"items\"]]\r\n",
    "    pubdate = [each[\"pubdate\"] for each in json_data[\"items\"]]\r\n",
    "    isbn = [each[\"isbn\"] for each in json_data[\"items\"]]\r\n",
    "    description = [each[\"description\"].replace(\"<b>\",\" \").replace(\"</b>\",\" \") for each in json_data[\"items\"]]\r\n",
    "    \r\n",
    "    result_pd = pd.DataFrame({\r\n",
    "        \"language\":language[0],\r\n",
    "        \"title\":title,\r\n",
    "        \"link\":link,\r\n",
    "        \"image\":image,\r\n",
    "        \"author\":author,\r\n",
    "        \"price\":price,\r\n",
    "        \"discount\":discount,\r\n",
    "        \"publisher\":publisher,\r\n",
    "        \"pubdate\":pubdate,\r\n",
    "        \"isbn\":isbn,\r\n",
    "        \"description\":description\r\n",
    "    }, \r\n",
    "    columns=[\"language\",\"title\",\"link\",\"image\",\"author\",\"price\",\"discount\",\"publisher\",\"pubdate\",\"isbn\",\"description\"])\r\n",
    "    return result_pd"
   ],
   "outputs": [],
   "metadata": {}
  },
  {
   "cell_type": "code",
   "execution_count": 527,
   "source": [
    "from tqdm import tqdm\r\n",
    "def SearchBooks(languages):\r\n",
    "    result_book = []\r\n",
    "    for language in tqdm(languages):\r\n",
    "        for lan in language:\r\n",
    "            #print(language)\r\n",
    "            for n in range(1,1000,20):\r\n",
    "                url = gen_search_url(\"book\", lan, n,20) #n페이지부터 20개 ( 1~ 20, 21~40)\r\n",
    "                json_result = get_result_onpage(url) #받은 내용을 json으로 넣기\r\n",
    "                pd_result = get_fields(json_result,language) #데이터 프레임으로 바꾸기\r\n",
    "\r\n",
    "                result_book.append(pd_result)\r\n",
    "    result_book = pd.concat(result_book)\r\n",
    "\r\n",
    "    #index 수정\r\n",
    "    result_book.reset_index(drop=True,inplace=True)\r\n",
    "    #result_book[\"price\"] = result_book[\"price\"].astype(\"float\")\r\n",
    "    #result_book[\"discount\"] = result_book[\"discount\"].astype(\"float\")\r\n",
    "    \r\n",
    "    # #excel 저장\r\n",
    "    # writer = pd.ExcelWriter(\"./\"+languages[0]+\".xlsx\",engine=\"xlsxwriter\")\r\n",
    "    # result_book.to_excel(writer, sheet_name=\"Sheet1\")\r\n",
    "    # workbook = writer.book \r\n",
    "    # worksheet = writer.sheets[\"Sheet1\"]\r\n",
    "    # writer.save()\r\n",
    "    return result_book"
   ],
   "outputs": [],
   "metadata": {}
  },
  {
   "cell_type": "code",
   "execution_count": 528,
   "source": [
    "languages = [ [\"Python\",\"파이썬\",\"파이선\"] ,[\"C언어\"],[\"JAVA\",\"Java\"],[\"C++\"],[\"C#\"],[\"Visual Basic\"],[\"JavaScript\",\"자바스크립트\"],[\"SQL\"],[\"PHP\"],[\"R언어\"]]"
   ],
   "outputs": [],
   "metadata": {}
  },
  {
   "cell_type": "code",
   "execution_count": 529,
   "source": [
    "result_book = SearchBooks(languages)\r\n",
    "result_book.head()"
   ],
   "outputs": [
    {
     "output_type": "stream",
     "name": "stderr",
     "text": [
      "100%|██████████| 10/10 [02:22<00:00, 14.23s/it]\n"
     ]
    },
    {
     "output_type": "execute_result",
     "data": {
      "text/html": [
       "<div>\n",
       "<style scoped>\n",
       "    .dataframe tbody tr th:only-of-type {\n",
       "        vertical-align: middle;\n",
       "    }\n",
       "\n",
       "    .dataframe tbody tr th {\n",
       "        vertical-align: top;\n",
       "    }\n",
       "\n",
       "    .dataframe thead th {\n",
       "        text-align: right;\n",
       "    }\n",
       "</style>\n",
       "<table border=\"1\" class=\"dataframe\">\n",
       "  <thead>\n",
       "    <tr style=\"text-align: right;\">\n",
       "      <th></th>\n",
       "      <th>language</th>\n",
       "      <th>title</th>\n",
       "      <th>link</th>\n",
       "      <th>image</th>\n",
       "      <th>author</th>\n",
       "      <th>price</th>\n",
       "      <th>discount</th>\n",
       "      <th>publisher</th>\n",
       "      <th>pubdate</th>\n",
       "      <th>isbn</th>\n",
       "      <th>description</th>\n",
       "    </tr>\n",
       "  </thead>\n",
       "  <tbody>\n",
       "    <tr>\n",
       "      <th>0</th>\n",
       "      <td>Python</td>\n",
       "      <td>Effective  Python  2nd 이펙티브 파이썬 : 파이썬 코딩의 기술 (...</td>\n",
       "      <td>http://book.naver.com/bookdb/book_detail.php?b...</td>\n",
       "      <td>https://bookthumb-phinf.pstatic.net/cover/168/...</td>\n",
       "      <td>브렛 슬라킨 지음|오현석</td>\n",
       "      <td>32000</td>\n",
       "      <td>28800</td>\n",
       "      <td>길벗</td>\n",
       "      <td>20201030</td>\n",
       "      <td>1165213192 9791165213190</td>\n",
       "      <td>아마존 파이썬 프로그래밍 분야 베스트셀러, 〈Effective  Python 〉 전...</td>\n",
       "    </tr>\n",
       "    <tr>\n",
       "      <th>1</th>\n",
       "      <td>Python</td>\n",
       "      <td>파이썬 딥러닝 파이토치( Python  Deep Learning PyTorch)</td>\n",
       "      <td>http://book.naver.com/bookdb/book_detail.php?b...</td>\n",
       "      <td>https://bookthumb-phinf.pstatic.net/cover/167/...</td>\n",
       "      <td>이경택|방성수|안상준</td>\n",
       "      <td>25000</td>\n",
       "      <td>22500</td>\n",
       "      <td>정보문화사</td>\n",
       "      <td>20201008</td>\n",
       "      <td>8956748578 9788956748573</td>\n",
       "      <td>파이썬은 선택이 아닌 필수! 파이토치로 딥러닝 입문하기!이 책은 딥러닝 기술에 초점...</td>\n",
       "    </tr>\n",
       "    <tr>\n",
       "      <th>2</th>\n",
       "      <td>Python</td>\n",
       "      <td>Intuitive  Python : Productive Development for...</td>\n",
       "      <td>http://book.naver.com/bookdb/book_detail.php?b...</td>\n",
       "      <td>https://bookthumb-phinf.pstatic.net/cover/206/...</td>\n",
       "      <td>MULLER|David</td>\n",
       "      <td>38060</td>\n",
       "      <td></td>\n",
       "      <td>PragmaticBookshelf</td>\n",
       "      <td>20211005</td>\n",
       "      <td>1680508237 9781680508239</td>\n",
       "      <td>Developers power their projects with  Python  ...</td>\n",
       "    </tr>\n",
       "    <tr>\n",
       "      <th>3</th>\n",
       "      <td>Python</td>\n",
       "      <td>Python 으로 시작하는 빅데이터분석 및 인공지능 (개정판)</td>\n",
       "      <td>http://book.naver.com/bookdb/book_detail.php?b...</td>\n",
       "      <td>https://bookthumb-phinf.pstatic.net/cover/180/...</td>\n",
       "      <td>조준모</td>\n",
       "      <td>26000</td>\n",
       "      <td>25500</td>\n",
       "      <td>인피니티북스</td>\n",
       "      <td>20210225</td>\n",
       "      <td>118557879X 9791185578798</td>\n",
       "      <td>이를 위해 현재 각광을 받고 있는 구글의 주피터 노트북(JUPYTER NOTEBOO...</td>\n",
       "    </tr>\n",
       "    <tr>\n",
       "      <th>4</th>\n",
       "      <td>Python</td>\n",
       "      <td>Fluent  Python : Clear, Concise, and Effective...</td>\n",
       "      <td>http://book.naver.com/bookdb/book_detail.php?b...</td>\n",
       "      <td>https://bookthumb-phinf.pstatic.net/cover/207/...</td>\n",
       "      <td>Ramalho|Luciano</td>\n",
       "      <td>99730</td>\n",
       "      <td></td>\n",
       "      <td>O'ReillyMedia</td>\n",
       "      <td>20211019</td>\n",
       "      <td>1492056359 9781492056355</td>\n",
       "      <td>Python 's simplicity lets you become producti...</td>\n",
       "    </tr>\n",
       "    <tr>\n",
       "      <th>...</th>\n",
       "      <td>...</td>\n",
       "      <td>...</td>\n",
       "      <td>...</td>\n",
       "      <td>...</td>\n",
       "      <td>...</td>\n",
       "      <td>...</td>\n",
       "      <td>...</td>\n",
       "      <td>...</td>\n",
       "      <td>...</td>\n",
       "      <td>...</td>\n",
       "      <td>...</td>\n",
       "    </tr>\n",
       "    <tr>\n",
       "      <th>13050</th>\n",
       "      <td>R언어</td>\n",
       "      <td>Words Their Way (Words Sorts For Derivational ...</td>\n",
       "      <td>http://book.naver.com/bookdb/book_detail.php?b...</td>\n",
       "      <td>https://bookthumb-phinf.pstatic.net/cover/016/...</td>\n",
       "      <td>Johnston, Francine|Bear, Donald &lt;b&gt;R&lt;/b&gt;.|Inve...</td>\n",
       "      <td>29320</td>\n",
       "      <td>0</td>\n",
       "      <td>PrenticeHall</td>\n",
       "      <td>20050209</td>\n",
       "      <td>0131718126 9780131718128</td>\n",
       "      <td>PROVIDED FOR ADVANCED READERS AND WRITERS, THI...</td>\n",
       "    </tr>\n",
       "    <tr>\n",
       "      <th>13051</th>\n",
       "      <td>R언어</td>\n",
       "      <td>Proteomics For Biological Discovery</td>\n",
       "      <td>http://book.naver.com/bookdb/book_detail.php?b...</td>\n",
       "      <td>https://bookthumb-phinf.pstatic.net/cover/016/...</td>\n",
       "      <td>Timothy D. Veenstra|John &lt;b&gt;R&lt;/b&gt;. Yates</td>\n",
       "      <td>97650</td>\n",
       "      <td>54000</td>\n",
       "      <td>JohnWiley&amp;SonsInc</td>\n",
       "      <td>20050801</td>\n",
       "      <td>0471160059 9780471160052</td>\n",
       "      <td>WRITTEN BY RECOGNIZED EXPERTS IN THE STUDY OF ...</td>\n",
       "    </tr>\n",
       "    <tr>\n",
       "      <th>13052</th>\n",
       "      <td>R언어</td>\n",
       "      <td>Mechanics of Materials 3/E (Paperback)</td>\n",
       "      <td>http://book.naver.com/bookdb/book_detail.php?b...</td>\n",
       "      <td>https://bookthumb-phinf.pstatic.net/cover/066/...</td>\n",
       "      <td>CRAIG|Roy &lt;b&gt;R&lt;/b&gt;.</td>\n",
       "      <td>371790</td>\n",
       "      <td>304870</td>\n",
       "      <td>Wiley</td>\n",
       "      <td>20110301</td>\n",
       "      <td>0470481811 9780470481813</td>\n",
       "      <td>BY EMPHASIZING THE THREE KEY CONCEPTS OF MECHA...</td>\n",
       "    </tr>\n",
       "    <tr>\n",
       "      <th>13053</th>\n",
       "      <td>R언어</td>\n",
       "      <td>Wiley CPA Exam Review 2009 (New, Paperback) (A...</td>\n",
       "      <td>http://book.naver.com/bookdb/book_detail.php?b...</td>\n",
       "      <td>https://bookthumb-phinf.pstatic.net/cover/048/...</td>\n",
       "      <td>Patrick &lt;b&gt;R&lt;/b&gt;. Delaney|Ray Whittington</td>\n",
       "      <td>73920</td>\n",
       "      <td>67080</td>\n",
       "      <td>JohnWiley&amp;SonsInc</td>\n",
       "      <td>20081202</td>\n",
       "      <td>0470286016 9780470286012</td>\n",
       "      <td>PUBLISHED ANNUALLY, THIS COMPREHENSIVE STUDY G...</td>\n",
       "    </tr>\n",
       "    <tr>\n",
       "      <th>13054</th>\n",
       "      <td>R언어</td>\n",
       "      <td>Introductory Raman Spectroscopy</td>\n",
       "      <td>http://book.naver.com/bookdb/book_detail.php?b...</td>\n",
       "      <td>https://bookthumb-phinf.pstatic.net/cover/003/...</td>\n",
       "      <td>John &lt;b&gt;R&lt;/b&gt;. Ferraro|Kazua Nakamoto|Chris W....</td>\n",
       "      <td>205838</td>\n",
       "      <td>200800</td>\n",
       "      <td>AcademicPress</td>\n",
       "      <td>20021101</td>\n",
       "      <td>0122541057 9780122541056</td>\n",
       "      <td>THIS SECOND EDITION OF INTRODUCTORY RAMAN SPEC...</td>\n",
       "    </tr>\n",
       "  </tbody>\n",
       "</table>\n",
       "<p>13055 rows × 11 columns</p>\n",
       "</div>"
      ],
      "text/plain": [
       "      language                                              title  \\\n",
       "0       Python  Effective  Python  2nd 이펙티브 파이썬 : 파이썬 코딩의 기술 (...   \n",
       "1       Python       파이썬 딥러닝 파이토치( Python  Deep Learning PyTorch)   \n",
       "2       Python  Intuitive  Python : Productive Development for...   \n",
       "3       Python                 Python 으로 시작하는 빅데이터분석 및 인공지능 (개정판)   \n",
       "4       Python  Fluent  Python : Clear, Concise, and Effective...   \n",
       "...        ...                                                ...   \n",
       "13050      R언어  Words Their Way (Words Sorts For Derivational ...   \n",
       "13051      R언어                Proteomics For Biological Discovery   \n",
       "13052      R언어             Mechanics of Materials 3/E (Paperback)   \n",
       "13053      R언어  Wiley CPA Exam Review 2009 (New, Paperback) (A...   \n",
       "13054      R언어                    Introductory Raman Spectroscopy   \n",
       "\n",
       "                                                    link  \\\n",
       "0      http://book.naver.com/bookdb/book_detail.php?b...   \n",
       "1      http://book.naver.com/bookdb/book_detail.php?b...   \n",
       "2      http://book.naver.com/bookdb/book_detail.php?b...   \n",
       "3      http://book.naver.com/bookdb/book_detail.php?b...   \n",
       "4      http://book.naver.com/bookdb/book_detail.php?b...   \n",
       "...                                                  ...   \n",
       "13050  http://book.naver.com/bookdb/book_detail.php?b...   \n",
       "13051  http://book.naver.com/bookdb/book_detail.php?b...   \n",
       "13052  http://book.naver.com/bookdb/book_detail.php?b...   \n",
       "13053  http://book.naver.com/bookdb/book_detail.php?b...   \n",
       "13054  http://book.naver.com/bookdb/book_detail.php?b...   \n",
       "\n",
       "                                                   image  \\\n",
       "0      https://bookthumb-phinf.pstatic.net/cover/168/...   \n",
       "1      https://bookthumb-phinf.pstatic.net/cover/167/...   \n",
       "2      https://bookthumb-phinf.pstatic.net/cover/206/...   \n",
       "3      https://bookthumb-phinf.pstatic.net/cover/180/...   \n",
       "4      https://bookthumb-phinf.pstatic.net/cover/207/...   \n",
       "...                                                  ...   \n",
       "13050  https://bookthumb-phinf.pstatic.net/cover/016/...   \n",
       "13051  https://bookthumb-phinf.pstatic.net/cover/016/...   \n",
       "13052  https://bookthumb-phinf.pstatic.net/cover/066/...   \n",
       "13053  https://bookthumb-phinf.pstatic.net/cover/048/...   \n",
       "13054  https://bookthumb-phinf.pstatic.net/cover/003/...   \n",
       "\n",
       "                                                  author   price discount  \\\n",
       "0                                          브렛 슬라킨 지음|오현석   32000    28800   \n",
       "1                                            이경택|방성수|안상준   25000    22500   \n",
       "2                                           MULLER|David   38060            \n",
       "3                                                    조준모   26000    25500   \n",
       "4                                        Ramalho|Luciano   99730            \n",
       "...                                                  ...     ...      ...   \n",
       "13050  Johnston, Francine|Bear, Donald <b>R</b>.|Inve...   29320        0   \n",
       "13051           Timothy D. Veenstra|John <b>R</b>. Yates   97650    54000   \n",
       "13052                                CRAIG|Roy <b>R</b>.  371790   304870   \n",
       "13053          Patrick <b>R</b>. Delaney|Ray Whittington   73920    67080   \n",
       "13054  John <b>R</b>. Ferraro|Kazua Nakamoto|Chris W....  205838   200800   \n",
       "\n",
       "                publisher   pubdate                      isbn  \\\n",
       "0                      길벗  20201030  1165213192 9791165213190   \n",
       "1                   정보문화사  20201008  8956748578 9788956748573   \n",
       "2      PragmaticBookshelf  20211005  1680508237 9781680508239   \n",
       "3                  인피니티북스  20210225  118557879X 9791185578798   \n",
       "4           O'ReillyMedia  20211019  1492056359 9781492056355   \n",
       "...                   ...       ...                       ...   \n",
       "13050        PrenticeHall  20050209  0131718126 9780131718128   \n",
       "13051   JohnWiley&SonsInc  20050801  0471160059 9780471160052   \n",
       "13052               Wiley  20110301  0470481811 9780470481813   \n",
       "13053   JohnWiley&SonsInc  20081202  0470286016 9780470286012   \n",
       "13054       AcademicPress  20021101  0122541057 9780122541056   \n",
       "\n",
       "                                             description  \n",
       "0      아마존 파이썬 프로그래밍 분야 베스트셀러, 〈Effective  Python 〉 전...  \n",
       "1      파이썬은 선택이 아닌 필수! 파이토치로 딥러닝 입문하기!이 책은 딥러닝 기술에 초점...  \n",
       "2      Developers power their projects with  Python  ...  \n",
       "3      이를 위해 현재 각광을 받고 있는 구글의 주피터 노트북(JUPYTER NOTEBOO...  \n",
       "4       Python 's simplicity lets you become producti...  \n",
       "...                                                  ...  \n",
       "13050  PROVIDED FOR ADVANCED READERS AND WRITERS, THI...  \n",
       "13051  WRITTEN BY RECOGNIZED EXPERTS IN THE STUDY OF ...  \n",
       "13052  BY EMPHASIZING THE THREE KEY CONCEPTS OF MECHA...  \n",
       "13053  PUBLISHED ANNUALLY, THIS COMPREHENSIVE STUDY G...  \n",
       "13054  THIS SECOND EDITION OF INTRODUCTORY RAMAN SPEC...  \n",
       "\n",
       "[13055 rows x 11 columns]"
      ]
     },
     "metadata": {},
     "execution_count": 529
    }
   ],
   "metadata": {}
  },
  {
   "cell_type": "code",
   "execution_count": 530,
   "source": [
    "import copy\r\n",
    "copy_data = copy.deepcopy(result_book)"
   ],
   "outputs": [],
   "metadata": {}
  },
  {
   "cell_type": "markdown",
   "source": [
    "### 문제 1) 소결\r\n",
    "- 네이버 검색 API를 사용하여 TIOBE INDEX 상위 9개 언어와 R언어에 대한 출판 책 정보를 수집하였다.\r\n",
    "- \"language\" 컬럼을 이용하여 출판된 책이 관련된 언어를 정리하였다.\r\n",
    "- 수집한 데이터는 result_book 변수에 저장하였다."
   ],
   "metadata": {}
  },
  {
   "cell_type": "markdown",
   "source": [
    "---"
   ],
   "metadata": {}
  },
  {
   "cell_type": "markdown",
   "source": [
    "## 문제2)\r\n",
    "### 전세계에서 간행되는 도서에 고유번호를 인가하여 문헌정보와 유통의 효율화를 기대하기 위해 부여되는 일종의\r\n",
    "### 책의 ID 역할을 하는 ISBN 넘버가 있습니다. 문제1에서 수집한 데이터를 ISBN 정보로 unique 검사 후 중복데이터를 정리하세요."
   ],
   "metadata": {}
  },
  {
   "cell_type": "code",
   "execution_count": 531,
   "source": [
    "len(result_book[\"isbn\"].unique())"
   ],
   "outputs": [
    {
     "output_type": "execute_result",
     "data": {
      "text/plain": [
       "11279"
      ]
     },
     "metadata": {},
     "execution_count": 531
    }
   ],
   "metadata": {}
  },
  {
   "cell_type": "code",
   "execution_count": 532,
   "source": [
    "result_book.drop_duplicates([\"isbn\"],inplace=True) #isbn 컬럼을 기준으로 중복된 값있으면 1개 제외하고 삭제"
   ],
   "outputs": [],
   "metadata": {}
  },
  {
   "cell_type": "code",
   "execution_count": 533,
   "source": [
    "result_book.info()"
   ],
   "outputs": [
    {
     "output_type": "stream",
     "name": "stdout",
     "text": [
      "<class 'pandas.core.frame.DataFrame'>\n",
      "Int64Index: 11279 entries, 0 to 13054\n",
      "Data columns (total 11 columns):\n",
      " #   Column       Non-Null Count  Dtype \n",
      "---  ------       --------------  ----- \n",
      " 0   language     11279 non-null  object\n",
      " 1   title        11279 non-null  object\n",
      " 2   link         11279 non-null  object\n",
      " 3   image        11279 non-null  object\n",
      " 4   author       11279 non-null  object\n",
      " 5   price        11279 non-null  object\n",
      " 6   discount     11279 non-null  object\n",
      " 7   publisher    11279 non-null  object\n",
      " 8   pubdate      11279 non-null  object\n",
      " 9   isbn         11279 non-null  object\n",
      " 10  description  11279 non-null  object\n",
      "dtypes: object(11)\n",
      "memory usage: 1.0+ MB\n"
     ]
    }
   ],
   "metadata": {}
  },
  {
   "cell_type": "markdown",
   "source": [
    "### 문제 2) 소결\r\n",
    "- drop_duplicates 메서드를 이용하여 중복된 \"isbn\" 컬럼 값을 가진 행을 1개만 남기고 삭제하였다.\r\n",
    "- result_book.info()로 데이터를 확인한 결과\r\n",
    "    - 총 13,055개 데이터 중 고유한 11,279개 데이터가 남았다. 즉( 1,776 개의 중복된 값이 삭제되었다)"
   ],
   "metadata": {}
  },
  {
   "cell_type": "markdown",
   "source": [
    "---"
   ],
   "metadata": {}
  },
  {
   "cell_type": "markdown",
   "source": [
    "## 문제3)\r\n",
    "### 문제2의 결과에서 각 언어별 출판물의 양으로 순위를 매겨주세요. 이때 적절히 시각화하여 그 양도확인해주세요."
   ],
   "metadata": {}
  },
  {
   "cell_type": "code",
   "execution_count": 534,
   "source": [
    "import numpy as np\r\n",
    "import matplotlib.pyplot as plt\r\n",
    "import set_matplotlib_hangul\r\n",
    "%matplotlib inline"
   ],
   "outputs": [],
   "metadata": {}
  },
  {
   "cell_type": "code",
   "execution_count": 535,
   "source": [
    "label = result_book[\"language\"].unique()\r\n",
    "label"
   ],
   "outputs": [
    {
     "output_type": "execute_result",
     "data": {
      "text/plain": [
       "array(['Python', 'C언어', 'JAVA', 'C++', 'C#', 'Visual Basic', 'JavaScript',\n",
       "       'SQL', 'PHP', 'R언어'], dtype=object)"
      ]
     },
     "metadata": {},
     "execution_count": 535
    }
   ],
   "metadata": {}
  },
  {
   "cell_type": "code",
   "execution_count": 536,
   "source": [
    "pubCnt = result_book.groupby(\"language\").count()\r\n",
    "pubCnt.sort_values(by=\"title\",ascending=False,inplace=True)\r\n",
    "pubCnt = pubCnt[\"title\"]"
   ],
   "outputs": [],
   "metadata": {}
  },
  {
   "cell_type": "code",
   "execution_count": 537,
   "source": [
    "plt.figure(figsize=(12,8))\r\n",
    "plt.bar(\r\n",
    "    #np.arange(len(label)),\r\n",
    "    label,\r\n",
    "    pubCnt\r\n",
    ")\r\n",
    "plt.title(\"언어별 출판물 양\")\r\n",
    "plt.xlabel(\"언어\")\r\n",
    "plt.ylabel(\"출판물 양\")\r\n",
    "plt.show()"
   ],
   "outputs": [
    {
     "output_type": "display_data",
     "data": {
      "image/png": "[encoded data removed]",
      "text/plain": [
       "<Figure size 864x576 with 1 Axes>"
      ]
     },
     "metadata": {
      "needs_background": "light"
     }
    }
   ],
   "metadata": {}
  },
  {
   "cell_type": "markdown",
   "source": [
    "### 문제3) 소결\r\n",
    "- groupby() 메서드를 이용하여 각 \"language\" 별로 데이터 갯수를 수집하였다.\r\n",
    "- 수집한 데이터를 '출판물의 양'을 y축으로 하는 막대 그래프로 표현하였다.\r\n",
    "- Python, C언어, JAVA 순으로 많게 출판된 것으로 보인다."
   ],
   "metadata": {}
  },
  {
   "cell_type": "markdown",
   "source": [
    "---"
   ],
   "metadata": {}
  },
  {
   "cell_type": "markdown",
   "source": [
    "## 문제4)\r\n",
    "### 수집된 정보를 기반으로 우리나라의 컴퓨터 언어 관련 출판사 순위를 확인해 주세요."
   ],
   "metadata": {}
  },
  {
   "cell_type": "code",
   "execution_count": 538,
   "source": [
    "publisherCnt = result_book.groupby(\"publisher\").count()\r\n",
    "publisherCnt.sort_values(by=\"title\",ascending=False,inplace=True)\r\n",
    "publisherCnt = publisherCnt.iloc[0:10,:][\"title\"]\r\n",
    "publisherCnt\r\n",
    "label = publisherCnt.index\r\n",
    "label\r\n",
    "plt.figure(figsize=(12,8))\r\n",
    "plt.bar(\r\n",
    "    #np.arange(len(label)),\r\n",
    "    label,\r\n",
    "    publisherCnt\r\n",
    ")\r\n",
    "plt.title(\"출판사별 출판물 양\")\r\n",
    "plt.xlabel(\"출판사\")\r\n",
    "plt.ylabel(\"출판물 양\")\r\n",
    "plt.xticks(np.arange(0,10,step=1))\r\n",
    "plt.show()"
   ],
   "outputs": [
    {
     "output_type": "display_data",
     "data": {
      "image/png": "[encoded data removed]",
      "text/plain": [
       "<Figure size 864x576 with 1 Axes>"
      ]
     },
     "metadata": {
      "needs_background": "light"
     }
    }
   ],
   "metadata": {}
  },
  {
   "cell_type": "markdown",
   "source": [
    "### 문제 4) 소결\r\n",
    "- 출판사별로 출판한 양을 Y축으로 하는 막대그래프를 작성하였다.\r\n",
    "- 에이콘출판, PHP硏究所, 한빛미디어 순으로 출판양이 많은 것으로 보인다."
   ],
   "metadata": {}
  },
  {
   "cell_type": "markdown",
   "source": [
    "---"
   ],
   "metadata": {}
  },
  {
   "cell_type": "markdown",
   "source": [
    "## 문제5)\r\n",
    "### 수집된 정보에서 출판일 기준, 최근 2년간(20년, 21년) 데이터와 그 전 3년(17년, 18년, 19년) 데이터를 비교해주세요.\r\n",
    "### 여기서 비교해야할 대상은 여러분들이 정하세요. 두 기간의 데이터를 관찰해서 특이한 사항들을 정리해주면 됩니다. \r\n",
    "### 이 과정에서 역시 적절한 시각화도 고민해 주세요.\r\n",
    "### 특히 어떤 특정 언어의 변화가 감지되면 강조해주세요."
   ],
   "metadata": {}
  },
  {
   "cell_type": "code",
   "execution_count": 539,
   "source": [
    "len(result_book.loc[result_book[\"pubdate\"]==\"\"]) #출판일 기재되어있지 않은 컬럼 갯수"
   ],
   "outputs": [
    {
     "output_type": "execute_result",
     "data": {
      "text/plain": [
       "4"
      ]
     },
     "metadata": {},
     "execution_count": 539
    }
   ],
   "metadata": {}
  },
  {
   "cell_type": "code",
   "execution_count": 552,
   "source": [
    "result_book.drop(result_book.loc[ result_book[\"pubdate\"]==\"\"].index, inplace=True)\r\n",
    "result_book.drop(result_book.loc[ result_book[\"pubdate\"]==\"June2002\"].index, inplace=True)"
   ],
   "outputs": [],
   "metadata": {}
  },
  {
   "cell_type": "code",
   "execution_count": 555,
   "source": [
    "result_book[\"출판년도\"] = result_book[\"pubdate\"].str[:4].astype(int)\r\n",
    "result_book[\"최근2년/그전3년\"] = [\r\n",
    "    \"최근2년\" if yr>=2020 else \"그전3년\" if yr>=2017 else \"2016년이전\" for  yr in result_book[\"출판년도\"] \r\n",
    "    ]\r\n",
    "#result_book[\"최근2년/그전3년\"] = result_book[\"최근2년/그전3년\"].astype('category')"
   ],
   "outputs": [],
   "metadata": {}
  },
  {
   "cell_type": "code",
   "execution_count": 570,
   "source": [
    "new_books = result_book[result_book[\"최근2년/그전3년\"]==\"최근2년\"]\r\n",
    "old_books = result_book[result_book[\"최근2년/그전3년\"]==\"그전3년\"]\r\n",
    "oldPubCnt = old_books.groupby(\"language\").count()\r\n",
    "oldPubCnt = oldPubCnt[\"title\"]\r\n",
    "newPubCnt = new_books.groupby(\"language\").count()\r\n",
    "newPubCnt = newPubCnt[\"title\"]\r\n",
    "\r\n",
    "#newPubCnt, oldPubCnt\r\n",
    "x = np.arange(len(pubCnt.index))\r\n",
    "label = newPubCnt.index\r\n",
    "label\r\n",
    "plt.figure(figsize=(12,8))\r\n",
    "plt.bar(x,oldPubCnt/36,width=0.2,label=\"2017년 - 2019년( / 개월수)\")\r\n",
    "plt.bar(x+0.2,newPubCnt/22,width=0.2,label=\"2020년 이후( / 개월 수)\")\r\n",
    "\r\n",
    "plt.grid(True)\r\n",
    "plt.title(\"언어별 출판물 양\")\r\n",
    "plt.xlabel(\"언어\")\r\n",
    "plt.ylabel(\"출판물 양(1개월 당)\")\r\n",
    "plt.xticks(x,label)\r\n",
    "plt.legend()\r\n",
    "plt.show()"
   ],
   "outputs": [
    {
     "output_type": "display_data",
     "data": {
      "image/png": "[encoded data removed]",
      "text/plain": [
       "<Figure size 864x576 with 1 Axes>"
      ]
     },
     "metadata": {
      "needs_background": "light"
     }
    }
   ],
   "metadata": {}
  },
  {
   "cell_type": "code",
   "execution_count": 579,
   "source": [
    "# 파이차트\r\n",
    "plt.figure(figsize=(12,8),facecolor=\"white\")\r\n",
    "\r\n",
    "plt.subplot(1,2,1)\r\n",
    "ratio = oldPubCnt\r\n",
    "label = oldPubCnt.index\r\n",
    "wedgeprops={'width': 0.7, 'edgecolor': 'w', 'linewidth': 5}\r\n",
    "plt.title(\"2017년 - 2019년\")\r\n",
    "plt.pie(ratio,labels=label,autopct='%.1f%%',wedgeprops=wedgeprops )\r\n",
    "\r\n",
    "plt.subplot(1,2,2)\r\n",
    "ratio = newPubCnt\r\n",
    "label = newPubCnt.index\r\n",
    "wedgeprops={'width': 0.7, 'edgecolor': 'w', 'linewidth': 5}\r\n",
    "plt.title(\"2020년 이후\")\r\n",
    "plt.pie(ratio,labels=label,autopct='%.1f%%',wedgeprops=wedgeprops )\r\n",
    "\r\n",
    "plt.show()"
   ],
   "outputs": [
    {
     "output_type": "display_data",
     "data": {
      "image/png": "[encoded data removed]",
      "text/plain": [
       "<Figure size 864x576 with 2 Axes>"
      ]
     },
     "metadata": {}
    }
   ],
   "metadata": {}
  },
  {
   "cell_type": "markdown",
   "source": [
    "### 문제 5) 소결\r\n",
    "- 출판일을 기준으로 2017년 - 2019년도 출판물 양과 2020년이후 출판물 양을 비교하였다.\r\n",
    "- 기간이 다르기 때문에 기간을 개월 수로 각각 나누어 주었다.\r\n",
    "- 막대그래프에서 \r\n",
    "    - Python 관련 출판물이 4배 이상 증가하였고,\r\n",
    "    - Java관련 출판물도 상당량 증가하였다.\r\n",
    "- 파이차트로 살펴보면\r\n",
    "    - 2020년 이후 가장 비율이 높은 Python은 21.0% > 49.1% 로 비율이 2배이상 증가하였고, 2020년 이후에는 절반에 가까운 비율을 차지하고 있다\r\n",
    "    - Java는 2017년-2019년 24.9% 으로 가장 비율이 높았으나 2020년 이후 19.2% 로 약 5.7% 하락하여 두번째로 높은 비율을 보인다.\r\n",
    "    - JavaScript는 17.7% > 6.6%로 가장 비율이 크게 감소하였다.\r\n",
    "- 결론\r\n",
    "    - Python은 2020년 이전까지는 JAVA에 이은 2번째로 높은 약 21%의 비중을 차지하고 있었으나, 2020년 이후 절반에 가까운 높은 비중을 차지하게 되었다.\r\n",
    "    - JAVA는 비율로 볼 때는 5.7% 감소하였으나, 절대적인 출판물의 양(단위:개월수)으로 볼 때는 증가하는 모습을 보인다.\r\n",
    "    - 막대 그래프로 살펴볼 때, 전반적으로 위 10개 언어의 절대적인 출판물의 양은 증가하였다.\r\n",
    "        - JavaScript와 Visual Basic 2개 언어에 관한 출판물의 양은 절대적으로도 감소하였다."
   ],
   "metadata": {}
  },
  {
   "cell_type": "markdown",
   "source": [
    "---\r\n",
    "---"
   ],
   "metadata": {}
  },
  {
   "cell_type": "markdown",
   "source": [],
   "metadata": {}
  }
 ],
 "metadata": {
  "orig_nbformat": 4,
  "language_info": {
   "name": "python",
   "version": "3.8.11",
   "mimetype": "text/x-python",
   "codemirror_mode": {
    "name": "ipython",
    "version": 3
   },
   "pygments_lexer": "ipython3",
   "nbconvert_exporter": "python",
   "file_extension": ".py"
  },
  "kernelspec": {
   "name": "python3",
   "display_name": "Python 3.8.11 64-bit ('ds_study': conda)"
  },
  "interpreter": {
   "hash": "d8192d1526d22653b4040b7ed404c33aff51a56366fc1a63d634c0af7b796663"
  }
 },
 "nbformat": 4,
 "nbformat_minor": 2
}