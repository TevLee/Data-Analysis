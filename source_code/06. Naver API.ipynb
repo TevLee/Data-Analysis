{
 "cells": [
  {
   "cell_type": "markdown",
   "source": [
    "# 네이버 API \r\n",
    "## 1. 네이버 API 사용 등록\r\n",
    "- 네이버 개발자 센터\r\n",
    "    - http://developers.naver.com/main/\r\n",
    "- Application\r\n",
    "    - 어플리케이션 등록\r\n",
    "    - 어플리케이션 이름 tev01\r\n",
    "    - 사용 API\r\n",
    "        - 검색\r\n",
    "        - 데이터랩(검색어트렌드)\r\n",
    "        - 데이터랩(쇼핑인사이트)\r\n",
    "    - 환경추가\r\n",
    "        - WEB 설정\r\n",
    "        - http://localhost\r\n",
    "    - Client ID : MadIM69g5849lC6DDC_5\r\n",
    "    - Clidet Secret : ipBAFSsbIT\r\n",
    "    - https://developers.naver.com/apps/#/myapps/MadIM69g5849lC6DDC_5/overview"
   ],
   "metadata": {}
  },
  {
   "cell_type": "markdown",
   "source": [
    "---\r\n",
    "## 2. 네이버 검색 API 사용하기"
   ],
   "metadata": {}
  },
  {
   "cell_type": "markdown",
   "source": [
    "- urllib : http 프로토콜에 따라서 서버의 요청/응답을 처리하기 위한 모듈\r\n",
    "- urllib.request : ㅋ르라이언트의 요청을 처리하는 모듈\r\n",
    "- urllib.parse : url 주소에 대한 분석"
   ],
   "metadata": {}
  },
  {
   "cell_type": "code",
   "execution_count": 4,
   "source": [
    "# URL : https://developers.naver.com/docs/serviceapi/search/blog/blog.md#%EB%B8%94%EB%A1%9C%EA%B7%B8\r\n",
    "# 네이버 검색 API예제는 블로그를 비롯 전문자료까지 호출방법이 동일하므로 blog검색만 대표로 예제를 올렸습니다.\r\n",
    "# 네이버 검색 Open API 예제 - 블로그 검색\r\n",
    "import os\r\n",
    "import sys\r\n",
    "import urllib.request\r\n",
    "\r\n",
    "client_id = \"MadIM69g5849lC6DDC_5\" #\"YOUR_CLIENT_ID\" #MadIM69g5849lC6DDC_5\r\n",
    "client_secret = \"ipBAFSsbIT\" # \"YOUR_CLIENT_SECRET\" #ipBAFSsbIT\r\n",
    "\r\n",
    "encText = urllib.parse.quote(\"파이썬\")\r\n",
    "url = \"https://openapi.naver.com/v1/search/blog?query=\" + encText # json 결과\r\n",
    "# url = \"https://openapi.naver.com/v1/search/blog.xml?query=\" + encText # xml 결과\r\n",
    "\r\n",
    "request = urllib.request.Request(url)\r\n",
    "request.add_header(\"X-Naver-Client-Id\",client_id)\r\n",
    "request.add_header(\"X-Naver-Client-Secret\",client_secret)\r\n",
    "response = urllib.request.urlopen(request)\r\n",
    "rescode = response.getcode()\r\n",
    "\r\n",
    "if(rescode==200):\r\n",
    "    response_body = response.read()\r\n",
    "    print(response_body.decode('utf-8'))\r\n",
    "else:\r\n",
    "    print(\"Error Code:\" + rescode)"
   ],
   "outputs": [
    {
     "output_type": "stream",
     "name": "stdout",
     "text": [
      "{\n",
      "\"lastBuildDate\": \"Tue, 12 Oct 2021 14:11:27 +0900\",\n",
      "\"total\": 248562,\n",
      "\"start\": 1,\n",
      "\"display\": 10,\n",
      "\"items\": [\n",
      "{\n",
      "\"title\": \"<b>파이썬</b> 학원 실용적 커리큘럼!\",\n",
      "\"link\": \"https:\\/\\/blog.naver.com\\/ghsm486?Redirect=Log&logNo=222462898734\",\n",
      "\"description\": \"저는 원래 국제회의 분야 취직을 희망했는데, 이 시국에 신규 채용 0건이었기 때문에 <b>파이썬</b> 학원으로... 저는 이 중에서 네덜란드 개발자 귀도 반 로섬이 만든 <b>파이썬</b>을 골랐는데요. 21세기 이 시점, 모든... \",\n",
      "\"bloggername\": \"매일매일 더 행복해\",\n",
      "\"bloggerlink\": \"https://blog.naver.com/ghsm486\",\n",
      "\"postdate\": \"20210809\"\n",
      "\n",
      "},\n",
      "{\n",
      "\"title\": \"빅데이터학원 <b>파이썬</b>부터 R까지 배워보기\",\n",
      "\"link\": \"https:\\/\\/blog.naver.com\\/iamwandering?Redirect=Log&logNo=222447282929\",\n",
      "\"description\": \"수업은 <b>파이썬</b>을 기반으로 기초적인 데이터 분석과 머신러닝, 빅데이터 분석 등을 배울 수 있는... 주로 기본적으로 사용되기도하고 실무에서도 많이 활용되고 있는 <b>파이썬</b>의 기초적인 문법과 문자열, 자료구조... \",\n",
      "\"bloggername\": \"매일이 행복\",\n",
      "\"bloggerlink\": \"https://blog.naver.com/iamwandering\",\n",
      "\"postdate\": \"20210727\"\n",
      "\n",
      "},\n",
      "{\n",
      "\"title\": \"<b>파이썬</b> 학원 다니면서 기본기를 제대로 잡다!\",\n",
      "\"link\": \"https:\\/\\/blog.naver.com\\/adorable722?Redirect=Log&logNo=222390951475\",\n",
      "\"description\": \"<b>파이썬</b> 학원 다니면서 기본기를 제대로 잡다! 요즘에는 회사에서도 프로그래밍 능력을 요구하는 경우가... <b>파이썬</b> 학원에 다니면서, 더 큰 꿈을 키우고 있어요. 코딩을 해보신 분들은 모두 알고 계실 텐데요.... \",\n",
      "\"bloggername\": \"마음이 가는 그대로♡\",\n",
      "\"bloggerlink\": \"https://blog.naver.com/adorable722\",\n",
      "\"postdate\": \"20210609\"\n",
      "\n",
      "},\n",
      "{\n",
      "\"title\": \"<b>파이썬</b>학원 수월한 과정!\",\n",
      "\"link\": \"https:\\/\\/blog.naver.com\\/bredpark1004?Redirect=Log&logNo=222423051052\",\n",
      "\"description\": \"<b>파이썬</b>학원 수월한 과정! 인생을 이렇게 살아도 되나 싶을 정도로, 목표가 없었습니다. 이러한 사람들을... 어떤 걸 배울 지 여러 차례 고민을 해보다가, <b>파이썬</b>이라는 프로그래밍 언어를 알게 되었습니다.... \",\n",
      "\"bloggername\": \"핫키워드뉴스:: 공식블로그\",\n",
      "\"bloggerlink\": \"https://blog.naver.com/bredpark1004\",\n",
      "\"postdate\": \"20210707\"\n",
      "\n",
      "},\n",
      "{\n",
      "\"title\": \"<b>파이썬</b>학원 일단 시작부터 해보자!\",\n",
      "\"link\": \"https:\\/\\/blog.naver.com\\/yosuleye?Redirect=Log&logNo=222531078904\",\n",
      "\"description\": \"#<b>파이썬</b>학원 저는 어렸을 때부터 안 좋은 버릇이 있었어요. 뭘 하기 전에 생각이 너무 많고 망설임이... 그런 제가 <b>파이썬</b>학원에 등록하겠다는 용기를 내는 것도 어떻게 보면 참 쉽지 않은 결정이에요.... \",\n",
      "\"bloggername\": \"yosuleye님의 블로그\",\n",
      "\"bloggerlink\": \"https://blog.naver.com/yosuleye\",\n",
      "\"postdate\": \"20211008\"\n",
      "\n",
      "},\n",
      "{\n",
      "\"title\": \"<b>파이썬</b> 자격증 신뢰할 수 있는 체계\",\n",
      "\"link\": \"https:\\/\\/blog.naver.com\\/h_4149?Redirect=Log&logNo=222530744283\",\n",
      "\"description\": \"프로그래밍에 관심이 있는 사람으로서 그에 맞는 대학교 전공을 선택했다면 어떻게든 졸업 전에 <b>파이썬</b>... 요즘에는 난이도, 범용성, 생산성적인 면에서도 더 넓고 좋아진 프로그래밍 언어인 <b>파이썬</b>이 나오게... \",\n",
      "\"bloggername\": \"Galaxy in my mind\",\n",
      "\"bloggerlink\": \"https://blog.naver.com/h_4149\",\n",
      "\"postdate\": \"20211008\"\n",
      "\n",
      "},\n",
      "{\n",
      "\"title\": \"<b>파이썬</b> 프로그래밍 독학, 클룸 유데미 강의에서!\",\n",
      "\"link\": \"https:\\/\\/blog.naver.com\\/supapa13?Redirect=Log&logNo=222519682757\",\n",
      "\"description\": \"대표적으로 <b>파이썬</b> 프로그래밍이 있습니다. <b>파이썬</b>은 사회 각계각층 다양한 분야에서 통용되는 프로그래밍 언어입니다. 개별적으로 공부하려는 분들도 꽤 많습니다. 하지만 <b>파이썬</b>은 독학이 의외로 쉽지... \",\n",
      "\"bloggername\": \"세수하면이병헌 IT, 육아\",\n",
      "\"bloggerlink\": \"https://blog.naver.com/supapa13\",\n",
      "\"postdate\": \"20210928\"\n",
      "\n",
      "},\n",
      "{\n",
      "\"title\": \"<b>파이썬</b> 자격증 배움으로 성장하기\",\n",
      "\"link\": \"https:\\/\\/blog.naver.com\\/kyrian75?Redirect=Log&logNo=222523178783\",\n",
      "\"description\": \"제가 원하는 자리와 가장 잘 맞는 걸 고르려고 하다 보니까 <b>파이썬</b> 자격증이 필요할 거 같더라고요.... 단순히 <b>파이썬</b> 내용만 가르쳐 주는 게 아니라 기업에 지원서를 낼 때 어떤 부분을 고려해야 할지 자세하게... \",\n",
      "\"bloggername\": \"I'm still alive\",\n",
      "\"bloggerlink\": \"https://blog.naver.com/kyrian75\",\n",
      "\"postdate\": \"20211001\"\n",
      "\n",
      "},\n",
      "{\n",
      "\"title\": \"<b>파이썬</b> 자격증 전망이 좋은 이유\",\n",
      "\"link\": \"https:\\/\\/blog.naver.com\\/sky00141?Redirect=Log&logNo=222520797557\",\n",
      "\"description\": \"그래서 전공을 살려야 할지 포기해야 할지 고민이 아주 많았는데, 친구의 권유로 함께 <b>파이썬</b> 자격증... 등록부터 시작해서 <b>파이썬</b> 자격증과 관련해 어떤 교육을 할지에 대해서, 그리고 나중에 구직까지 교육... \",\n",
      "\"bloggername\": \"제이의 IT Security 블로그\",\n",
      "\"bloggerlink\": \"https://blog.naver.com/sky00141\",\n",
      "\"postdate\": \"20210929\"\n",
      "\n",
      "},\n",
      "{\n",
      "\"title\": \"<b>파이썬</b> 설치는 초보자에게 아나콘다가 편합니다.\",\n",
      "\"link\": \"https:\\/\\/blog.naver.com\\/ocmarketing?Redirect=Log&logNo=222197056590\",\n",
      "\"description\": \"안녕하세요, 오늘 부터는 <b>파이썬</b> 강의를 하나씩 해보려고 합니다. 일단 저도 배우는 입장이라... 그래서 첫번째 시간에 <b>파이썬</b> 설치를 하려고 하는데요, 어라? <b>파이썬</b>에 가서 바로 설치를 하는 것이... \",\n",
      "\"bloggername\": \"초튜터 X 오씨네학교\",\n",
      "\"bloggerlink\": \"https://blog.naver.com/ocmarketing\",\n",
      "\"postdate\": \"20210105\"\n",
      "\n",
      "}\n",
      "]\n",
      "}\n",
      "\n"
     ]
    }
   ],
   "metadata": {}
  },
  {
   "cell_type": "code",
   "execution_count": 5,
   "source": [
    "response #: url의 정보가 담겨있음\r\n",
    "response.getcode() , response.code, response.status # 200이면 정상"
   ],
   "outputs": [
    {
     "output_type": "execute_result",
     "data": {
      "text/plain": [
       "(200, 200, 200)"
      ]
     },
     "metadata": {},
     "execution_count": 5
    }
   ],
   "metadata": {}
  },
  {
   "cell_type": "code",
   "execution_count": 6,
   "source": [
    "# 글자로 읽으려면 디코딩해야함. decode utf-8\r\n",
    "response_body #response.read()한 내용이 response_body에 담겨있음\r\n",
    "response_body.decode(\"utf-8\")\r\n",
    "print(response_body.decode(\"utf-8\"))  #형식에 맞게 print"
   ],
   "outputs": [
    {
     "output_type": "stream",
     "name": "stdout",
     "text": [
      "{\n",
      "\"lastBuildDate\": \"Tue, 12 Oct 2021 14:11:27 +0900\",\n",
      "\"total\": 248562,\n",
      "\"start\": 1,\n",
      "\"display\": 10,\n",
      "\"items\": [\n",
      "{\n",
      "\"title\": \"<b>파이썬</b> 학원 실용적 커리큘럼!\",\n",
      "\"link\": \"https:\\/\\/blog.naver.com\\/ghsm486?Redirect=Log&logNo=222462898734\",\n",
      "\"description\": \"저는 원래 국제회의 분야 취직을 희망했는데, 이 시국에 신규 채용 0건이었기 때문에 <b>파이썬</b> 학원으로... 저는 이 중에서 네덜란드 개발자 귀도 반 로섬이 만든 <b>파이썬</b>을 골랐는데요. 21세기 이 시점, 모든... \",\n",
      "\"bloggername\": \"매일매일 더 행복해\",\n",
      "\"bloggerlink\": \"https://blog.naver.com/ghsm486\",\n",
      "\"postdate\": \"20210809\"\n",
      "\n",
      "},\n",
      "{\n",
      "\"title\": \"빅데이터학원 <b>파이썬</b>부터 R까지 배워보기\",\n",
      "\"link\": \"https:\\/\\/blog.naver.com\\/iamwandering?Redirect=Log&logNo=222447282929\",\n",
      "\"description\": \"수업은 <b>파이썬</b>을 기반으로 기초적인 데이터 분석과 머신러닝, 빅데이터 분석 등을 배울 수 있는... 주로 기본적으로 사용되기도하고 실무에서도 많이 활용되고 있는 <b>파이썬</b>의 기초적인 문법과 문자열, 자료구조... \",\n",
      "\"bloggername\": \"매일이 행복\",\n",
      "\"bloggerlink\": \"https://blog.naver.com/iamwandering\",\n",
      "\"postdate\": \"20210727\"\n",
      "\n",
      "},\n",
      "{\n",
      "\"title\": \"<b>파이썬</b> 학원 다니면서 기본기를 제대로 잡다!\",\n",
      "\"link\": \"https:\\/\\/blog.naver.com\\/adorable722?Redirect=Log&logNo=222390951475\",\n",
      "\"description\": \"<b>파이썬</b> 학원 다니면서 기본기를 제대로 잡다! 요즘에는 회사에서도 프로그래밍 능력을 요구하는 경우가... <b>파이썬</b> 학원에 다니면서, 더 큰 꿈을 키우고 있어요. 코딩을 해보신 분들은 모두 알고 계실 텐데요.... \",\n",
      "\"bloggername\": \"마음이 가는 그대로♡\",\n",
      "\"bloggerlink\": \"https://blog.naver.com/adorable722\",\n",
      "\"postdate\": \"20210609\"\n",
      "\n",
      "},\n",
      "{\n",
      "\"title\": \"<b>파이썬</b>학원 수월한 과정!\",\n",
      "\"link\": \"https:\\/\\/blog.naver.com\\/bredpark1004?Redirect=Log&logNo=222423051052\",\n",
      "\"description\": \"<b>파이썬</b>학원 수월한 과정! 인생을 이렇게 살아도 되나 싶을 정도로, 목표가 없었습니다. 이러한 사람들을... 어떤 걸 배울 지 여러 차례 고민을 해보다가, <b>파이썬</b>이라는 프로그래밍 언어를 알게 되었습니다.... \",\n",
      "\"bloggername\": \"핫키워드뉴스:: 공식블로그\",\n",
      "\"bloggerlink\": \"https://blog.naver.com/bredpark1004\",\n",
      "\"postdate\": \"20210707\"\n",
      "\n",
      "},\n",
      "{\n",
      "\"title\": \"<b>파이썬</b>학원 일단 시작부터 해보자!\",\n",
      "\"link\": \"https:\\/\\/blog.naver.com\\/yosuleye?Redirect=Log&logNo=222531078904\",\n",
      "\"description\": \"#<b>파이썬</b>학원 저는 어렸을 때부터 안 좋은 버릇이 있었어요. 뭘 하기 전에 생각이 너무 많고 망설임이... 그런 제가 <b>파이썬</b>학원에 등록하겠다는 용기를 내는 것도 어떻게 보면 참 쉽지 않은 결정이에요.... \",\n",
      "\"bloggername\": \"yosuleye님의 블로그\",\n",
      "\"bloggerlink\": \"https://blog.naver.com/yosuleye\",\n",
      "\"postdate\": \"20211008\"\n",
      "\n",
      "},\n",
      "{\n",
      "\"title\": \"<b>파이썬</b> 자격증 신뢰할 수 있는 체계\",\n",
      "\"link\": \"https:\\/\\/blog.naver.com\\/h_4149?Redirect=Log&logNo=222530744283\",\n",
      "\"description\": \"프로그래밍에 관심이 있는 사람으로서 그에 맞는 대학교 전공을 선택했다면 어떻게든 졸업 전에 <b>파이썬</b>... 요즘에는 난이도, 범용성, 생산성적인 면에서도 더 넓고 좋아진 프로그래밍 언어인 <b>파이썬</b>이 나오게... \",\n",
      "\"bloggername\": \"Galaxy in my mind\",\n",
      "\"bloggerlink\": \"https://blog.naver.com/h_4149\",\n",
      "\"postdate\": \"20211008\"\n",
      "\n",
      "},\n",
      "{\n",
      "\"title\": \"<b>파이썬</b> 프로그래밍 독학, 클룸 유데미 강의에서!\",\n",
      "\"link\": \"https:\\/\\/blog.naver.com\\/supapa13?Redirect=Log&logNo=222519682757\",\n",
      "\"description\": \"대표적으로 <b>파이썬</b> 프로그래밍이 있습니다. <b>파이썬</b>은 사회 각계각층 다양한 분야에서 통용되는 프로그래밍 언어입니다. 개별적으로 공부하려는 분들도 꽤 많습니다. 하지만 <b>파이썬</b>은 독학이 의외로 쉽지... \",\n",
      "\"bloggername\": \"세수하면이병헌 IT, 육아\",\n",
      "\"bloggerlink\": \"https://blog.naver.com/supapa13\",\n",
      "\"postdate\": \"20210928\"\n",
      "\n",
      "},\n",
      "{\n",
      "\"title\": \"<b>파이썬</b> 자격증 배움으로 성장하기\",\n",
      "\"link\": \"https:\\/\\/blog.naver.com\\/kyrian75?Redirect=Log&logNo=222523178783\",\n",
      "\"description\": \"제가 원하는 자리와 가장 잘 맞는 걸 고르려고 하다 보니까 <b>파이썬</b> 자격증이 필요할 거 같더라고요.... 단순히 <b>파이썬</b> 내용만 가르쳐 주는 게 아니라 기업에 지원서를 낼 때 어떤 부분을 고려해야 할지 자세하게... \",\n",
      "\"bloggername\": \"I'm still alive\",\n",
      "\"bloggerlink\": \"https://blog.naver.com/kyrian75\",\n",
      "\"postdate\": \"20211001\"\n",
      "\n",
      "},\n",
      "{\n",
      "\"title\": \"<b>파이썬</b> 자격증 전망이 좋은 이유\",\n",
      "\"link\": \"https:\\/\\/blog.naver.com\\/sky00141?Redirect=Log&logNo=222520797557\",\n",
      "\"description\": \"그래서 전공을 살려야 할지 포기해야 할지 고민이 아주 많았는데, 친구의 권유로 함께 <b>파이썬</b> 자격증... 등록부터 시작해서 <b>파이썬</b> 자격증과 관련해 어떤 교육을 할지에 대해서, 그리고 나중에 구직까지 교육... \",\n",
      "\"bloggername\": \"제이의 IT Security 블로그\",\n",
      "\"bloggerlink\": \"https://blog.naver.com/sky00141\",\n",
      "\"postdate\": \"20210929\"\n",
      "\n",
      "},\n",
      "{\n",
      "\"title\": \"<b>파이썬</b> 설치는 초보자에게 아나콘다가 편합니다.\",\n",
      "\"link\": \"https:\\/\\/blog.naver.com\\/ocmarketing?Redirect=Log&logNo=222197056590\",\n",
      "\"description\": \"안녕하세요, 오늘 부터는 <b>파이썬</b> 강의를 하나씩 해보려고 합니다. 일단 저도 배우는 입장이라... 그래서 첫번째 시간에 <b>파이썬</b> 설치를 하려고 하는데요, 어라? <b>파이썬</b>에 가서 바로 설치를 하는 것이... \",\n",
      "\"bloggername\": \"초튜터 X 오씨네학교\",\n",
      "\"bloggerlink\": \"https://blog.naver.com/ocmarketing\",\n",
      "\"postdate\": \"20210105\"\n",
      "\n",
      "}\n",
      "]\n",
      "}\n",
      "\n"
     ]
    }
   ],
   "metadata": {}
  },
  {
   "cell_type": "code",
   "execution_count": 12,
   "source": [
    "### 검색 : 책(book)\r\n",
    "url = \"https://openapi.naver.com/v1/search/book?query=\" + encText \r\n",
    "### 검색 : 영화(movie)\r\n",
    "url = \"https://openapi.naver.com/v1/search/movie?query=\" + encText \r\n",
    "### 검색 : 카페(cafearticle)\r\n",
    "url = \"https://openapi.naver.com/v1/search/cafearticle?query=\" + encText \r\n",
    "### 검색 : 쇼핑(shop)\r\n",
    "url = \"https://openapi.naver.com/v1/search/shop?query=\" + encText \r\n",
    "### 검색 : 백과사전(encyc)\r\n",
    "url = \"https://openapi.naver.com/v1/search/encyc?query=\" + encText "
   ],
   "outputs": [],
   "metadata": {}
  },
  {
   "cell_type": "markdown",
   "source": [
    "---\r\n",
    "---\r\n",
    "---\r\n",
    "## Naver API에서 모은 몰스킨 데이터 정리하고 시각화"
   ],
   "metadata": {}
  },
  {
   "cell_type": "code",
   "execution_count": null,
   "source": [
    "import os\r\n",
    "import sys\r\n",
    "import urllib.request\r\n",
    "\r\n",
    "client_id = \"MadIM69g5849lC6DDC_5\" \r\n",
    "client_secret = \"ipBAFSsbIT\" \r\n",
    "\r\n",
    "encText = urllib.parse.quote(\"몰스킨\")\r\n",
    "url = \"https://openapi.naver.com/v1/search/shop?query=\" + encText #shop\r\n",
    "\r\n",
    "request = urllib.request.Request(url)\r\n",
    "request.add_header(\"X-Naver-Client-Id\",client_id)\r\n",
    "request.add_header(\"X-Naver-Client-Secret\",client_secret)\r\n",
    "response = urllib.request.urlopen(request)\r\n",
    "rescode = response.getcode()\r\n",
    "\r\n",
    "if(rescode==200):\r\n",
    "    response_body = response.read()\r\n",
    "    print(response_body.decode('utf-8'))\r\n",
    "else:\r\n",
    "    print(\"Error Code:\" + rescode)"
   ],
   "outputs": [],
   "metadata": {}
  },
  {
   "cell_type": "markdown",
   "source": [
    "## (1) gen_search_url() \r\n",
    "- encText = urllib.parse.quote(\"몰스킨\")\r\n",
    "- url = \"https://openapi.naver.com/v1/search/shop?query=\" + encText #shop"
   ],
   "metadata": {}
  },
  {
   "cell_type": "code",
   "execution_count": 23,
   "source": [
    "def gen_search_url(api_node, search_text, start_num, disp_num): #찾을 url 생성(generate)\r\n",
    "    base = \"https://openapi.naver.com/v1/search/\"\r\n",
    "    node = \"/\"+ api_node + \".json\"\r\n",
    "    param_query = \"?query=\"+urllib.parse.quote(search_text)\r\n",
    "    param_start = \"&start=\"+str(start_num)\r\n",
    "    param_disp = \"&display=\" + str(disp_num)\r\n",
    "\r\n",
    "    return base+node+param_query+param_start+param_disp"
   ],
   "outputs": [],
   "metadata": {}
  },
  {
   "cell_type": "code",
   "execution_count": 24,
   "source": [
    "gen_search_url(\"shop\",\"TEST\",10,3) #10번부터 시작 , 3개 보여줘"
   ],
   "outputs": [
    {
     "output_type": "execute_result",
     "data": {
      "text/plain": [
       "'https://openapi.naver.com/v1/search//shop.json?query=TEST&start=10&display=3'"
      ]
     },
     "metadata": {},
     "execution_count": 24
    }
   ],
   "metadata": {}
  },
  {
   "cell_type": "code",
   "execution_count": 25,
   "source": [
    "## (2) get_result_onepage()"
   ],
   "outputs": [],
   "metadata": {}
  },
  {
   "cell_type": "code",
   "execution_count": 26,
   "source": [
    "import json\r\n",
    "import datetime\r\n",
    "\r\n",
    "def get_result_onpage(url):\r\n",
    "    request = urllib.request.Request(url) #요청할 url\r\n",
    "    request.add_header(\"X-Naver-Client-Id\",client_id)\r\n",
    "    request.add_header(\"X-Naver-Client-Secret\",client_secret)\r\n",
    "\r\n",
    "    response = urllib.request.urlopen(request)\r\n",
    "    print(\"[%s] Url Request Success\"% datetime.datetime.now()) #현재 시간 찍기\r\n",
    "    return json.loads(response.read().decode(\"utf-8\"))"
   ],
   "outputs": [],
   "metadata": {}
  },
  {
   "cell_type": "code",
   "execution_count": 27,
   "source": [
    "url = gen_search_url(\"shop\",\"몰스킨\",1,5) #1번부터 시작 , 5개 보여줘\r\n",
    "one_result = get_result_onpage(url)\r\n",
    "one_result"
   ],
   "outputs": [
    {
     "output_type": "stream",
     "name": "stdout",
     "text": [
      "[2021-10-12 16:45:59.259468] Url Request Success\n"
     ]
    },
    {
     "output_type": "execute_result",
     "data": {
      "text/plain": [
       "{'lastBuildDate': 'Tue, 12 Oct 2021 16:45:59 +0900',\n",
       " 'total': 28974,\n",
       " 'start': 1,\n",
       " 'display': 5,\n",
       " 'items': [{'title': '한정판 <b>몰스킨</b> 2022 피너츠 위클리 다이어리 포켓',\n",
       "   'link': 'https://search.shopping.naver.com/gate.nhn?id=28763297998',\n",
       "   'image': 'https://shopping-phinf.pstatic.net/main_2876329/28763297998.20210908210546.jpg',\n",
       "   'lprice': '29810',\n",
       "   'hprice': '',\n",
       "   'mallName': '네이버',\n",
       "   'productId': '28763297998',\n",
       "   'productType': '1',\n",
       "   'brand': '몰스킨',\n",
       "   'maker': '몰스킨',\n",
       "   'category1': '생활/건강',\n",
       "   'category2': '문구/사무용품',\n",
       "   'category3': '다이어리/플래너',\n",
       "   'category4': '다이어리'},\n",
       "  {'title': '<b>몰스킨</b> 2022 해리포터 데일리 다이어리 포캣',\n",
       "   'link': 'https://search.shopping.naver.com/gate.nhn?id=28719894754',\n",
       "   'image': 'https://shopping-phinf.pstatic.net/main_2871989/28719894754.20210906035419.jpg',\n",
       "   'lprice': '30060',\n",
       "   'hprice': '',\n",
       "   'mallName': '네이버',\n",
       "   'productId': '28719894754',\n",
       "   'productType': '1',\n",
       "   'brand': '몰스킨',\n",
       "   'maker': '몰스킨',\n",
       "   'category1': '생활/건강',\n",
       "   'category2': '문구/사무용품',\n",
       "   'category3': '다이어리/플래너',\n",
       "   'category4': '다이어리'},\n",
       "  {'title': '<b>몰스킨</b> 클래식 노트 소프트커버 도트 포켓 머틀그린',\n",
       "   'link': 'https://search.shopping.naver.com/gate.nhn?id=24014924801',\n",
       "   'image': 'https://shopping-phinf.pstatic.net/main_2401492/24014924801.20200903021703.jpg',\n",
       "   'lprice': '18810',\n",
       "   'hprice': '',\n",
       "   'mallName': '네이버',\n",
       "   'productId': '24014924801',\n",
       "   'productType': '1',\n",
       "   'brand': '몰스킨',\n",
       "   'maker': '몰스킨',\n",
       "   'category1': '생활/건강',\n",
       "   'category2': '문구/사무용품',\n",
       "   'category3': '노트/수첩',\n",
       "   'category4': '노트'},\n",
       "  {'title': '<b>몰스킨</b> 2022 다이어리 데일리 위클리 포켓 고급 명품 감성 휴대용 여자 각인 해리포터',\n",
       "   'link': 'https://search.shopping.naver.com/gate.nhn?id=83374268420',\n",
       "   'image': 'https://shopping-phinf.pstatic.net/main_8337426/83374268420.jpg',\n",
       "   'lprice': '26800',\n",
       "   'hprice': '',\n",
       "   'mallName': '에코펜',\n",
       "   'productId': '83374268420',\n",
       "   'productType': '2',\n",
       "   'brand': '몰스킨',\n",
       "   'maker': '몰스킨',\n",
       "   'category1': '생활/건강',\n",
       "   'category2': '문구/사무용품',\n",
       "   'category3': '다이어리/플래너',\n",
       "   'category4': '다이어리'},\n",
       "  {'title': '<b>몰스킨</b> 클래식노트 플레인 하드 L',\n",
       "   'link': 'https://search.shopping.naver.com/gate.nhn?id=24031381534',\n",
       "   'image': 'https://shopping-phinf.pstatic.net/main_2403138/24031381534.20200904012957.jpg',\n",
       "   'lprice': '19930',\n",
       "   'hprice': '',\n",
       "   'mallName': '네이버',\n",
       "   'productId': '24031381534',\n",
       "   'productType': '1',\n",
       "   'brand': '몰스킨',\n",
       "   'maker': '몰스킨',\n",
       "   'category1': '생활/건강',\n",
       "   'category2': '문구/사무용품',\n",
       "   'category3': '노트/수첩',\n",
       "   'category4': '노트'}]}"
      ]
     },
     "metadata": {},
     "execution_count": 27
    }
   ],
   "metadata": {}
  },
  {
   "cell_type": "code",
   "execution_count": 28,
   "source": [
    "one_result['items'] #리스트형\r\n",
    "one_result['items'][0]\r\n",
    "one_result['items'][0][\"title\"], one_result['items'][0][\"link\"],one_result['items'][0][\"lprice\"],one_result['items'][0][\"mallName\"]"
   ],
   "outputs": [
    {
     "output_type": "execute_result",
     "data": {
      "text/plain": [
       "('한정판 <b>몰스킨</b> 2022 피너츠 위클리 다이어리 포켓',\n",
       " 'https://search.shopping.naver.com/gate.nhn?id=28763297998',\n",
       " '29810',\n",
       " '네이버')"
      ]
     },
     "metadata": {},
     "execution_count": 28
    }
   ],
   "metadata": {}
  },
  {
   "cell_type": "markdown",
   "source": [
    "---"
   ],
   "metadata": {}
  },
  {
   "cell_type": "code",
   "execution_count": 30,
   "source": [
    "## (3) get_fields()\r\n",
    "one_result # json 형식 파일\r\n",
    "one_result[\"items\"] #상품 하나하나의 정보\r\n",
    "one_result[\"items\"][0]"
   ],
   "outputs": [
    {
     "output_type": "execute_result",
     "data": {
      "text/plain": [
       "{'title': '한정판 <b>몰스킨</b> 2022 피너츠 위클리 다이어리 포켓',\n",
       " 'link': 'https://search.shopping.naver.com/gate.nhn?id=28763297998',\n",
       " 'image': 'https://shopping-phinf.pstatic.net/main_2876329/28763297998.20210908210546.jpg',\n",
       " 'lprice': '29810',\n",
       " 'hprice': '',\n",
       " 'mallName': '네이버',\n",
       " 'productId': '28763297998',\n",
       " 'productType': '1',\n",
       " 'brand': '몰스킨',\n",
       " 'maker': '몰스킨',\n",
       " 'category1': '생활/건강',\n",
       " 'category2': '문구/사무용품',\n",
       " 'category3': '다이어리/플래너',\n",
       " 'category4': '다이어리'}"
      ]
     },
     "metadata": {},
     "execution_count": 30
    }
   ],
   "metadata": {}
  },
  {
   "cell_type": "code",
   "execution_count": 39,
   "source": [
    "import pandas as pd\r\n",
    "\r\n",
    "def get_fields(json_data):\r\n",
    "    title = [each[\"title\"] for each in json_data[\"items\"]]\r\n",
    "    link = [each[\"link\"] for each in json_data[\"items\"]]\r\n",
    "    lprice = [each[\"lprice\"] for each in json_data[\"items\"]]\r\n",
    "    mall_name = [each[\"mallName\"] for each in json_data[\"items\"]]\r\n",
    "\r\n",
    "    result_pd = pd.DataFrame({\r\n",
    "        \"title\":title,\r\n",
    "        \"link\":link,\r\n",
    "        \"lprice\":lprice,\r\n",
    "        \"mall\":mall_name\r\n",
    "    }, \r\n",
    "    columns=[\"title\",\"lprice\",\"link\",\"mall\"])\r\n",
    "    return result_pd"
   ],
   "outputs": [],
   "metadata": {}
  },
  {
   "cell_type": "code",
   "execution_count": 40,
   "source": [
    "get_fields(one_result) # title에 붙어있는 html 태그 삭제할 함수 필요"
   ],
   "outputs": [
    {
     "output_type": "execute_result",
     "data": {
      "text/html": [
       "<div>\n",
       "<style scoped>\n",
       "    .dataframe tbody tr th:only-of-type {\n",
       "        vertical-align: middle;\n",
       "    }\n",
       "\n",
       "    .dataframe tbody tr th {\n",
       "        vertical-align: top;\n",
       "    }\n",
       "\n",
       "    .dataframe thead th {\n",
       "        text-align: right;\n",
       "    }\n",
       "</style>\n",
       "<table border=\"1\" class=\"dataframe\">\n",
       "  <thead>\n",
       "    <tr style=\"text-align: right;\">\n",
       "      <th></th>\n",
       "      <th>title</th>\n",
       "      <th>lprice</th>\n",
       "      <th>link</th>\n",
       "      <th>mall</th>\n",
       "    </tr>\n",
       "  </thead>\n",
       "  <tbody>\n",
       "    <tr>\n",
       "      <th>0</th>\n",
       "      <td>한정판 &lt;b&gt;몰스킨&lt;/b&gt; 2022 피너츠 위클리 다이어리 포켓</td>\n",
       "      <td>29810</td>\n",
       "      <td>https://search.shopping.naver.com/gate.nhn?id=...</td>\n",
       "      <td>네이버</td>\n",
       "    </tr>\n",
       "    <tr>\n",
       "      <th>1</th>\n",
       "      <td>&lt;b&gt;몰스킨&lt;/b&gt; 2022 해리포터 데일리 다이어리 포캣</td>\n",
       "      <td>30060</td>\n",
       "      <td>https://search.shopping.naver.com/gate.nhn?id=...</td>\n",
       "      <td>네이버</td>\n",
       "    </tr>\n",
       "    <tr>\n",
       "      <th>2</th>\n",
       "      <td>&lt;b&gt;몰스킨&lt;/b&gt; 클래식 노트 소프트커버 도트 포켓 머틀그린</td>\n",
       "      <td>18810</td>\n",
       "      <td>https://search.shopping.naver.com/gate.nhn?id=...</td>\n",
       "      <td>네이버</td>\n",
       "    </tr>\n",
       "    <tr>\n",
       "      <th>3</th>\n",
       "      <td>&lt;b&gt;몰스킨&lt;/b&gt; 2022 다이어리 데일리 위클리 포켓 고급 명품 감성 휴대용 여...</td>\n",
       "      <td>26800</td>\n",
       "      <td>https://search.shopping.naver.com/gate.nhn?id=...</td>\n",
       "      <td>에코펜</td>\n",
       "    </tr>\n",
       "    <tr>\n",
       "      <th>4</th>\n",
       "      <td>&lt;b&gt;몰스킨&lt;/b&gt; 클래식노트 플레인 하드 L</td>\n",
       "      <td>19930</td>\n",
       "      <td>https://search.shopping.naver.com/gate.nhn?id=...</td>\n",
       "      <td>네이버</td>\n",
       "    </tr>\n",
       "  </tbody>\n",
       "</table>\n",
       "</div>"
      ],
      "text/plain": [
       "                                               title lprice  \\\n",
       "0                한정판 <b>몰스킨</b> 2022 피너츠 위클리 다이어리 포켓  29810   \n",
       "1                   <b>몰스킨</b> 2022 해리포터 데일리 다이어리 포캣  30060   \n",
       "2                 <b>몰스킨</b> 클래식 노트 소프트커버 도트 포켓 머틀그린  18810   \n",
       "3  <b>몰스킨</b> 2022 다이어리 데일리 위클리 포켓 고급 명품 감성 휴대용 여...  26800   \n",
       "4                          <b>몰스킨</b> 클래식노트 플레인 하드 L  19930   \n",
       "\n",
       "                                                link mall  \n",
       "0  https://search.shopping.naver.com/gate.nhn?id=...  네이버  \n",
       "1  https://search.shopping.naver.com/gate.nhn?id=...  네이버  \n",
       "2  https://search.shopping.naver.com/gate.nhn?id=...  네이버  \n",
       "3  https://search.shopping.naver.com/gate.nhn?id=...  에코펜  \n",
       "4  https://search.shopping.naver.com/gate.nhn?id=...  네이버  "
      ]
     },
     "metadata": {},
     "execution_count": 40
    }
   ],
   "metadata": {}
  },
  {
   "cell_type": "markdown",
   "source": [
    "## (4) delete_tag()"
   ],
   "metadata": {}
  },
  {
   "cell_type": "code",
   "execution_count": 41,
   "source": [
    "def delete_tag(input_str):\r\n",
    "    input_str = input_str.replace(\"<b>\",\"\") #<b>를 \"\"로 바꿈\r\n",
    "    input_str = input_str.replace(\"<b>\",\"\") #<b>를 \"\"로 바꿈\r\n",
    "    return input_str"
   ],
   "outputs": [],
   "metadata": {}
  },
  {
   "cell_type": "code",
   "execution_count": 42,
   "source": [
    "import pandas as pd\r\n",
    "\r\n",
    "def get_fields(json_data):\r\n",
    "    title = [ delete_tag(each[\"title\"]) for each in json_data[\"items\"]]\r\n",
    "    link = [each[\"link\"] for each in json_data[\"items\"]]\r\n",
    "    lprice = [each[\"lprice\"] for each in json_data[\"items\"]]\r\n",
    "    mall_name = [each[\"mallName\"] for each in json_data[\"items\"]]\r\n",
    "\r\n",
    "    result_pd = pd.DataFrame({\r\n",
    "        \"title\":title,\r\n",
    "        \"link\":link,\r\n",
    "        \"lprice\":lprice,\r\n",
    "        \"mall\":mall_name\r\n",
    "    }, \r\n",
    "    columns=[\"title\",\"lprice\",\"link\",\"mall\"])\r\n",
    "    return result_pd"
   ],
   "outputs": [],
   "metadata": {}
  },
  {
   "cell_type": "code",
   "execution_count": 43,
   "source": [
    "get_fields(one_result)"
   ],
   "outputs": [
    {
     "output_type": "execute_result",
     "data": {
      "text/html": [
       "<div>\n",
       "<style scoped>\n",
       "    .dataframe tbody tr th:only-of-type {\n",
       "        vertical-align: middle;\n",
       "    }\n",
       "\n",
       "    .dataframe tbody tr th {\n",
       "        vertical-align: top;\n",
       "    }\n",
       "\n",
       "    .dataframe thead th {\n",
       "        text-align: right;\n",
       "    }\n",
       "</style>\n",
       "<table border=\"1\" class=\"dataframe\">\n",
       "  <thead>\n",
       "    <tr style=\"text-align: right;\">\n",
       "      <th></th>\n",
       "      <th>title</th>\n",
       "      <th>lprice</th>\n",
       "      <th>link</th>\n",
       "      <th>mall</th>\n",
       "    </tr>\n",
       "  </thead>\n",
       "  <tbody>\n",
       "    <tr>\n",
       "      <th>0</th>\n",
       "      <td>한정판 몰스킨&lt;/b&gt; 2022 피너츠 위클리 다이어리 포켓</td>\n",
       "      <td>29810</td>\n",
       "      <td>https://search.shopping.naver.com/gate.nhn?id=...</td>\n",
       "      <td>네이버</td>\n",
       "    </tr>\n",
       "    <tr>\n",
       "      <th>1</th>\n",
       "      <td>몰스킨&lt;/b&gt; 2022 해리포터 데일리 다이어리 포캣</td>\n",
       "      <td>30060</td>\n",
       "      <td>https://search.shopping.naver.com/gate.nhn?id=...</td>\n",
       "      <td>네이버</td>\n",
       "    </tr>\n",
       "    <tr>\n",
       "      <th>2</th>\n",
       "      <td>몰스킨&lt;/b&gt; 클래식 노트 소프트커버 도트 포켓 머틀그린</td>\n",
       "      <td>18810</td>\n",
       "      <td>https://search.shopping.naver.com/gate.nhn?id=...</td>\n",
       "      <td>네이버</td>\n",
       "    </tr>\n",
       "    <tr>\n",
       "      <th>3</th>\n",
       "      <td>몰스킨&lt;/b&gt; 2022 다이어리 데일리 위클리 포켓 고급 명품 감성 휴대용 여자 각...</td>\n",
       "      <td>26800</td>\n",
       "      <td>https://search.shopping.naver.com/gate.nhn?id=...</td>\n",
       "      <td>에코펜</td>\n",
       "    </tr>\n",
       "    <tr>\n",
       "      <th>4</th>\n",
       "      <td>몰스킨&lt;/b&gt; 클래식노트 플레인 하드 L</td>\n",
       "      <td>19930</td>\n",
       "      <td>https://search.shopping.naver.com/gate.nhn?id=...</td>\n",
       "      <td>네이버</td>\n",
       "    </tr>\n",
       "  </tbody>\n",
       "</table>\n",
       "</div>"
      ],
      "text/plain": [
       "                                               title lprice  \\\n",
       "0                   한정판 몰스킨</b> 2022 피너츠 위클리 다이어리 포켓  29810   \n",
       "1                      몰스킨</b> 2022 해리포터 데일리 다이어리 포캣  30060   \n",
       "2                    몰스킨</b> 클래식 노트 소프트커버 도트 포켓 머틀그린  18810   \n",
       "3  몰스킨</b> 2022 다이어리 데일리 위클리 포켓 고급 명품 감성 휴대용 여자 각...  26800   \n",
       "4                             몰스킨</b> 클래식노트 플레인 하드 L  19930   \n",
       "\n",
       "                                                link mall  \n",
       "0  https://search.shopping.naver.com/gate.nhn?id=...  네이버  \n",
       "1  https://search.shopping.naver.com/gate.nhn?id=...  네이버  \n",
       "2  https://search.shopping.naver.com/gate.nhn?id=...  네이버  \n",
       "3  https://search.shopping.naver.com/gate.nhn?id=...  에코펜  \n",
       "4  https://search.shopping.naver.com/gate.nhn?id=...  네이버  "
      ]
     },
     "metadata": {},
     "execution_count": 43
    }
   ],
   "metadata": {}
  },
  {
   "cell_type": "markdown",
   "source": [
    "---\r\n",
    "## 만든 함수 중간 확인"
   ],
   "metadata": {}
  },
  {
   "cell_type": "code",
   "execution_count": 44,
   "source": [
    "url = gen_search_url(\"shop\", \"몰스킨\", 1,5) #1페이지부터 5페 이지까지\r\n",
    "json_result = get_result_onpage(url) #받은 내용을 json으로 넣기\r\n",
    "pd_result = get_fields(json_result) #데이터 프레임으로 바꾸기\r\n",
    "pd_result"
   ],
   "outputs": [
    {
     "output_type": "stream",
     "name": "stdout",
     "text": [
      "[2021-10-12 16:55:16.286297] Url Request Success\n"
     ]
    },
    {
     "output_type": "execute_result",
     "data": {
      "text/html": [
       "<div>\n",
       "<style scoped>\n",
       "    .dataframe tbody tr th:only-of-type {\n",
       "        vertical-align: middle;\n",
       "    }\n",
       "\n",
       "    .dataframe tbody tr th {\n",
       "        vertical-align: top;\n",
       "    }\n",
       "\n",
       "    .dataframe thead th {\n",
       "        text-align: right;\n",
       "    }\n",
       "</style>\n",
       "<table border=\"1\" class=\"dataframe\">\n",
       "  <thead>\n",
       "    <tr style=\"text-align: right;\">\n",
       "      <th></th>\n",
       "      <th>title</th>\n",
       "      <th>lprice</th>\n",
       "      <th>link</th>\n",
       "      <th>mall</th>\n",
       "    </tr>\n",
       "  </thead>\n",
       "  <tbody>\n",
       "    <tr>\n",
       "      <th>0</th>\n",
       "      <td>한정판 몰스킨&lt;/b&gt; 2022 피너츠 위클리 다이어리 포켓</td>\n",
       "      <td>29810</td>\n",
       "      <td>https://search.shopping.naver.com/gate.nhn?id=...</td>\n",
       "      <td>네이버</td>\n",
       "    </tr>\n",
       "    <tr>\n",
       "      <th>1</th>\n",
       "      <td>몰스킨&lt;/b&gt; 2022 해리포터 데일리 다이어리 포캣</td>\n",
       "      <td>30060</td>\n",
       "      <td>https://search.shopping.naver.com/gate.nhn?id=...</td>\n",
       "      <td>네이버</td>\n",
       "    </tr>\n",
       "    <tr>\n",
       "      <th>2</th>\n",
       "      <td>몰스킨&lt;/b&gt; 클래식 노트 소프트커버 도트 포켓 머틀그린</td>\n",
       "      <td>18810</td>\n",
       "      <td>https://search.shopping.naver.com/gate.nhn?id=...</td>\n",
       "      <td>네이버</td>\n",
       "    </tr>\n",
       "    <tr>\n",
       "      <th>3</th>\n",
       "      <td>몰스킨&lt;/b&gt; 2022 다이어리 데일리 위클리 포켓 고급 명품 감성 휴대용 여자 각...</td>\n",
       "      <td>26800</td>\n",
       "      <td>https://search.shopping.naver.com/gate.nhn?id=...</td>\n",
       "      <td>에코펜</td>\n",
       "    </tr>\n",
       "    <tr>\n",
       "      <th>4</th>\n",
       "      <td>몰스킨&lt;/b&gt; 클래식노트 플레인 하드 L</td>\n",
       "      <td>19930</td>\n",
       "      <td>https://search.shopping.naver.com/gate.nhn?id=...</td>\n",
       "      <td>네이버</td>\n",
       "    </tr>\n",
       "  </tbody>\n",
       "</table>\n",
       "</div>"
      ],
      "text/plain": [
       "                                               title lprice  \\\n",
       "0                   한정판 몰스킨</b> 2022 피너츠 위클리 다이어리 포켓  29810   \n",
       "1                      몰스킨</b> 2022 해리포터 데일리 다이어리 포캣  30060   \n",
       "2                    몰스킨</b> 클래식 노트 소프트커버 도트 포켓 머틀그린  18810   \n",
       "3  몰스킨</b> 2022 다이어리 데일리 위클리 포켓 고급 명품 감성 휴대용 여자 각...  26800   \n",
       "4                             몰스킨</b> 클래식노트 플레인 하드 L  19930   \n",
       "\n",
       "                                                link mall  \n",
       "0  https://search.shopping.naver.com/gate.nhn?id=...  네이버  \n",
       "1  https://search.shopping.naver.com/gate.nhn?id=...  네이버  \n",
       "2  https://search.shopping.naver.com/gate.nhn?id=...  네이버  \n",
       "3  https://search.shopping.naver.com/gate.nhn?id=...  에코펜  \n",
       "4  https://search.shopping.naver.com/gate.nhn?id=...  네이버  "
      ]
     },
     "metadata": {},
     "execution_count": 44
    }
   ],
   "metadata": {}
  },
  {
   "cell_type": "markdown",
   "source": [
    "## (5) acMain()\r\n",
    "    - 데이터를 모으는 작업"
   ],
   "metadata": {}
  },
  {
   "cell_type": "code",
   "execution_count": 48,
   "source": [
    "for n in range(1,1000,100):\r\n",
    "    print(n, end=\" \")"
   ],
   "outputs": [
    {
     "output_type": "stream",
     "name": "stdout",
     "text": [
      "1 101 201 301 401 501 601 701 801 901 "
     ]
    }
   ],
   "metadata": {}
  },
  {
   "cell_type": "code",
   "execution_count": 57,
   "source": [
    "result_mol = []\r\n",
    "for n in range(1,1000,100):\r\n",
    "    url = gen_search_url(\"shop\", \"몰스킨\", n,100) #n페이지부터 100개 ( 1~ 100, 101~200)\r\n",
    "    json_result = get_result_onpage(url) #받은 내용을 json으로 넣기\r\n",
    "    pd_result = get_fields(json_result) #데이터 프레임으로 바꾸기\r\n",
    "\r\n",
    "    result_mol.append(pd_result)\r\n",
    "\r\n",
    "result_mol = pd.concat(result_mol)"
   ],
   "outputs": [
    {
     "output_type": "stream",
     "name": "stdout",
     "text": [
      "[2021-10-12 17:00:53.848048] Url Request Success\n",
      "[2021-10-12 17:00:54.174221] Url Request Success\n",
      "[2021-10-12 17:00:54.342022] Url Request Success\n",
      "[2021-10-12 17:00:54.687125] Url Request Success\n",
      "[2021-10-12 17:00:54.995904] Url Request Success\n",
      "[2021-10-12 17:00:55.162920] Url Request Success\n",
      "[2021-10-12 17:00:55.495368] Url Request Success\n",
      "[2021-10-12 17:00:55.826567] Url Request Success\n",
      "[2021-10-12 17:00:56.150506] Url Request Success\n",
      "[2021-10-12 17:00:56.439792] Url Request Success\n"
     ]
    }
   ],
   "metadata": {}
  },
  {
   "cell_type": "code",
   "execution_count": 58,
   "source": [
    "result_mol.info()"
   ],
   "outputs": [
    {
     "output_type": "stream",
     "name": "stdout",
     "text": [
      "<class 'pandas.core.frame.DataFrame'>\n",
      "Int64Index: 1000 entries, 0 to 99\n",
      "Data columns (total 4 columns):\n",
      " #   Column  Non-Null Count  Dtype \n",
      "---  ------  --------------  ----- \n",
      " 0   title   1000 non-null   object\n",
      " 1   lprice  1000 non-null   object\n",
      " 2   link    1000 non-null   object\n",
      " 3   mall    1000 non-null   object\n",
      "dtypes: object(4)\n",
      "memory usage: 39.1+ KB\n"
     ]
    }
   ],
   "metadata": {}
  },
  {
   "cell_type": "code",
   "execution_count": 63,
   "source": [
    "result_mol[result_mol.index==99]"
   ],
   "outputs": [
    {
     "output_type": "execute_result",
     "data": {
      "text/html": [
       "<div>\n",
       "<style scoped>\n",
       "    .dataframe tbody tr th:only-of-type {\n",
       "        vertical-align: middle;\n",
       "    }\n",
       "\n",
       "    .dataframe tbody tr th {\n",
       "        vertical-align: top;\n",
       "    }\n",
       "\n",
       "    .dataframe thead th {\n",
       "        text-align: right;\n",
       "    }\n",
       "</style>\n",
       "<table border=\"1\" class=\"dataframe\">\n",
       "  <thead>\n",
       "    <tr style=\"text-align: right;\">\n",
       "      <th></th>\n",
       "      <th>title</th>\n",
       "      <th>lprice</th>\n",
       "      <th>link</th>\n",
       "      <th>mall</th>\n",
       "    </tr>\n",
       "  </thead>\n",
       "  <tbody>\n",
       "    <tr>\n",
       "      <th>99</th>\n",
       "      <td>몰스킨&lt;/b&gt; 몰스킨&lt;/b&gt; 2022 먼슬리 다이어리 하드커버</td>\n",
       "      <td>34090</td>\n",
       "      <td>https://search.shopping.naver.com/gate.nhn?id=...</td>\n",
       "      <td>네이버</td>\n",
       "    </tr>\n",
       "    <tr>\n",
       "      <th>99</th>\n",
       "      <td>지오투 마이크로 몰스킨&lt;/b&gt; 팬츠 AXPAW20511NYX</td>\n",
       "      <td>62050</td>\n",
       "      <td>https://search.shopping.naver.com/gate.nhn?id=...</td>\n",
       "      <td>네이버</td>\n",
       "    </tr>\n",
       "    <tr>\n",
       "      <th>99</th>\n",
       "      <td>알파 몰스킨&lt;/b&gt; 클래식노트 소프트커버 룰드 130x210mm블랙</td>\n",
       "      <td>17400</td>\n",
       "      <td>https://search.shopping.naver.com/gate.nhn?id=...</td>\n",
       "      <td>네이버</td>\n",
       "    </tr>\n",
       "    <tr>\n",
       "      <th>99</th>\n",
       "      <td>인디안 가을 몰스킨&lt;/b&gt; 셋업바지 MITDAWF9101 55</td>\n",
       "      <td>43000</td>\n",
       "      <td>https://search.shopping.naver.com/gate.nhn?id=...</td>\n",
       "      <td>네이버</td>\n",
       "    </tr>\n",
       "    <tr>\n",
       "      <th>99</th>\n",
       "      <td>몰스킨&lt;/b&gt; T 노마드 컬렉션 메신저 백 코니퍼 그린</td>\n",
       "      <td>136400</td>\n",
       "      <td>https://search.shopping.naver.com/gate.nhn?id=...</td>\n",
       "      <td>네이버</td>\n",
       "    </tr>\n",
       "    <tr>\n",
       "      <th>99</th>\n",
       "      <td>남성 NC06 몰스킨&lt;/b&gt;코듀로이자켓 CDAA6JK3105 5921844</td>\n",
       "      <td>148890</td>\n",
       "      <td>https://search.shopping.naver.com/gate.nhn?id=...</td>\n",
       "      <td>네이버</td>\n",
       "    </tr>\n",
       "    <tr>\n",
       "      <th>99</th>\n",
       "      <td>몰스킨&lt;/b&gt; 21피노키오 룰드 L</td>\n",
       "      <td>41000</td>\n",
       "      <td>https://search.shopping.naver.com/gate.nhn?id=...</td>\n",
       "      <td>네이버</td>\n",
       "    </tr>\n",
       "    <tr>\n",
       "      <th>99</th>\n",
       "      <td>몰스킨&lt;/b&gt; 볼펜 W 클래식 프로 캡 1.0mm 실버그레이</td>\n",
       "      <td>30500</td>\n",
       "      <td>https://search.shopping.naver.com/gate.nhn?id=...</td>\n",
       "      <td>펜샵코리아</td>\n",
       "    </tr>\n",
       "    <tr>\n",
       "      <th>99</th>\n",
       "      <td>몰스킨&lt;/b&gt; T 아이폰11프로-북타입 리딩/블랙</td>\n",
       "      <td>45900</td>\n",
       "      <td>https://search.shopping.naver.com/gate.nhn?id=...</td>\n",
       "      <td>교보핫트랙스</td>\n",
       "    </tr>\n",
       "    <tr>\n",
       "      <th>99</th>\n",
       "      <td>몰스킨&lt;/b&gt; 포스트잇 노트 Pocket Fullcolour (8051272891621)</td>\n",
       "      <td>32000</td>\n",
       "      <td>https://search.shopping.naver.com/gate.nhn?id=...</td>\n",
       "      <td>홍길동</td>\n",
       "    </tr>\n",
       "  </tbody>\n",
       "</table>\n",
       "</div>"
      ],
      "text/plain": [
       "                                                title  lprice  \\\n",
       "99                 몰스킨</b> 몰스킨</b> 2022 먼슬리 다이어리 하드커버   34090   \n",
       "99                  지오투 마이크로 몰스킨</b> 팬츠 AXPAW20511NYX   62050   \n",
       "99              알파 몰스킨</b> 클래식노트 소프트커버 룰드 130x210mm블랙   17400   \n",
       "99                 인디안 가을 몰스킨</b> 셋업바지 MITDAWF9101 55   43000   \n",
       "99                     몰스킨</b> T 노마드 컬렉션 메신저 백 코니퍼 그린  136400   \n",
       "99          남성 NC06 몰스킨</b>코듀로이자켓 CDAA6JK3105 5921844  148890   \n",
       "99                                몰스킨</b> 21피노키오 룰드 L   41000   \n",
       "99                  몰스킨</b> 볼펜 W 클래식 프로 캡 1.0mm 실버그레이   30500   \n",
       "99                        몰스킨</b> T 아이폰11프로-북타입 리딩/블랙   45900   \n",
       "99  몰스킨</b> 포스트잇 노트 Pocket Fullcolour (8051272891621)   32000   \n",
       "\n",
       "                                                 link    mall  \n",
       "99  https://search.shopping.naver.com/gate.nhn?id=...     네이버  \n",
       "99  https://search.shopping.naver.com/gate.nhn?id=...     네이버  \n",
       "99  https://search.shopping.naver.com/gate.nhn?id=...     네이버  \n",
       "99  https://search.shopping.naver.com/gate.nhn?id=...     네이버  \n",
       "99  https://search.shopping.naver.com/gate.nhn?id=...     네이버  \n",
       "99  https://search.shopping.naver.com/gate.nhn?id=...     네이버  \n",
       "99  https://search.shopping.naver.com/gate.nhn?id=...     네이버  \n",
       "99  https://search.shopping.naver.com/gate.nhn?id=...   펜샵코리아  \n",
       "99  https://search.shopping.naver.com/gate.nhn?id=...  교보핫트랙스  \n",
       "99  https://search.shopping.naver.com/gate.nhn?id=...     홍길동  "
      ]
     },
     "metadata": {},
     "execution_count": 63
    }
   ],
   "metadata": {}
  },
  {
   "cell_type": "code",
   "execution_count": 64,
   "source": [
    "# index 수정\r\n",
    "result_mol.reset_index(drop=True, inplace=True)\r\n",
    "result_mol.info()"
   ],
   "outputs": [
    {
     "output_type": "stream",
     "name": "stdout",
     "text": [
      "<class 'pandas.core.frame.DataFrame'>\n",
      "RangeIndex: 1000 entries, 0 to 999\n",
      "Data columns (total 4 columns):\n",
      " #   Column  Non-Null Count  Dtype \n",
      "---  ------  --------------  ----- \n",
      " 0   title   1000 non-null   object\n",
      " 1   lprice  1000 non-null   object\n",
      " 2   link    1000 non-null   object\n",
      " 3   mall    1000 non-null   object\n",
      "dtypes: object(4)\n",
      "memory usage: 31.4+ KB\n"
     ]
    }
   ],
   "metadata": {}
  },
  {
   "cell_type": "code",
   "execution_count": 65,
   "source": [
    "result_mol[\"lprice\"] = result_mol[\"lprice\"].astype(\"float\")\r\n",
    "result_mol.info()"
   ],
   "outputs": [
    {
     "output_type": "stream",
     "name": "stdout",
     "text": [
      "<class 'pandas.core.frame.DataFrame'>\n",
      "RangeIndex: 1000 entries, 0 to 999\n",
      "Data columns (total 4 columns):\n",
      " #   Column  Non-Null Count  Dtype  \n",
      "---  ------  --------------  -----  \n",
      " 0   title   1000 non-null   object \n",
      " 1   lprice  1000 non-null   float64\n",
      " 2   link    1000 non-null   object \n",
      " 3   mall    1000 non-null   object \n",
      "dtypes: float64(1), object(3)\n",
      "memory usage: 31.4+ KB\n"
     ]
    }
   ],
   "metadata": {}
  },
  {
   "cell_type": "markdown",
   "source": [
    "---"
   ],
   "metadata": {}
  },
  {
   "cell_type": "markdown",
   "source": [
    "## (5) to_excel()\r\n",
    "    - !pip install xlsxwriter"
   ],
   "metadata": {}
  },
  {
   "cell_type": "code",
   "execution_count": 70,
   "source": [
    "# 이런 코드를 쓰면 저렇게 저장되는구나\r\n",
    "# 파이썬을 활용해서 excel 다루기(여기서는 저장하는법)\r\n",
    "writer = pd.ExcelWriter(\"../data/06_molskin_diary_in_naver_shop.xlsx\",engine=\"xlsxwriter\")\r\n",
    "result_mol.to_excel(writer, sheet_name=\"Sheet1\")\r\n",
    "\r\n",
    "workbook = writer.book \r\n",
    "worksheet = writer.sheets[\"Sheet1\"]\r\n",
    "worksheet.set_column(\"A:A\", 4) #가로 너비:4\r\n",
    "worksheet.set_column(\"B:B\", 100) \r\n",
    "worksheet.set_column(\"C:C\", 10) \r\n",
    "worksheet.set_column(\"D:D\", 100) \r\n",
    "worksheet.set_column(\"E:E\", 10) \r\n",
    "worksheet.set_column(\"F:F\", 10) \r\n",
    "\r\n",
    "worksheet.conditional_format(\"C2:C1001\", {\"type\" : \"3_color_scale\"})\r\n",
    "writer.save()"
   ],
   "outputs": [],
   "metadata": {}
  },
  {
   "cell_type": "code",
   "execution_count": 72,
   "source": [
    "## (6) 시각화\r\n",
    "import set_matplotlib_hangul"
   ],
   "outputs": [
    {
     "output_type": "stream",
     "name": "stdout",
     "text": [
      "Hangul OK in your Windows!!!\n"
     ]
    }
   ],
   "metadata": {}
  },
  {
   "cell_type": "code",
   "execution_count": 75,
   "source": [
    "# 어디서 가장많이 검색이 되었나...\r\n",
    "import matplotlib.pyplot as plt\r\n",
    "import seaborn as sns\r\n",
    "plt.figure(figsize=(15,6))\r\n",
    "sns.countplot(\r\n",
    "    result_mol[\"mall\"], #x축\r\n",
    "    data= result_mol,\r\n",
    "    palette =  \"RdYlGn\",\r\n",
    "    order = result_mol[\"mall\"].value_counts().index, #갯수\r\n",
    ")\r\n",
    "plt.xticks(rotation=90) #x축 라벨 세우기\r\n",
    "plt.show();"
   ],
   "outputs": [
    {
     "output_type": "stream",
     "name": "stderr",
     "text": [
      "C:\\Users\\82103\\anaconda3\\envs\\ds_study\\lib\\site-packages\\seaborn\\_decorators.py:36: FutureWarning: Pass the following variable as a keyword arg: x. From version 0.12, the only valid positional argument will be `data`, and passing other arguments without an explicit keyword will result in an error or misinterpretation.\n",
      "  warnings.warn(\n"
     ]
    },
    {
     "output_type": "display_data",
     "data": {
      "image/png": "[encoded data removed]",
      "text/plain": [
       "<Figure size 1080x432 with 1 Axes>"
      ]
     },
     "metadata": {
      "needs_background": "light"
     }
    }
   ],
   "metadata": {}
  },
  {
   "cell_type": "code",
   "execution_count": null,
   "source": [],
   "outputs": [],
   "metadata": {}
  }
 ],
 "metadata": {
  "orig_nbformat": 4,
  "language_info": {
   "name": "python",
   "version": "3.8.11",
   "mimetype": "text/x-python",
   "codemirror_mode": {
    "name": "ipython",
    "version": 3
   },
   "pygments_lexer": "ipython3",
   "nbconvert_exporter": "python",
   "file_extension": ".py"
  },
  "kernelspec": {
   "name": "python3",
   "display_name": "Python 3.8.11 64-bit ('ds_study': conda)"
  },
  "interpreter": {
   "hash": "d8192d1526d22653b4040b7ed404c33aff51a56366fc1a63d634c0af7b796663"
  }
 },
 "nbformat": 4,
 "nbformat_minor": 2
}